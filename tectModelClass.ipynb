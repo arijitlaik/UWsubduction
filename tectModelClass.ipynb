{
 "cells": [
  {
   "cell_type": "code",
   "execution_count": 1,
   "metadata": {
    "collapsed": true,
    "deletable": true,
    "editable": true
   },
   "outputs": [],
   "source": [
    "import numpy as np\n",
    "import underworld as uw\n",
    "from underworld import function as fn\n",
    "import glucifer\n",
    "from easydict import EasyDict as edict\n",
    "import networkx as nx\n",
    "import operator\n"
   ]
  },
  {
   "cell_type": "code",
   "execution_count": 2,
   "metadata": {
    "collapsed": true,
    "deletable": true,
    "editable": true
   },
   "outputs": [],
   "source": [
    "mesh = uw.mesh.FeMesh_Cartesian( elementType = (\"Q1\"), \n",
    "                                 elementRes  = (96, 48), \n",
    "                                 minCoord    = (-1.0, 0.0), \n",
    "                                 maxCoord    = (1.0, 1.0) )\n",
    "\n",
    "\n",
    "temperatureField = uw.mesh.MeshVariable( mesh=mesh, nodeDofCount=1 )\n",
    "velocityField = uw.mesh.MeshVariable( mesh=mesh, nodeDofCount=2 )\n",
    "coordinate = fn.input()\n"
   ]
  },
  {
   "cell_type": "code",
   "execution_count": 3,
   "metadata": {
    "collapsed": false,
    "deletable": true,
    "editable": true
   },
   "outputs": [],
   "source": [
    "class szModel(object):\n",
    "    def __init__(self, mesh,tField, vField):\n",
    "        self.mesh = mesh\n",
    "        self.temperatureField = tField\n",
    "        self.velocityField = vField\n",
    "        #basic coordinate fns\n",
    "        coordinate = fn.input()\n",
    "        self.xFn = coordinate[0]  #a function providing the x-coordinate\n",
    "        self.yFn = coordinate[1]\n",
    "        self.depthFn = self.mesh.maxCoord[1] - coordinate[1] #a function providing the depth\n",
    "        #basic mesh variables\n",
    "        \n"
   ]
  },
  {
   "cell_type": "code",
   "execution_count": 4,
   "metadata": {
    "collapsed": false,
    "deletable": true,
    "editable": true
   },
   "outputs": [],
   "source": [
    "#szm = szModel(mesh,  temperatureField, velocityField)\n",
    "#szm.mesh.minCoord[0]"
   ]
  },
  {
   "cell_type": "markdown",
   "metadata": {
    "deletable": true,
    "editable": true
   },
   "source": [
    "## tectModel based on networkx"
   ]
  },
  {
   "cell_type": "code",
   "execution_count": 385,
   "metadata": {
    "collapsed": false,
    "deletable": true,
    "editable": true
   },
   "outputs": [],
   "source": [
    "class TectModel(nx.DiGraph):\n",
    "    \n",
    "    \n",
    "    def __init__(self, mesh, starttime, endtime, dt):\n",
    "        \n",
    "        ########Trying various ways to init the parent class\n",
    "        #super(nx.DiGraph, self).__init__(*args)\n",
    "        #super().__init__(*args) \n",
    "        nx.DiGraph.__init__(self) \n",
    "        ################################\n",
    "        \n",
    "        self.times = np.arange(starttime, endtime, dt)\n",
    "        #self.add_node('times', times=self.times)\n",
    "        self.plateIdUsedList = []\n",
    "        self.plateIdDefaultList = list(np.arange(1, 101))\n",
    "        \n",
    "        #mesh and coordinate functions\n",
    "        self.mesh = mesh\n",
    "        self._coordinate = fn.input()\n",
    "        self._xFn = self._coordinate[0]\n",
    "    \n",
    "\n",
    "    #using getters as I'm unsure how this part of the code may evolve,\n",
    "    #i.e. the coupling between underworld objects and the current Class\n",
    "    \n",
    "    @property\n",
    "    def xFn(self): \n",
    "        return self._xFn\n",
    "    \n",
    "    @property\n",
    "    def minX(self): \n",
    "        return self.mesh.minCoord[0]\n",
    "    \n",
    "    @property\n",
    "    def maxX(self): \n",
    "        return self.mesh.maxCoord[0]\n",
    "    \n",
    "    @property\n",
    "    def undirected(self): \n",
    "        return self.to_undirected()\n",
    "    \n",
    "    \n",
    "    \n",
    "    ################################# \n",
    "    #Read from Dict function to allow checkpointing\n",
    "    #################################  \n",
    "    def pop_from_dict_of_lists(self, d):\n",
    "\n",
    "        \"\"\"Return a graph from a dictionary of lists.\n",
    "        Adapted from the networkX function\n",
    "\n",
    "        \"\"\"\n",
    "\n",
    "        self.add_nodes_from(d)\n",
    "        self.add_edges_from(((u, v, data)\n",
    "                              for u, nbrs in d.items()\n",
    "                              for v, data in nbrs.items()))\n",
    "\n",
    "\n",
    "    #################################        \n",
    "    ##General graph query / utilities \n",
    "    ################################# \n",
    "    \n",
    "    def connected_plates(self, plateId):\n",
    "        \n",
    "        #return (list(set([x for x in nx.all_neighbors(self, plateId)])))\n",
    "        return self.undirected.neighbors(plateId)\n",
    "        \n",
    "    \n",
    "    def is_subduction_boundary(self, plate1, plate2):\n",
    "        result = False\n",
    "        \n",
    "        #possible options are: no connection between nodes (False, False)\n",
    "        #           :  two way connecrion (ridge) (True, True)\n",
    "        #           : one way connection (Truem False) ....\n",
    "        \n",
    "        if self.has_edge(plate1, plate2) != tg.has_edge(plate2, plate1):\n",
    "            result = True            \n",
    "        return result\n",
    "        \n",
    "    \n",
    "    def is_subducting_plate(self, plateId):\n",
    "        pass\n",
    "    \n",
    "    def has_self_loop(self, plateId):\n",
    "        pass\n",
    "    \n",
    "    \n",
    "    def get_boundaries(self, plateId):\n",
    "        \n",
    "        \"\"\"\n",
    "        Use the undirected graph\n",
    "        \"\"\"\n",
    "        \n",
    "        if len(self.connected_plates(plateId)) == 2:\n",
    "\n",
    "            \n",
    "            cps = self.connected_plates(plateId)\n",
    "            #cps = self.undirected.neighbors(plateId)\n",
    "            print(cps)\n",
    "            loc1 = self.undirected[plateId][cps[0]]['loc']\n",
    "            loc2 = self.undirected[plateId][cps[1]]['loc']   \n",
    "            return [loc1, loc2]\n",
    "                \n",
    "        else:\n",
    "            print('plate does not have 2 boundaries. Cannot define extent.')\n",
    "            return []\n",
    "\n",
    "    #################################     \n",
    "    ##Adding plates / plate boundaries\n",
    "    #################################   \n",
    "    \n",
    "    def add_plate(self, ID = False, velocities = []):\n",
    "        if type(velocities) == int or type(velocities) == float:\n",
    "            vels = np.ones(len(self.times ))*velocities\n",
    "        elif len(velocities) == len(self.times ):\n",
    "            vels = velocities\n",
    "        elif len(velocities) != len(self.times ):\n",
    "            raise ValueError(\"velocities must be a single float/int or list/array of length self.times \")\n",
    "        \n",
    "        \n",
    "        if not ID:\n",
    "            ID = self.plateIdDefaultList[0]\n",
    "        \n",
    "        if ID not in self.plateIdUsedList:\n",
    "            self.add_node(ID, velocities= vels)\n",
    "            self.plateIdUsedList.append(ID)\n",
    "            self.plateIdDefaultList.remove(ID)\n",
    "        else:\n",
    "            raise ValueError(\"plate ID already assigned\")\n",
    "        \n",
    "    def add_subzone(self, subPlate, upperPlate, loc, subInitAge=0.0, upperInitAge=0.0):\n",
    "        \n",
    "        #check whether the plate boundary can be simply inserted\n",
    "        if len(self.connected_plates(subPlate)) <=2 and len(self.connected_plates(upperPlate)) <=2 : \n",
    "\n",
    "            self.add_edge(subPlate, upperPlate, \n",
    "                          loc= loc,\n",
    "                          ages = {subPlate:subInitAge, \n",
    "                                  upperPlate:upperInitAge})\n",
    "        else:\n",
    "            print('plate already has 2 boundaries. Wait for plate transfer to be implemented')\n",
    "        \n",
    "    def add_ridge(self, plate1, plate2, loc, plate1InitAge=0.0, plate2InitAge=0.0):\n",
    "        \n",
    "        #check whether the plate boundary can be simply inserted\n",
    "        if len(self.connected_plates(plate1)) <=2 and len(self.connected_plates(plate2)) <=2: \n",
    "            \n",
    "            #note that if plate1 == plate2, there will only be one entry in teh age dictionary\n",
    "                          \n",
    "            self.add_edge(plate1, plate2, loc= loc, \n",
    "                          ages = {plate1:plate1InitAge, \n",
    "                                  plate2:plate2InitAge})\n",
    "            self.add_edge(plate2, plate1, loc= loc, ages = {plate1:plate1InitAge, \n",
    "                                  plate2:plate2InitAge})\n",
    "        else:\n",
    "            print('plate already has 2 boundaries. Wait for plate transfer to be implemented')\n",
    "    \n",
    "    def add_left_boundary(self, plate,  plateInitAge=0.0):\n",
    "        \n",
    "        #check whether the plate boundary can be simply inserted\n",
    "        if len(self.connected_plates(plate)) <=2: \n",
    "            \n",
    "            #note that if plate1 == plate2, there will only be one entry in teh age dictionary\n",
    "                          \n",
    "            self.add_edge(plate, plate, loc= self.minX, \n",
    "                          ages = {plate:plateInitAge})\n",
    "        else:\n",
    "            print('plate already has 2 boundaries. Wait for plate transfer to be implemented')\n",
    "    \n",
    "    def add_right_boundary(self, plate,  plateInitAge=0.0):\n",
    "        \n",
    "        #check whether the plate boundary can be simply inserted\n",
    "        if len(self.connected_plates(plate)) <=2: \n",
    "            \n",
    "            #note that if plate1 == plate2, there will only be one entry in teh age dictionary\n",
    "                          \n",
    "            self.add_edge(plate, plate, loc= self.maxX, \n",
    "                          ages = {plate:plateInitAge})\n",
    "        else:\n",
    "            print('plate already has 2 boundaries. Wait for plate transfer to be implemented')\n",
    "        \n",
    "    \n",
    "    #################################     \n",
    "    ##Functions...\n",
    "    ################################# \n",
    "        \n",
    "        \n",
    "    def plate_id_fn(self, boundtol=1e-5):\n",
    "\n",
    "        condList = []\n",
    "        for n in self.nodes():\n",
    "            bounds  = np.sort(self.get_boundaries(n))\n",
    "\n",
    "            #edgetol = 1e-4\n",
    "            if fn.math.abs(bounds[0] - self.minX) < boundtol:\n",
    "                lb = bounds[0] - boundtol\n",
    "            else:\n",
    "                lb = bounds[0]\n",
    "\n",
    "            if fn.math.abs(bounds[1] - self.maxX) > boundtol:\n",
    "                ub = bounds[1] + boundtol\n",
    "            else:\n",
    "                ub = bounds[1]\n",
    "\n",
    "            cond = operator.and_(self.xFn >= lb, self.xFn < ub)\n",
    "            condList.append((cond, n))\n",
    "        condList.append((True, -99))\n",
    "\n",
    "        idFn = fn.branching.conditional( condList)\n",
    "        return idFn\n",
    "    \n",
    "    \n",
    "    def plate_age_fn(self):\n",
    "        \"\"\"\n",
    "        provides a plate age 'field' based on linear interpolation between\n",
    "        ages provided at boundary locations.\n",
    "        \n",
    "        returns a dictionary of functions, so that individual parts of the plate age can be altered\n",
    "        \n",
    "        The dictionary can be used in conjuction with the plate ID function (plate_id_fn()) \n",
    "        to produce the piecewise plate age \n",
    "        \n",
    "        Here, we iterate through an undireted version of the graph, which is simpler\n",
    "        \n",
    "        \"\"\"\n",
    "        ageFnDict = {0:fn.misc.constant(0.)}\n",
    "        \n",
    "        uG = self.undirected\n",
    "        \n",
    "        for n in uG.nodes():\n",
    "            ns = uG.neighbors(n)\n",
    "            locAge1 = (uG[n][ns[0]]['loc'],  uG[n][ns[0]]['ages'][n])\n",
    "            locAge2 = (uG[n][ns[1]]['loc'],  uG[n][ns[1]]['ages'][n])\n",
    "\n",
    "            #Age gradient\n",
    "            Agrad = (locAge2[1] - locAge1[1])/(locAge2[0] - locAge1[0])\n",
    "            \n",
    "            ageFn=  locAge1[1] + Agrad*(self.xFn - locAge1[0])\n",
    "            ageFnDict[n] = ageFn\n",
    "        \n",
    "        return ageFnDict \n",
    "    \n",
    "    \n",
    "    #def boundary_rFn(self, plate1, plate2):\n",
    "    # \n",
    "    #    pass\n",
    "        \n"
   ]
  },
  {
   "cell_type": "code",
   "execution_count": 386,
   "metadata": {
    "collapsed": false,
    "deletable": true,
    "editable": true
   },
   "outputs": [],
   "source": [
    "#Little toy model, 3 plates\n",
    "############################\n",
    "#-1        0.0  0.5    1.0\n",
    "######1##### ###2###  ##3##\n",
    "            #\n",
    "             #\n",
    "###########################\n",
    "\n",
    "tg = TectModel(mesh, 0, 20, 1)\n",
    "\n",
    "tg.add_plate(1, velocities = 1)\n",
    "tg.add_plate(2,velocities = -1)\n",
    "tg.add_plate(3, velocities = 0)\n",
    "        \n",
    "tg.add_left_boundary(1)\n",
    "tg.add_subzone(1, 2, 0.0, subInitAge=50.0, upperInitAge=10.0)\n",
    "tg.add_ridge(2, 3, 0.5)\n",
    "tg.add_right_boundary(3, 30.)"
   ]
  },
  {
   "cell_type": "code",
   "execution_count": 387,
   "metadata": {
    "collapsed": false
   },
   "outputs": [
    {
     "data": {
      "text/plain": [
       "False"
      ]
     },
     "execution_count": 387,
     "metadata": {},
     "output_type": "execute_result"
    }
   ],
   "source": [
    "tg.is_subduction_boundary(2,3)"
   ]
  },
  {
   "cell_type": "code",
   "execution_count": 388,
   "metadata": {
    "collapsed": false
   },
   "outputs": [
    {
     "data": {
      "text/plain": [
       "[2, 3]"
      ]
     },
     "execution_count": 388,
     "metadata": {},
     "output_type": "execute_result"
    }
   ],
   "source": [
    "tg.undirected.neighbors(3)"
   ]
  },
  {
   "cell_type": "code",
   "execution_count": 389,
   "metadata": {
    "collapsed": false
   },
   "outputs": [],
   "source": [
    "tgUD = tg.to_undirected()"
   ]
  },
  {
   "cell_type": "code",
   "execution_count": 390,
   "metadata": {
    "collapsed": false
   },
   "outputs": [
    {
     "data": {
      "text/plain": [
       "({1: {'ages': {1: 50.0, 2: 10.0}, 'loc': 0.0},\n",
       "  3: {'ages': {2: 0.0, 3: 0.0}, 'loc': 0.5}},\n",
       " {3: {'ages': {2: 0.0, 3: 0.0}, 'loc': 0.5}})"
      ]
     },
     "execution_count": 390,
     "metadata": {},
     "output_type": "execute_result"
    }
   ],
   "source": [
    "tgUD[2], tg[2]"
   ]
  },
  {
   "cell_type": "code",
   "execution_count": 391,
   "metadata": {
    "collapsed": false,
    "deletable": true,
    "editable": true
   },
   "outputs": [
    {
     "name": "stdout",
     "output_type": "stream",
     "text": [
      "1\n",
      "[1, 2]\n",
      "('plate 1', array([-1.,  0.]))\n",
      "2\n",
      "[1, 3]\n",
      "('plate 2', array([ 0. ,  0.5]))\n",
      "3\n",
      "[2, 3]\n",
      "('plate 3', array([ 0.5,  1. ]))\n"
     ]
    }
   ],
   "source": [
    "for n in tg.nodes():\n",
    "    print(n)\n",
    "    bounds  = np.sort(tg.get_boundaries(n))\n",
    "    print('plate {}'.format(n), bounds)"
   ]
  },
  {
   "cell_type": "code",
   "execution_count": 392,
   "metadata": {
    "collapsed": false
   },
   "outputs": [
    {
     "name": "stdout",
     "output_type": "stream",
     "text": [
      "[1, 2]\n"
     ]
    },
    {
     "data": {
      "text/plain": [
       "[-1.0, 0.0]"
      ]
     },
     "execution_count": 392,
     "metadata": {},
     "output_type": "execute_result"
    }
   ],
   "source": [
    "tg.get_boundaries(1)"
   ]
  },
  {
   "cell_type": "code",
   "execution_count": 393,
   "metadata": {
    "collapsed": false,
    "deletable": true,
    "editable": true
   },
   "outputs": [
    {
     "name": "stdout",
     "output_type": "stream",
     "text": [
      "[1, 2]\n",
      "[1, 3]\n",
      "[2, 3]\n"
     ]
    }
   ],
   "source": [
    "pIdFn = tg.plate_id_fn()\n"
   ]
  },
  {
   "cell_type": "code",
   "execution_count": 394,
   "metadata": {
    "collapsed": false,
    "deletable": true,
    "editable": true
   },
   "outputs": [
    {
     "data": {
      "text/html": [
       "<img src='data:image/png;base64,iVBORw0KGgoAAAANSUhEUgAAAZAAAADICAIAAABJdyC1AAAD8UlEQVR4nO3dS05cRxiA0fpb3ohn8Ta8gGzMA+/MIjvwLJlk4JlnlUFCAghicFDKH5wjBtXoPqqR+tN96Daz914ABZfTEwB4LMECMgQLyBAsIEOwgAzBAjIEC8gQLCBDsIAMwQIyBAvIECwgQ7CADMECMgQLyBAsIEOwgAzBAjIEC8gQLCBDsIAMwQIyBAvIECwgQ7CADMECMgQLyBAsIEOwgAzBAjIEC8gQLCDjzekJPKeZOT0F+OHsvU9P4dm8nGDNzE8fr07PgrXWev/2y8/vfn//9svpifw3X79ePl1dPv0yv/52eirfbz58Pj2F5+SUEMgQLCBDsIAMwQIyBAvIECwgQ7CADMECMgQLyBAsIEOwgAzBAjIEC8gQLCBDsIAMwQIyBAvIECwgQ7CADMECMgQLyBAsIEOwgAzBAjIEC8gQLCBDsIAMwQIyBAvIECwgQ7CADMECMgQLyBAsIEOwgAzBAjIEC8gQLCBDsIAMwQIyBAvIECwgQ7CADMECMgQLyBAsIEOwgAzBAjIEC8gQLCBDsIAMwQIyBAvIECwgQ7CADMECMgQLyBAsIEOwgAzBAjIEC8gQLCBDsIAMwQIyBAvIECwgQ7CADMECMgQLyBAsIEOwgAzBAjIEC8gQLCBDsIAMwQIyBAvIECwgQ7CADMECMgQLyBAsIEOwgAzBAjIEC8gQLCBDsIAMwQIyBAvIECwgQ7CADMECMgQLyBAsIEOwgAzBAjIEC8gQLCBDsIAMwQIyBAvIECwgQ7CADMECMgQLyBAsIEOwgAzBAjIEC8gQLCBDsIAMwQIyBAvIECwgQ7CADMECMgQLyBAsIEOwgAzBAjIEC8gQLCBDsIAMwQIyBAvIECwgQ7CADMECMgQLyBAsIGP23qfn8Dxm5vQU4Ef0Yj7j6yUFC3jxnBICGYIFZAgWkCFYQMabI3t1Rw/qjtyvOxOstda7j1cza2Zf1npoMGtdZs2sWfvu4J7l12XtO4MbK67L7EcMbu731mDmUYtdHp75zLrcGqyZ/YjBP/v99mLfHvw1gXv/XJe1ZvatwcMzv3/568Gstfa+8bPWuv1y7xu/uV547bXXfOeKN15eb+pJ25n7V9zrCe/lXybw4HZm3173Od7LY7Yzdzf1+Ans+fD5SDecEgIZggVkCBaQIVhAhmABGYIFZAgWkCFYQIZgARlnvg/LozlQ97oezfHFgdB16pjDKSGQIVhAhmABGf4JBZBx5gjLXULomplXdNFdraBrZvbee+8jH+QDwXISCl1nP78uugNP9udx1v+/X8ECnuwVnRICXWevQR97NAco+vvY6sxjyC6BAxVOCYEMwQIyBAvIECwg4w+9FoGdSnKRGwAAAABJRU5ErkJggg=='>"
      ],
      "text/plain": [
       "<IPython.core.display.HTML object>"
      ]
     },
     "metadata": {},
     "output_type": "display_data"
    }
   ],
   "source": [
    "fig = glucifer.Figure(figsize=(400, 200))\n",
    "fig.append( glucifer.objects.Surface(tg.mesh, pIdFn))\n",
    "fig.show()"
   ]
  },
  {
   "cell_type": "code",
   "execution_count": 395,
   "metadata": {
    "collapsed": false
   },
   "outputs": [
    {
     "data": {
      "text/plain": [
       "[1, 3]"
      ]
     },
     "execution_count": 395,
     "metadata": {},
     "output_type": "execute_result"
    }
   ],
   "source": [
    "tg.undirected.neighbors(2)"
   ]
  },
  {
   "cell_type": "code",
   "execution_count": 396,
   "metadata": {
    "collapsed": false
   },
   "outputs": [
    {
     "name": "stdout",
     "output_type": "stream",
     "text": [
      "(1, (-1.0, 0.0), (0.0, 50.0))\n",
      "(2, (0.0, 10.0), (0.5, 0.0))\n",
      "(3, (0.5, 0.0), (1.0, 30.0))\n"
     ]
    }
   ],
   "source": [
    "pAgeDict = tg.plate_age_fn() "
   ]
  },
  {
   "cell_type": "code",
   "execution_count": 397,
   "metadata": {
    "collapsed": false
   },
   "outputs": [
    {
     "data": {
      "text/plain": [
       "{0: <underworld.function.misc.constant at 0x7f554c065d90>,\n",
       " 1: <underworld.function._function.add at 0x7f5547fbee90>,\n",
       " 2: <underworld.function._function.add at 0x7f554c06d390>,\n",
       " 3: <underworld.function._function.add at 0x7f554c06da50>}"
      ]
     },
     "execution_count": 397,
     "metadata": {},
     "output_type": "execute_result"
    }
   ],
   "source": [
    "pAgeDict"
   ]
  },
  {
   "cell_type": "code",
   "execution_count": 398,
   "metadata": {
    "collapsed": false
   },
   "outputs": [],
   "source": [
    "\n",
    "\n",
    "fnAge_map = fn.branching.map(fn_key = pIdFn , \n",
    "                          mapping = pAgeDict )"
   ]
  },
  {
   "cell_type": "code",
   "execution_count": 399,
   "metadata": {
    "collapsed": false
   },
   "outputs": [
    {
     "data": {
      "text/html": [
       "<img src='data:image/png;base64,iVBORw0KGgoAAAANSUhEUgAAAZAAAADICAIAAABJdyC1AAAE8UlEQVR4nO3dMXLbVhSG0XtBZglpUqR36TY7yxpSJCvLuHObjQg3BSUapEWZytCmfuWc4WieMA+PkDn4BhAluWemABIs9z4AgGsJFhBDsIAYggXEECwghmABMQQLiCFYQAzBAmIIFhBDsIAYggXEECwghmABMQQLiCFYQAzBAmIIFhBDsIAYggXEECwghmABMQQLiCFYQAzBAmIIFhBDsIAYggXEECwghmABMQQLiCFYQIz9vQ/glrr73ocAb87M3PsQbub9BKu7P/z1adezW2bfs1vqMN4tsz+Oe3ZL7b/avl9m13XYuOvZL6fjzb6PO56uc3yu4/Puz7Yvs+vaL5t1ntu+9Cw1S621rrVOrevJ4+Gh1rVmal3r4XFjf5lwmP9wvtfpOn3c93Gd6+ev2+d9af66fv7549+//Pb5548zNdNrHT/WVM/UOjVTh+0zNVXr9BwmHOfPYf7x49n24zrHlQ9r9syz6/Rmzgvr9GZO7frLK7XfzX6Z/dPrtT8+Lm1/fFzaPpvtdWH75nFYf3c6rWbX61Lz5XV8OH1NHx5++vX3e5+at+SWEIghWEAMwQJiCBYQQ7CAGIIFxBAsIIZgATEEC4ghWEAMwQJiCBYQQ7CAGIIFxBAsIIZgATEEC4ghWEAMwQJiCBYQQ7CAGIIFxBAsIIZgATEEC4ghWEAMwQJiCBYQQ7CAGIIFxBAsIIZgATEEC4ghWEAMwQJiCBYQQ7CAGIIFxBAsIIZgATEEC4ghWEAMwQJiCBYQQ7CAGIIFxBAsIIZgATEEC4ghWEAMwQJiCBYQQ7CAGIIFxBAsIIZgATEEC4ghWEAMwQJiCBYQQ7CAGIIFxBAsIIZgATEEC4ghWEAMwQJiCBYQQ7CAGIIFxBAsIIZgATEEC4ghWEAMwQJiCBYQQ7CAGIIFxBAsIIZgATEEC4ghWEAMwQJiCBYQQ7CAGIIFxBAsIIZgATEEC4ghWEAMwQJiCBYQQ7CAGIIFxBAsIIZgATEEC4ghWEAMwQJiCBYQQ7CAGIIFxBAsIIZgATEEC4ghWEAMwQJiCBYQQ7CAGIIFxBAsIIZgATEEC4ghWEAMwQJiCBYQQ7CAGIIFxBAsIIZgATEEC4ghWEAMwQJiCBYQQ7CAGIIFxBAsIIZgATEEC4ghWECMnpl7H8NtdPe9DwHeondzjtd7Chbw7rklBGIIFhBDsIAYggXE2N/lWb2jB+nu8n7dfYJVVR/+/NRd3bNUXRp01dLVXV1zPnhmfi01Z4PNjrX0XDHYPu/JoPuqacvlI++u5WRQ3XPF4MvzfnvatwePB/DsP9dS1T0ng8tH/vz8p0FX1czmUVWnn85stjxNrqmp/o87bj59WupV6/TzO0694mt54QAurtNzuu8tvpZr1unzpa4/gOk//rlLN9wSAjEEC4ghWEAMwQJiCBYQQ7CAGIIFxBAsIIZgATHu8/ew/GoOpPt//WqOPxwIue51zeGWEIghWEAMwQJi+E8ogBh3uMLqbu8Swtt0dm6+fLa+PLk3bnV4P/pdwu7Ha7rjAHgjvg7QC2frNZNvfo77Hhbwvdz8dupuP4cFvCmHK6NtX84+fe3k4+XVDW+nXGEBjw7FOcvQpda8avKtCBZQtcnNNdG5ZvL3eG/tR98SHq8bfccd3r6zs/Xlm7uzyd/jZPdWHRDDLSEQQ7CAGIIFxBAsIMa/d8Ec1JMWkSkAAAAASUVORK5CYII='>"
      ],
      "text/plain": [
       "<IPython.core.display.HTML object>"
      ]
     },
     "metadata": {},
     "output_type": "display_data"
    }
   ],
   "source": [
    "fig = glucifer.Figure(figsize=(400, 200))\n",
    "fig.append( glucifer.objects.Surface(tg.mesh, fnAge_map))\n",
    "fig.show()"
   ]
  },
  {
   "cell_type": "code",
   "execution_count": 197,
   "metadata": {
    "collapsed": false
   },
   "outputs": [
    {
     "data": {
      "text/plain": [
       "FeMesh_IndexSet([4656, 4657, 4658, 4659, 4660, 4661, 4662, 4663, 4664, 4665, 4666,\n",
       "       4667, 4668, 4669, 4670, 4671, 4672, 4673, 4674, 4675, 4676, 4677,\n",
       "       4678, 4679, 4680, 4681, 4682, 4683, 4684, 4685, 4686, 4687, 4688,\n",
       "       4689, 4690, 4691, 4692, 4693, 4694, 4695, 4696, 4697, 4698, 4699,\n",
       "       4700, 4701, 4702, 4703, 4704, 4705, 4706, 4707, 4708, 4709, 4710,\n",
       "       4711, 4712, 4713, 4714, 4715, 4716, 4717, 4718, 4719, 4720, 4721,\n",
       "       4722, 4723, 4724, 4725, 4726, 4727, 4728, 4729, 4730, 4731, 4732,\n",
       "       4733, 4734, 4735, 4736, 4737, 4738, 4739, 4740, 4741, 4742, 4743,\n",
       "       4744, 4745, 4746, 4747, 4748, 4749, 4750, 4751, 4752])"
      ]
     },
     "execution_count": 197,
     "metadata": {},
     "output_type": "execute_result"
    }
   ],
   "source": []
  },
  {
   "cell_type": "code",
   "execution_count": 199,
   "metadata": {
    "collapsed": false
   },
   "outputs": [
    {
     "name": "stdout",
     "output_type": "stream",
     "text": [
      "Populating the interactive namespace from numpy and matplotlib\n"
     ]
    },
    {
     "data": {
      "text/plain": [
       "[<matplotlib.lines.Line2D at 0x7f55563c9690>]"
      ]
     },
     "execution_count": 199,
     "metadata": {},
     "output_type": "execute_result"
    },
    {
     "data": {
      "image/png": "[encoded data removed]",
      "text/plain": [
       "<matplotlib.figure.Figure at 0x7f556a94e1d0>"
      ]
     },
     "metadata": {},
     "output_type": "display_data"
    }
   ],
   "source": [
    "%pylab inline\n",
    "plt.plot(fnAge_map.evaluate(mesh.specialSets['MaxJ_VertexSet']))"
   ]
  },
  {
   "cell_type": "code",
   "execution_count": 461,
   "metadata": {
    "collapsed": false,
    "deletable": true,
    "editable": true
   },
   "outputs": [],
   "source": [
    "pId = 2\n",
    "\n",
    "\n",
    "\n",
    "bounds  = np.sort(tg.get_boundaries(pId))\n",
    "\n",
    "cond = operator.and_(szm.xFn >= bounds[0], szm.xFn <= bounds[1])\n",
    "#cond =  szm.xFn > bounds[0]\n",
    "\n",
    "plate_fn = fn.branching.conditional(  ( (cond,  1.),\n",
    "                                              (        True, 0.)   ) )\n",
    "\n",
    "dist = 0.061\n",
    "cond1 = operator.or_(  fn.math.abs(bounds[0] - szm.xFn) <= dist, fn.math.abs(bounds[1] - szm.xFn) <= dist)\n",
    "\n",
    "ridgeFn = fn.branching.conditional(  ( (cond1,  1.),\n",
    "                                              (        True, 0.)   ) )"
   ]
  },
  {
   "cell_type": "code",
   "execution_count": 413,
   "metadata": {
    "collapsed": false,
    "deletable": true,
    "editable": true
   },
   "outputs": [],
   "source": [
    "condList = []\n",
    "for n in tg.nodes():\n",
    "    bounds  = np.sort(tg.get_boundaries(n))\n",
    "    \n",
    "    edgetol = 1e-4\n",
    "    if fn.math.abs(bounds[0] - szm.mesh.minCoord[0]) < edgetol:\n",
    "        lb = bounds[0] - edgetol\n",
    "    else:\n",
    "        lb = bounds[0]\n",
    "\n",
    "    if fn.math.abs(bounds[1] - szm.mesh.maxCoord[0]) > edgetol:\n",
    "        ub = bounds[1] + edgetol\n",
    "    else:\n",
    "        ub = bounds[1]\n",
    "    \n",
    "    cond = operator.and_(szm.xFn >= lb, szm.xFn < ub)\n",
    "    condList.append((cond, n))\n",
    "condList.append((True, -99))\n",
    "\n",
    "testFn = fn.branching.conditional( condList)"
   ]
  },
  {
   "cell_type": "code",
   "execution_count": null,
   "metadata": {
    "collapsed": false,
    "deletable": true,
    "editable": true
   },
   "outputs": [],
   "source": []
  },
  {
   "cell_type": "code",
   "execution_count": 414,
   "metadata": {
    "collapsed": true,
    "deletable": true,
    "editable": true
   },
   "outputs": [],
   "source": [
    "##test a mapping dictionary\n",
    "\n",
    "testFn = fn.branching.conditional(  ( (szm.xFn > 0.5,  2),\n",
    "                                              (        True, 1)   ) )\n",
    "\n",
    "fn1 = fn.misc.constant(1.)\n",
    "fn2 = fn.misc.constant(-1.)\n",
    "\n",
    "\n",
    "map_dict = { 1:fn1,\n",
    "              2:fn2}\n",
    "# create function\n",
    "fn_map = fn.branching.map( fn_key = testFn , \n",
    "                          mapping = map_dict )"
   ]
  },
  {
   "cell_type": "code",
   "execution_count": null,
   "metadata": {
    "collapsed": false,
    "deletable": true,
    "editable": true
   },
   "outputs": [],
   "source": []
  },
  {
   "cell_type": "code",
   "execution_count": 415,
   "metadata": {
    "collapsed": true,
    "deletable": true,
    "editable": true
   },
   "outputs": [],
   "source": [
    "def get_plate_bounds(tg, plateId):\n",
    "    tg\n",
    "    "
   ]
  },
  {
   "cell_type": "code",
   "execution_count": 416,
   "metadata": {
    "collapsed": false,
    "deletable": true,
    "editable": true
   },
   "outputs": [],
   "source": [
    "plateId = 3\n",
    "\n",
    "  "
   ]
  },
  {
   "cell_type": "code",
   "execution_count": 417,
   "metadata": {
    "collapsed": false,
    "deletable": true,
    "editable": true
   },
   "outputs": [
    {
     "data": {
      "text/plain": [
       "(0.5, 1.0)"
      ]
     },
     "execution_count": 417,
     "metadata": {},
     "output_type": "execute_result"
    }
   ],
   "source": [
    "loc1, loc2\n",
    "        "
   ]
  },
  {
   "cell_type": "code",
   "execution_count": 418,
   "metadata": {
    "collapsed": false,
    "deletable": true,
    "editable": true
   },
   "outputs": [
    {
     "data": {
      "text/plain": [
       "0.5"
      ]
     },
     "execution_count": 418,
     "metadata": {},
     "output_type": "execute_result"
    }
   ],
   "source": [
    "loc1"
   ]
  },
  {
   "cell_type": "code",
   "execution_count": 419,
   "metadata": {
    "collapsed": false,
    "deletable": true,
    "editable": true
   },
   "outputs": [
    {
     "data": {
      "text/plain": [
       "([(1, 1), (1, 2)], [(1, 1)])"
      ]
     },
     "execution_count": 419,
     "metadata": {},
     "output_type": "execute_result"
    }
   ],
   "source": [
    "#tg.out_edges(1), tg.in_edges(1),  \n",
    "#tg.out_edges(2), tg.in_edges(2)\n",
    "\n",
    "tg.out_edges(1), tg.in_edges(1)"
   ]
  },
  {
   "cell_type": "code",
   "execution_count": 420,
   "metadata": {
    "collapsed": false,
    "deletable": true,
    "editable": true
   },
   "outputs": [],
   "source": [
    "#tg.edge['A']['B']['loc']"
   ]
  },
  {
   "cell_type": "code",
   "execution_count": 421,
   "metadata": {
    "collapsed": false,
    "deletable": true,
    "editable": true
   },
   "outputs": [
    {
     "name": "stdout",
     "output_type": "stream",
     "text": [
      "Populating the interactive namespace from numpy and matplotlib\n"
     ]
    },
    {
     "name": "stderr",
     "output_type": "stream",
     "text": [
      "WARNING: pylab import has clobbered these variables: ['dist', 'plt', 'cond']\n",
      "`%matplotlib` prevents importing * from pylab and numpy\n",
      "/usr/local/lib/python2.7/dist-packages/networkx/drawing/nx_pylab.py:126: MatplotlibDeprecationWarning: pyplot.hold is deprecated.\n",
      "    Future behavior will be consistent with the long-time default:\n",
      "    plot commands add elements without first clearing the\n",
      "    Axes and/or Figure.\n",
      "  b = plt.ishold()\n",
      "/usr/local/lib/python2.7/dist-packages/networkx/drawing/nx_pylab.py:138: MatplotlibDeprecationWarning: pyplot.hold is deprecated.\n",
      "    Future behavior will be consistent with the long-time default:\n",
      "    plot commands add elements without first clearing the\n",
      "    Axes and/or Figure.\n",
      "  plt.hold(b)\n",
      "/usr/local/lib/python2.7/dist-packages/matplotlib/__init__.py:917: UserWarning: axes.hold is deprecated. Please remove it from your matplotlibrc and/or style files.\n",
      "  warnings.warn(self.msg_depr_set % key)\n",
      "/usr/local/lib/python2.7/dist-packages/matplotlib/rcsetup.py:152: UserWarning: axes.hold is deprecated, will be removed in 3.0\n",
      "  warnings.warn(\"axes.hold is deprecated, will be removed in 3.0\")\n"
     ]
    },
    {
     "data": {
      "image/png": "[encoded data removed]",
      "text/plain": [
       "<matplotlib.figure.Figure at 0x7fcea3e8ce10>"
      ]
     },
     "metadata": {},
     "output_type": "display_data"
    }
   ],
   "source": [
    "import pylab as plt\n",
    "%pylab inline\n",
    "nx.draw(tg,  node_size=1600, cmap=plt.cm.Blues,\n",
    "        node_color=range(len(tg)),\n",
    "        prog='dot')\n",
    "plt.show()"
   ]
  },
  {
   "cell_type": "markdown",
   "metadata": {
    "collapsed": true,
    "deletable": true,
    "editable": true
   },
   "source": [
    "## To do\n",
    "\n",
    "* decide on what to do about `shadow plates'\n",
    "\n",
    "* Plate velocity convention (no vels)\n",
    "    * could be NaN\n",
    "    \n",
    "* Age model"
   ]
  },
  {
   "cell_type": "markdown",
   "metadata": {
    "collapsed": true,
    "deletable": true,
    "editable": true
   },
   "source": [
    "## Scratch"
   ]
  },
  {
   "cell_type": "code",
   "execution_count": 30,
   "metadata": {
    "collapsed": false,
    "deletable": true,
    "editable": true
   },
   "outputs": [],
   "source": [
    "G=nx.DiGraph()"
   ]
  },
  {
   "cell_type": "code",
   "execution_count": 31,
   "metadata": {
    "collapsed": true,
    "deletable": true,
    "editable": true
   },
   "outputs": [],
   "source": [
    "G.add_node(1)\n",
    "G.add_node(2)"
   ]
  },
  {
   "cell_type": "code",
   "execution_count": 32,
   "metadata": {
    "collapsed": true,
    "deletable": true,
    "editable": true
   },
   "outputs": [],
   "source": [
    "G.add_edge(1,2)\n",
    "\n",
    "G.add_edge(1,1)"
   ]
  },
  {
   "cell_type": "code",
   "execution_count": 33,
   "metadata": {
    "collapsed": false,
    "deletable": true,
    "editable": true
   },
   "outputs": [
    {
     "data": {
      "text/plain": [
       "({1: {}, 2: {}}, {})"
      ]
     },
     "execution_count": 33,
     "metadata": {},
     "output_type": "execute_result"
    }
   ],
   "source": [
    "G[1], G[2]"
   ]
  },
  {
   "cell_type": "code",
   "execution_count": 34,
   "metadata": {
    "collapsed": false,
    "deletable": true,
    "editable": true
   },
   "outputs": [],
   "source": [
    "#G.add_edge(1, 'hey')"
   ]
  },
  {
   "cell_type": "code",
   "execution_count": 35,
   "metadata": {
    "collapsed": false,
    "deletable": true,
    "editable": true
   },
   "outputs": [
    {
     "data": {
      "text/plain": [
       "[(1, 1), (1, 2)]"
      ]
     },
     "execution_count": 35,
     "metadata": {},
     "output_type": "execute_result"
    }
   ],
   "source": [
    "G.edges()"
   ]
  },
  {
   "cell_type": "code",
   "execution_count": 36,
   "metadata": {
    "collapsed": false,
    "deletable": true,
    "editable": true
   },
   "outputs": [
    {
     "data": {
      "text/plain": [
       "[1, 2]"
      ]
     },
     "execution_count": 36,
     "metadata": {},
     "output_type": "execute_result"
    }
   ],
   "source": [
    "G.nodes()"
   ]
  },
  {
   "cell_type": "code",
   "execution_count": 37,
   "metadata": {
    "collapsed": false,
    "deletable": true,
    "editable": true
   },
   "outputs": [
    {
     "name": "stdout",
     "output_type": "stream",
     "text": [
      "[1]\n"
     ]
    }
   ],
   "source": [
    "print(G.nodes_with_selfloops())\n"
   ]
  },
  {
   "cell_type": "code",
   "execution_count": null,
   "metadata": {
    "collapsed": true,
    "deletable": true,
    "editable": true
   },
   "outputs": [],
   "source": []
  }
 ],
 "metadata": {
  "kernelspec": {
   "display_name": "Python 2",
   "language": "python",
   "name": "python2"
  },
  "language_info": {
   "codemirror_mode": {
    "name": "ipython",
    "version": 2
   },
   "file_extension": ".py",
   "mimetype": "text/x-python",
   "name": "python",
   "nbconvert_exporter": "python",
   "pygments_lexer": "ipython2",
   "version": "2.7.9"
  }
 },
 "nbformat": 4,
 "nbformat_minor": 2
}
