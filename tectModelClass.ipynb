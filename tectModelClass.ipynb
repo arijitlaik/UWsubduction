{
 "cells": [
  {
   "cell_type": "code",
   "execution_count": 298,
   "metadata": {
    "collapsed": true,
    "deletable": true,
    "editable": true
   },
   "outputs": [],
   "source": [
    "import numpy as np\n",
    "import underworld as uw\n",
    "from underworld import function as fn\n",
    "import glucifer\n",
    "from easydict import EasyDict as edict\n",
    "import networkx as nx\n",
    "import operator\n"
   ]
  },
  {
   "cell_type": "code",
   "execution_count": 323,
   "metadata": {
    "collapsed": true,
    "deletable": true,
    "editable": true
   },
   "outputs": [],
   "source": [
    "mesh = uw.mesh.FeMesh_Cartesian( elementType = (\"Q1\"), \n",
    "                                 elementRes  = (96, 48), \n",
    "                                 minCoord    = (-1.0, 0.0), \n",
    "                                 maxCoord    = (1.0, 1.0) )\n",
    "\n",
    "\n",
    "temperatureField = uw.mesh.MeshVariable( mesh=mesh, nodeDofCount=1 )\n",
    "velocityField = uw.mesh.MeshVariable( mesh=mesh, nodeDofCount=2 )\n"
   ]
  },
  {
   "cell_type": "code",
   "execution_count": 324,
   "metadata": {
    "collapsed": false,
    "deletable": true,
    "editable": true
   },
   "outputs": [],
   "source": [
    "class szModel(object):\n",
    "    def __init__(self, mesh,tField, vField):\n",
    "        self.mesh = mesh\n",
    "        self.temperatureField = tField\n",
    "        self.velocityField = vField\n",
    "        #basic coordinate fns\n",
    "        coordinate = fn.input()\n",
    "        self.xFn = coordinate[0]  #a function providing the x-coordinate\n",
    "        self.yFn = coordinate[1]\n",
    "        self.depthFn = self.mesh.maxCoord[1] - coordinate[1] #a function providing the depth\n",
    "        #basic mesh variables\n",
    "        \n"
   ]
  },
  {
   "cell_type": "code",
   "execution_count": 325,
   "metadata": {
    "collapsed": false,
    "deletable": true,
    "editable": true
   },
   "outputs": [
    {
     "data": {
      "text/plain": [
       "-1.0"
      ]
     },
     "execution_count": 325,
     "metadata": {},
     "output_type": "execute_result"
    }
   ],
   "source": [
    "szm = szModel(mesh,  temperatureField, velocityField)\n",
    "szm.mesh.minCoord[0]"
   ]
  },
  {
   "cell_type": "markdown",
   "metadata": {
    "deletable": true,
    "editable": true
   },
   "source": [
    "## tectModel based on networkx"
   ]
  },
  {
   "cell_type": "code",
   "execution_count": 400,
   "metadata": {
    "collapsed": false,
    "deletable": true,
    "editable": true
   },
   "outputs": [],
   "source": [
    "class TectModel(nx.DiGraph):\n",
    "    \n",
    "    \n",
    "    def __init__(self, szModel, starttime, endtime, dt):\n",
    "        \n",
    "        ########Trying various ways to init the parent class\n",
    "        #super(nx.DiGraph, self).__init__(*args)\n",
    "        #super().__init__(*args) \n",
    "        nx.DiGraph.__init__(self) \n",
    "        ################################\n",
    "        \n",
    "        self.szModel = szModel \n",
    "        self.times = np.arange(starttime, endtime, dt)\n",
    "        #self.add_node('times', times=self.times)\n",
    "        self.plateIdUsedList = []\n",
    "        self.plateIdDefaultList = list(np.arange(1, 101))\n",
    "    \n",
    "    def add_plate(self, ID = False, velocities = []):\n",
    "        if type(velocities) == int or type(velocities) == float:\n",
    "            vels = np.ones(len(self.times ))*velocities\n",
    "        elif len(velocities) == len(self.times ):\n",
    "            vels = velocities\n",
    "        elif len(velocities) != len(self.times ):\n",
    "            raise ValueError(\"velocities must be a single float/int or list/array of length self.times \")\n",
    "        \n",
    "        #pid = self.plateNames.pop(0)\n",
    "        #self.add_node(pid, velocities= vels)\n",
    "        \n",
    "        if not ID:\n",
    "            ID = self.plateIdDefaultList[0]\n",
    "        \n",
    "        if ID not in self.plateIdUsedList:\n",
    "            self.add_node(ID, velocities= vels)\n",
    "            self.plateIdUsedList.append(ID)\n",
    "            self.plateIdDefaultList.remove(ID)\n",
    "        else:\n",
    "            raise ValueError(\"plate ID already assigned\")\n",
    "            \n",
    "    def connected_plates(self, plateId):\n",
    "        return (list(set([x for x in nx.all_neighbors(self, plateId)])))\n",
    "    \n",
    "    def is_subducting_plate(self, plateId):\n",
    "        pass\n",
    "    \n",
    "    def has_self_loop(self, plateId):\n",
    "        pass\n",
    "\n",
    "        \n",
    "\n",
    "        \n",
    "    def add_subzone(self, subPlate, upperPlate, loc, subPlateInitAge=0.0, upperPlateInitAge=0.0):\n",
    "        \n",
    "        #check whether the plate boundary can be simply inserted\n",
    "        if len(self.connected_plates(subPlate)) <=2 and len(self.connected_plates(upperPlate)) <=2 : \n",
    "\n",
    "            self.add_edge(subPlate, upperPlate, \n",
    "                          loc= loc,\n",
    "                          ages = [subPlateInitAge, upperPlateInitAge])\n",
    "        else:\n",
    "            print('plate already has 2 boundaries. Wait for plate transfer to be implemented')\n",
    "        \n",
    "    def add_ridge(self, plate1, plate2, loc, initAge=0.0):\n",
    "        \n",
    "        #check whether the plate boundary can be simply inserted\n",
    "        if len(self.connected_plates(plate1)) <=2 and len(self.connected_plates(plate2)) <=2 : \n",
    "        \n",
    "            self.add_edge(plate1, plate2, loc= loc, ages = initAge)\n",
    "            self.add_edge(plate2, plate1, loc= loc, ages = initAge)\n",
    "        else:\n",
    "            print('plate already has 2 boundaries. Wait for plate transfer to be implemented')\n",
    "    \n",
    "    def plate_xFn(self, plateID):\n",
    "        if len(self.connected_plates(plateID)) == 2:\n",
    "            pass  \n",
    "        else:\n",
    "            print('plate does not have 2 boundaries. Cannot define extent.')\n",
    "        \n",
    "    \n",
    "    def get_boundaries(self, plateId):\n",
    "        \n",
    "        \"\"\"\n",
    "        Probably a much simpler way of doing this. \n",
    "        Need to work arund the complexities of the directed graph\n",
    "        \"\"\"\n",
    "        \n",
    "        if len(self.connected_plates(plateId)) == 2:\n",
    "        \n",
    "            cps = self.connected_plates(plateId )\n",
    "            pair1 = (plateId , cps[0])\n",
    "            if pair1 in self.edges(plateId):\n",
    "                loc1 = self[plateId][cps[0]]['loc']\n",
    "            elif pair1[::-1] in self.edges(cps[0]):\n",
    "                loc1 = self[cps[0]][plateId]['loc']\n",
    "\n",
    "            pair2 = (plateId , cps[1])\n",
    "            if pair2 in self.edges(plateId):\n",
    "                loc2 = self[plateId][cps[1]]['loc']\n",
    "            elif pair2[::-1] in self.edges(cps[1]):\n",
    "                loc2 = self[cps[1]][plateId]['loc']\n",
    "                \n",
    "            return [loc1, loc2]\n",
    "                \n",
    "        else:\n",
    "            print('plate does not have 2 boundaries. Cannot define extent.')\n",
    "            return []\n",
    "        \n",
    "        \n",
    "    def plate_id_fn(self, boundtol=1e-5):\n",
    "\n",
    "        condList = []\n",
    "        for n in self.nodes():\n",
    "            bounds  = np.sort(self.get_boundaries(n))\n",
    "\n",
    "            edgetol = 1e-4\n",
    "            if fn.math.abs(bounds[0] - self.szModel.mesh.minCoord[0]) < edgetol:\n",
    "                lb = bounds[0] - edgetol\n",
    "            else:\n",
    "                lb = bounds[0]\n",
    "\n",
    "            if fn.math.abs(bounds[1] - self.szModel.mesh.maxCoord[0]) > edgetol:\n",
    "                ub = bounds[1] + edgetol\n",
    "            else:\n",
    "                ub = bounds[1]\n",
    "\n",
    "            cond = operator.and_(self.szModel.xFn >= lb, self.szModel.xFn < ub)\n",
    "            condList.append((cond, n))\n",
    "        condList.append((True, -99))\n",
    "\n",
    "        idFn = fn.branching.conditional( condList)\n",
    "        return idFn\n",
    "    \n",
    "    \n",
    "    #def boundary_rFn(self, plate1, plate2):\n",
    "    # \n",
    "    #    pass\n",
    "        \n"
   ]
  },
  {
   "cell_type": "code",
   "execution_count": 401,
   "metadata": {
    "collapsed": false,
    "deletable": true,
    "editable": true
   },
   "outputs": [],
   "source": [
    "#Little toy model, 3 plates\n",
    "############################\n",
    "#-1        0.0  0.5    1.0\n",
    "######1##### ###2###  ##3##\n",
    "            #\n",
    "             #\n",
    "###########################\n",
    "\n",
    "tg = TectModel(szm, 0, 20, 1)\n",
    "\n",
    "tg.add_plate(1, velocities = 1)\n",
    "tg.add_plate(velocities = -1)\n",
    "tg.add_plate( velocities = 0)\n",
    "        \n",
    "tg.add_ridge(1, 1, -1.0)\n",
    "tg.add_subzone(1, 2, 0.0)\n",
    "tg.add_ridge(2, 3, 0.5)\n",
    "tg.add_ridge(3, 3, 1.0)"
   ]
  },
  {
   "cell_type": "code",
   "execution_count": 402,
   "metadata": {
    "collapsed": false,
    "deletable": true,
    "editable": true
   },
   "outputs": [
    {
     "name": "stdout",
     "output_type": "stream",
     "text": [
      "[-1.0, 0.0]\n",
      "[0.0, 0.5]\n",
      "[0.5, 1.0]\n"
     ]
    }
   ],
   "source": [
    "for n in tg.nodes():\n",
    "    print(tg.get_boundaries(n))"
   ]
  },
  {
   "cell_type": "code",
   "execution_count": 403,
   "metadata": {
    "collapsed": false
   },
   "outputs": [],
   "source": [
    "pIdFn = tg.plate_id_fn()\n"
   ]
  },
  {
   "cell_type": "code",
   "execution_count": 406,
   "metadata": {
    "collapsed": false
   },
   "outputs": [
    {
     "data": {
      "text/html": [
       "<img src='data:image/png;base64,iVBORw0KGgoAAAANSUhEUgAAAZAAAADICAIAAABJdyC1AAAD8UlEQVR4nO3dS05cRxiA0fpb3ohn8Ta8gGzMA+/MIjvwLJlk4JlnlUFCAghicFDKH5wjBtXoPqqR+tN96Daz914ABZfTEwB4LMECMgQLyBAsIEOwgAzBAjIEC8gQLCBDsIAMwQIyBAvIECwgQ7CADMECMgQLyBAsIEOwgAzBAjIEC8gQLCBDsIAMwQIyBAvIECwgQ7CADMECMgQLyBAsIEOwgAzBAjIEC8gQLCDjzekJPKeZOT0F+OHsvU9P4dm8nGDNzE8fr07PgrXWev/2y8/vfn//9svpifw3X79ePl1dPv0yv/52eirfbz58Pj2F5+SUEMgQLCBDsIAMwQIyBAvIECwgQ7CADMECMgQLyBAsIEOwgAzBAjIEC8gQLCBDsIAMwQIyBAvIECwgQ7CADMECMgQLyBAsIEOwgAzBAjIEC8gQLCBDsIAMwQIyBAvIECwgQ7CADMECMgQLyBAsIEOwgAzBAjIEC8gQLCBDsIAMwQIyBAvIECwgQ7CADMECMgQLyBAsIEOwgAzBAjIEC8gQLCBDsIAMwQIyBAvIECwgQ7CADMECMgQLyBAsIEOwgAzBAjIEC8gQLCBDsIAMwQIyBAvIECwgQ7CADMECMgQLyBAsIEOwgAzBAjIEC8gQLCBDsIAMwQIyBAvIECwgQ7CADMECMgQLyBAsIEOwgAzBAjIEC8gQLCBDsIAMwQIyBAvIECwgQ7CADMECMgQLyBAsIEOwgAzBAjIEC8gQLCBDsIAMwQIyBAvIECwgQ7CADMECMgQLyBAsIEOwgAzBAjIEC8gQLCBDsIAMwQIyBAvIECwgQ7CADMECMgQLyBAsIEOwgAzBAjIEC8gQLCBDsIAMwQIyBAvIECwgQ7CADMECMgQLyBAsIGP23qfn8Dxm5vQU4Ef0Yj7j6yUFC3jxnBICGYIFZAgWkCFYQMabI3t1Rw/qjtyvOxOstda7j1cza2Zf1npoMGtdZs2sWfvu4J7l12XtO4MbK67L7EcMbu731mDmUYtdHp75zLrcGqyZ/YjBP/v99mLfHvw1gXv/XJe1ZvatwcMzv3/568Gstfa+8bPWuv1y7xu/uV547bXXfOeKN15eb+pJ25n7V9zrCe/lXybw4HZm3173Od7LY7Yzdzf1+Ans+fD5SDecEgIZggVkCBaQIVhAhmABGYIFZAgWkCFYQIZgARlnvg/LozlQ97oezfHFgdB16pjDKSGQIVhAhmABGf4JBZBx5gjLXULomplXdNFdraBrZvbee+8jH+QDwXISCl1nP78uugNP9udx1v+/X8ECnuwVnRICXWevQR97NAco+vvY6sxjyC6BAxVOCYEMwQIyBAvIECwg4w+9FoGdSnKRGwAAAABJRU5ErkJggg=='>"
      ],
      "text/plain": [
       "<IPython.core.display.HTML object>"
      ]
     },
     "metadata": {},
     "output_type": "display_data"
    }
   ],
   "source": [
    "fig = glucifer.Figure(figsize=(400, 200))\n",
    "fig.append( glucifer.objects.Surface(szm.mesh, pIdFn ))\n",
    "fig.show()"
   ]
  },
  {
   "cell_type": "code",
   "execution_count": 398,
   "metadata": {
    "collapsed": false
   },
   "outputs": [],
   "source": [
    "pId = 2\n",
    "\n",
    "\n",
    "\n",
    "bounds  = np.sort(tg.get_boundaries(pId))\n",
    "\n",
    "cond = operator.and_(szm.xFn >= bounds[0], szm.xFn <= bounds[1])\n",
    "#cond =  szm.xFn > bounds[0]\n",
    "\n",
    "plate_fn = fn.branching.conditional(  ( (cond,  1.),\n",
    "                                              (        True, 0.)   ) )\n",
    "\n",
    "dist = 0.061\n",
    "cond1 = operator.or_(  fn.math.abs(bounds[0] - szm.xFn) <= dist, fn.math.abs(bounds[1] - szm.xFn) <= dist)\n",
    "\n",
    "ridgeFn = fn.branching.conditional(  ( (cond1,  1.),\n",
    "                                              (        True, 0.)   ) )"
   ]
  },
  {
   "cell_type": "code",
   "execution_count": 391,
   "metadata": {
    "collapsed": false
   },
   "outputs": [],
   "source": [
    "condList = []\n",
    "for n in tg.nodes():\n",
    "    bounds  = np.sort(tg.get_boundaries(n))\n",
    "    \n",
    "    edgetol = 1e-4\n",
    "    if fn.math.abs(bounds[0] - szm.mesh.minCoord[0]) < edgetol:\n",
    "        lb = bounds[0] - edgetol\n",
    "    else:\n",
    "        lb = bounds[0]\n",
    "\n",
    "    if fn.math.abs(bounds[1] - szm.mesh.maxCoord[0]) > edgetol:\n",
    "        ub = bounds[1] + edgetol\n",
    "    else:\n",
    "        ub = bounds[1]\n",
    "    \n",
    "    cond = operator.and_(szm.xFn >= lb, szm.xFn < ub)\n",
    "    condList.append((cond, n))\n",
    "condList.append((True, -99))\n",
    "\n",
    "testFn = fn.branching.conditional( condList)"
   ]
  },
  {
   "cell_type": "code",
   "execution_count": null,
   "metadata": {
    "collapsed": false
   },
   "outputs": [],
   "source": []
  },
  {
   "cell_type": "code",
   "execution_count": 361,
   "metadata": {
    "collapsed": true
   },
   "outputs": [],
   "source": [
    "##test a mapping dictionary\n",
    "\n",
    "testFn = fn.branching.conditional(  ( (szm.xFn > 0.5,  2),\n",
    "                                              (        True, 1)   ) )\n",
    "\n",
    "fn1 = fn.misc.constant(1.)\n",
    "fn2 = fn.misc.constant(-1.)\n",
    "\n",
    "\n",
    "map_dict = { 1:fn1,\n",
    "              2:fn2}\n",
    "# create function\n",
    "fn_map = fn.branching.map( fn_key = testFn , \n",
    "                          mapping = map_dict )"
   ]
  },
  {
   "cell_type": "code",
   "execution_count": 287,
   "metadata": {
    "collapsed": false
   },
   "outputs": [],
   "source": []
  },
  {
   "cell_type": "code",
   "execution_count": 251,
   "metadata": {
    "collapsed": true
   },
   "outputs": [],
   "source": [
    "def get_plate_bounds(tg, plateId):\n",
    "    tg\n",
    "    "
   ]
  },
  {
   "cell_type": "code",
   "execution_count": 258,
   "metadata": {
    "collapsed": false
   },
   "outputs": [],
   "source": [
    "plateId = 3\n",
    "\n",
    "  "
   ]
  },
  {
   "cell_type": "code",
   "execution_count": 259,
   "metadata": {
    "collapsed": false
   },
   "outputs": [
    {
     "data": {
      "text/plain": [
       "(0.5, 1.0)"
      ]
     },
     "execution_count": 259,
     "metadata": {},
     "output_type": "execute_result"
    }
   ],
   "source": [
    "loc1, loc2\n",
    "        "
   ]
  },
  {
   "cell_type": "code",
   "execution_count": 242,
   "metadata": {
    "collapsed": false
   },
   "outputs": [
    {
     "data": {
      "text/plain": [
       "0.0"
      ]
     },
     "execution_count": 242,
     "metadata": {},
     "output_type": "execute_result"
    }
   ],
   "source": [
    "loc1"
   ]
  },
  {
   "cell_type": "code",
   "execution_count": 127,
   "metadata": {
    "collapsed": false
   },
   "outputs": [
    {
     "data": {
      "text/plain": [
       "([(1, 1), (1, 2)], [(1, 1)])"
      ]
     },
     "execution_count": 127,
     "metadata": {},
     "output_type": "execute_result"
    }
   ],
   "source": [
    "#tg.out_edges(1), tg.in_edges(1),  \n",
    "#tg.out_edges(2), tg.in_edges(2)\n",
    "\n",
    "tg.out_edges(1), tg.in_edges(1)"
   ]
  },
  {
   "cell_type": "code",
   "execution_count": 68,
   "metadata": {
    "collapsed": false,
    "deletable": true,
    "editable": true
   },
   "outputs": [],
   "source": [
    "#tg.edge['A']['B']['loc']"
   ]
  },
  {
   "cell_type": "code",
   "execution_count": 69,
   "metadata": {
    "collapsed": false,
    "deletable": true,
    "editable": true
   },
   "outputs": [
    {
     "name": "stdout",
     "output_type": "stream",
     "text": [
      "Populating the interactive namespace from numpy and matplotlib\n"
     ]
    },
    {
     "name": "stderr",
     "output_type": "stream",
     "text": [
      "WARNING: pylab import has clobbered these variables: ['plt']\n",
      "`%matplotlib` prevents importing * from pylab and numpy\n",
      "/usr/local/lib/python2.7/dist-packages/networkx/drawing/nx_pylab.py:126: MatplotlibDeprecationWarning: pyplot.hold is deprecated.\n",
      "    Future behavior will be consistent with the long-time default:\n",
      "    plot commands add elements without first clearing the\n",
      "    Axes and/or Figure.\n",
      "  b = plt.ishold()\n",
      "/usr/local/lib/python2.7/dist-packages/networkx/drawing/nx_pylab.py:138: MatplotlibDeprecationWarning: pyplot.hold is deprecated.\n",
      "    Future behavior will be consistent with the long-time default:\n",
      "    plot commands add elements without first clearing the\n",
      "    Axes and/or Figure.\n",
      "  plt.hold(b)\n",
      "/usr/local/lib/python2.7/dist-packages/matplotlib/__init__.py:917: UserWarning: axes.hold is deprecated. Please remove it from your matplotlibrc and/or style files.\n",
      "  warnings.warn(self.msg_depr_set % key)\n",
      "/usr/local/lib/python2.7/dist-packages/matplotlib/rcsetup.py:152: UserWarning: axes.hold is deprecated, will be removed in 3.0\n",
      "  warnings.warn(\"axes.hold is deprecated, will be removed in 3.0\")\n"
     ]
    },
    {
     "data": {
      "image/png": "[encoded data removed]",
      "text/plain": [
       "<matplotlib.figure.Figure at 0x7fa6b7b42b10>"
      ]
     },
     "metadata": {},
     "output_type": "display_data"
    }
   ],
   "source": [
    "import pylab as plt\n",
    "%pylab inline\n",
    "nx.draw(tg,  node_size=1600, cmap=plt.cm.Blues,\n",
    "        node_color=range(len(tg)),\n",
    "        prog='dot')\n",
    "plt.show()"
   ]
  },
  {
   "cell_type": "markdown",
   "metadata": {
    "collapsed": true,
    "deletable": true,
    "editable": true
   },
   "source": [
    "## To do\n",
    "\n",
    "* decide on what to do about `shadow plates'\n",
    "\n",
    "* Plate velocity convention (no vels)\n",
    "    * could be NaN\n",
    "    \n",
    "* Age model"
   ]
  },
  {
   "cell_type": "markdown",
   "metadata": {
    "collapsed": true,
    "deletable": true,
    "editable": true
   },
   "source": [
    "## Scratch"
   ]
  },
  {
   "cell_type": "code",
   "execution_count": 30,
   "metadata": {
    "collapsed": false
   },
   "outputs": [],
   "source": [
    "G=nx.DiGraph()"
   ]
  },
  {
   "cell_type": "code",
   "execution_count": 31,
   "metadata": {
    "collapsed": true
   },
   "outputs": [],
   "source": [
    "G.add_node(1)\n",
    "G.add_node(2)"
   ]
  },
  {
   "cell_type": "code",
   "execution_count": 32,
   "metadata": {
    "collapsed": true
   },
   "outputs": [],
   "source": [
    "G.add_edge(1,2)\n",
    "\n",
    "G.add_edge(1,1)"
   ]
  },
  {
   "cell_type": "code",
   "execution_count": 33,
   "metadata": {
    "collapsed": false
   },
   "outputs": [
    {
     "data": {
      "text/plain": [
       "({1: {}, 2: {}}, {})"
      ]
     },
     "execution_count": 33,
     "metadata": {},
     "output_type": "execute_result"
    }
   ],
   "source": [
    "G[1], G[2]"
   ]
  },
  {
   "cell_type": "code",
   "execution_count": 34,
   "metadata": {
    "collapsed": false
   },
   "outputs": [],
   "source": [
    "#G.add_edge(1, 'hey')"
   ]
  },
  {
   "cell_type": "code",
   "execution_count": 35,
   "metadata": {
    "collapsed": false
   },
   "outputs": [
    {
     "data": {
      "text/plain": [
       "[(1, 1), (1, 2)]"
      ]
     },
     "execution_count": 35,
     "metadata": {},
     "output_type": "execute_result"
    }
   ],
   "source": [
    "G.edges()"
   ]
  },
  {
   "cell_type": "code",
   "execution_count": 36,
   "metadata": {
    "collapsed": false
   },
   "outputs": [
    {
     "data": {
      "text/plain": [
       "[1, 2]"
      ]
     },
     "execution_count": 36,
     "metadata": {},
     "output_type": "execute_result"
    }
   ],
   "source": [
    "G.nodes()"
   ]
  },
  {
   "cell_type": "code",
   "execution_count": 37,
   "metadata": {
    "collapsed": false
   },
   "outputs": [
    {
     "name": "stdout",
     "output_type": "stream",
     "text": [
      "[1]\n"
     ]
    }
   ],
   "source": [
    "print(G.nodes_with_selfloops())\n"
   ]
  },
  {
   "cell_type": "code",
   "execution_count": null,
   "metadata": {
    "collapsed": true
   },
   "outputs": [],
   "source": []
  }
 ],
 "metadata": {
  "kernelspec": {
   "display_name": "Python 2",
   "language": "python",
   "name": "python2"
  },
  "language_info": {
   "codemirror_mode": {
    "name": "ipython",
    "version": 2
   },
   "file_extension": ".py",
   "mimetype": "text/x-python",
   "name": "python",
   "nbconvert_exporter": "python",
   "pygments_lexer": "ipython2",
   "version": "2.7.9"
  }
 },
 "nbformat": 4,
 "nbformat_minor": 2
}
