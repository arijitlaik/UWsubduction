{
 "cells": [
  {
   "cell_type": "code",
   "execution_count": 25,
   "metadata": {
    "collapsed": true,
    "deletable": true,
    "editable": true
   },
   "outputs": [],
   "source": [
    "import numpy as np\n",
    "import underworld as uw\n",
    "from underworld import function as fn\n",
    "import glucifer\n",
    "import operator\n"
   ]
  },
  {
   "cell_type": "code",
   "execution_count": 26,
   "metadata": {
    "collapsed": false,
    "deletable": true,
    "editable": true
   },
   "outputs": [],
   "source": [
    "#If run through Docker we'll point at the local 'unsupported dir.'\n",
    "#On hpc, the path should also include a directory holding the unsupported_dan.\n",
    "import os\n",
    "import sys\n",
    "\n",
    "if os.getcwd() == '/workspace/newSlab':\n",
    "    sys.path.append('../unsupported')\n",
    "\n",
    "#this does't actually need to be protected. More a reminder it's an interim measure\n",
    "try:\n",
    "    sys.path.append('../../unsupported')\n",
    "except:\n",
    "    pass\n",
    "\n",
    "#%load_ext autoreload\n",
    "from unsupported_dan.interfaces.interface2D import interface2D, interface_collection\n",
    "\n",
    "from unsupported_dan.interfaces.smoothing2D import *\n"
   ]
  },
  {
   "cell_type": "code",
   "execution_count": 27,
   "metadata": {
    "collapsed": false,
    "deletable": true,
    "editable": true
   },
   "outputs": [],
   "source": [
    "minX = -1.0\n",
    "maxX = 1.0\n",
    "resX = 24\n",
    "resY = 12\n",
    "elementType=\"Q1/dQ0\"\n",
    "\n",
    "mesh = uw.mesh.FeMesh_Cartesian( elementType = (elementType), \n",
    "                                 elementRes  = ( resX, resY), \n",
    "                                 minCoord    = ( minX, -1.0), \n",
    "                                 maxCoord    = ( maxX, 1.0),\n",
    "                                 periodic    = [False, False]  ) \n",
    "\n",
    "\n",
    "velocityField    = uw.mesh.MeshVariable( mesh=mesh,         nodeDofCount=mesh.dim )\n",
    "\n",
    "velocityField.data[:] = [0.,0.]\n"
   ]
  },
  {
   "cell_type": "code",
   "execution_count": 69,
   "metadata": {
    "collapsed": true,
    "deletable": true,
    "editable": true
   },
   "outputs": [],
   "source": [
    "N = 51\n",
    "xs = np.linspace(-1., 1, N)*0.9 - 0.01\n",
    "ys = np.linspace(-1., 1, N)*0.9 + 0.05"
   ]
  },
  {
   "cell_type": "code",
   "execution_count": 70,
   "metadata": {
    "collapsed": false,
    "deletable": true,
    "editable": true
   },
   "outputs": [],
   "source": [
    "line1 = interface2D(mesh, velocityField, xs, ys, \n",
    "                        0, 1, insidePt=(0.,-1.))\n"
   ]
  },
  {
   "cell_type": "code",
   "execution_count": 35,
   "metadata": {
    "collapsed": false,
    "deletable": true,
    "editable": true
   },
   "outputs": [
    {
     "data": {
      "text/html": [
       "<img src='data:image/png;base64,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'>"
      ],
      "text/plain": [
       "<IPython.core.display.HTML object>"
      ]
     },
     "metadata": {},
     "output_type": "display_data"
    }
   ],
   "source": [
    "fig1 = glucifer.Figure()\n",
    "fig1.append( glucifer.objects.Mesh(mesh))\n",
    "fig1.append( glucifer.objects.Points(line1.swarm, pointsize = 5))\n",
    "\n",
    "fig1.show()"
   ]
  },
  {
   "cell_type": "code",
   "execution_count": 36,
   "metadata": {
    "collapsed": true
   },
   "outputs": [],
   "source": [
    "#mask.astype('bool')"
   ]
  },
  {
   "cell_type": "code",
   "execution_count": 37,
   "metadata": {
    "collapsed": false,
    "deletable": true,
    "editable": true
   },
   "outputs": [
    {
     "name": "stdout",
     "output_type": "stream",
     "text": [
      "hello from rank 0, with 51 local particles, and 51 global particles\n"
     ]
    }
   ],
   "source": [
    "print('hello from rank {}, with {} local particles, and {} global particles'.format(uw.rank(), \n",
    "                                                                                    line1.swarm.particleLocalCount, \n",
    "                                                                                    line1.swarm.particleGlobalCount))"
   ]
  },
  {
   "cell_type": "code",
   "execution_count": 38,
   "metadata": {
    "collapsed": false,
    "deletable": true,
    "editable": true
   },
   "outputs": [],
   "source": [
    "if line1.swarm.particleLocalCount > 12:\n",
    "    mask = np.ones(line1.swarm.particleLocalCount).astype('bool')\n",
    "else:\n",
    "    mask = np.zeros(line1.swarm.particleLocalCount).astype('bool')\n",
    "\n",
    "with line1.swarm.deform_swarm():\n",
    "        line1.swarm.particleCoordinates.data[mask] = (9999999., 9999999.)\n",
    "    \n",
    "uw.barrier()\n",
    "line1.rebuild()\n"
   ]
  },
  {
   "cell_type": "code",
   "execution_count": 47,
   "metadata": {
    "collapsed": true
   },
   "outputs": [],
   "source": [
    "coords = fn.input()"
   ]
  },
  {
   "cell_type": "code",
   "execution_count": 65,
   "metadata": {
    "collapsed": false
   },
   "outputs": [
    {
     "data": {
      "text/plain": [
       "(1, 2)"
      ]
     },
     "execution_count": 65,
     "metadata": {},
     "output_type": "execute_result"
    }
   ],
   "source": [
    "#newParts = np.array(coords.evaluate(mesh).mean(axis=0))\n",
    "#np.expand_dims(newParts, 0).shape"
   ]
  },
  {
   "cell_type": "code",
   "execution_count": 60,
   "metadata": {
    "collapsed": false
   },
   "outputs": [
    {
     "data": {
      "text/plain": [
       "array([], dtype=int32)"
      ]
     },
     "execution_count": 60,
     "metadata": {},
     "output_type": "execute_result"
    }
   ],
   "source": [
    "all_particle_coords = line1.data\n",
    "if all_particle_coords.shape[1] == 0:\n",
    "    newParts = np.array(coords.evaluate(mesh).mean(axis=0))\n",
    "    newParts = np.expand_dims(newParts, 0)\n",
    "else:\n",
    "    newParts = np.empty([0,2])\n",
    "    \n",
    "line1.swarm.add_particles_with_coordinates(newParts )"
   ]
  },
  {
   "cell_type": "code",
   "execution_count": 22,
   "metadata": {
    "collapsed": true
   },
   "outputs": [],
   "source": [
    "def try_to_crash(interface2D, k):\n",
    "\n",
    "    #First we want to get the distances between neighbours for each point\n",
    "    A = interface2D.neighbourMatrix( k =k)\n",
    "    #and we only want to return the vector corresponding to local points\n",
    "    shmask = shadowMask(interface2D)\n",
    "    all_particle_coords = interface2D.data\n",
    "    Alow = np.tril(A) #We want only the lower half of the matrix,\n",
    "    pd = interface2D.pairDistanceMatrix()\n",
    "    AF = Alow[shmask]  #*pdMask[shmask]\n",
    "    \n",
    "    return None"
   ]
  },
  {
   "cell_type": "code",
   "execution_count": 12,
   "metadata": {
    "collapsed": false,
    "deletable": true,
    "editable": true
   },
   "outputs": [],
   "source": [
    "ds = 0.5*(2.*(np.sqrt(2)*0.9))/N"
   ]
  },
  {
   "cell_type": "code",
   "execution_count": 13,
   "metadata": {
    "collapsed": false,
    "deletable": true,
    "editable": true
   },
   "outputs": [],
   "source": [
    "#repair_interface2D(line1, ds, k=8)\n",
    "#Dl = laplaceVector(line1, k = 8, limit=0.2)\n",
    "#A = line1.neighbourMatrix( k =8)\n",
    "#print(Dl.shape)\n",
    "#all_particle_coords = line1.data"
   ]
  },
  {
   "cell_type": "code",
   "execution_count": 23,
   "metadata": {
    "collapsed": true
   },
   "outputs": [],
   "source": [
    "try_to_crash(line1,8)"
   ]
  },
  {
   "cell_type": "code",
   "execution_count": 14,
   "metadata": {
    "collapsed": false,
    "deletable": true,
    "editable": true
   },
   "outputs": [
    {
     "name": "stdout",
     "output_type": "stream",
     "text": [
      "hello again from rank 0, with 0 local particles, and 0 global particles\n"
     ]
    }
   ],
   "source": [
    "print('hello again from rank {}, with {} local particles, and {} global particles'.format(uw.rank(), \n",
    "                                                                                    line1.swarm.particleLocalCount, \n",
    "                                                                                    line1.swarm.particleGlobalCount))"
   ]
  },
  {
   "cell_type": "code",
   "execution_count": 21,
   "metadata": {
    "collapsed": false
   },
   "outputs": [],
   "source": []
  },
  {
   "cell_type": "code",
   "execution_count": 73,
   "metadata": {
    "collapsed": false
   },
   "outputs": [],
   "source": [
    "allcs = line1.data\n",
    "localcs = line1.swarm.particleCoordinates.data\n",
    "xmatch =np.in1d(allcs[:,0], localcs[:,0])"
   ]
  },
  {
   "cell_type": "code",
   "execution_count": 77,
   "metadata": {
    "collapsed": false
   },
   "outputs": [
    {
     "data": {
      "text/plain": [
       "array([ True,  True,  True,  True,  True,  True,  True,  True,  True,\n",
       "        True,  True,  True,  True,  True,  True,  True,  True,  True,\n",
       "        True,  True,  True,  True,  True,  True,  True,  True,  True,\n",
       "        True,  True,  True,  True,  True,  True,  True,  True,  True,\n",
       "        True,  True,  True,  True,  True,  True,  True,  True,  True,\n",
       "        True,  True,  True,  True,  True,  True], dtype=bool)"
      ]
     },
     "execution_count": 77,
     "metadata": {},
     "output_type": "execute_result"
    }
   ],
   "source": [
    "xmatch"
   ]
  },
  {
   "cell_type": "code",
   "execution_count": null,
   "metadata": {
    "collapsed": true
   },
   "outputs": [],
   "source": []
  }
 ],
 "metadata": {
  "kernelspec": {
   "display_name": "Python 2",
   "language": "python",
   "name": "python2"
  },
  "language_info": {
   "codemirror_mode": {
    "name": "ipython",
    "version": 2
   },
   "file_extension": ".py",
   "mimetype": "text/x-python",
   "name": "python",
   "nbconvert_exporter": "python",
   "pygments_lexer": "ipython2",
   "version": "2.7.9"
  }
 },
 "nbformat": 4,
 "nbformat_minor": 2
}
