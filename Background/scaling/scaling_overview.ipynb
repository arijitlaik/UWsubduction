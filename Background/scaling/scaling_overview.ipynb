{
 "cells": [
  {
   "cell_type": "markdown",
   "metadata": {
    "deletable": true,
    "editable": true
   },
   "source": [
    "## Units, Scaling, non-dimensionalization\n",
    "\n",
    "* We assume that the reader is familiar with the rationale of non-dimensionalisation. \n",
    "* explain potential temp convention"
   ]
  },
  {
   "cell_type": "code",
   "execution_count": 2,
   "metadata": {
    "collapsed": false,
    "deletable": true,
    "editable": true
   },
   "outputs": [],
   "source": [
    "import numpy as np\n",
    "from easydict import EasyDict as edict\n",
    "\n",
    "#this does't actually need to be protected. More a reminder it's an interim measure\n",
    "import sys\n",
    "try:\n",
    "    sys.path.append('../../../unsupported')\n",
    "except:\n",
    "    pass\n",
    "\n",
    "import warnings; warnings.simplefilter('ignore')\n",
    "from unsupported_dan.UWsubduction.minimal_example import paramDict_dim, modelDict_dim, UnitRegistry"
   ]
  },
  {
   "cell_type": "markdown",
   "metadata": {},
   "source": [
    "## Pint / Scaling\n",
    "\n",
    "In the UWsubduction module, we make use of the Scaling module, which allows us to work with a dimensional quantities, amd automates the non-dimensionlisation process. \n",
    "\n",
    "The scaling module (Romain Beucher) is a simple wrapper around the Pint library:\n",
    "\n",
    "https://github.com/hgrecco/pint\n",
    "\n",
    "https://github.com/underworldcode/underworld2/blob/master/docs/examples/1_14_ScalingExample.ipynb\n",
    "\n",
    "https://github.com/rbeucher/UWGeodynamics/tree/master/UWGeodynamics/scaling\n",
    "\n",
    "Throughout the UWsubduction module, we will store paramters in dictionaries. More specifically, we use `edicts` which allow attribute-like access to items. In fact, we've already imported a set of parameters in an edict:"
   ]
  },
  {
   "cell_type": "code",
   "execution_count": null,
   "metadata": {
    "collapsed": true
   },
   "outputs": [],
   "source": []
  },
  {
   "cell_type": "code",
   "execution_count": 3,
   "metadata": {
    "collapsed": false
   },
   "outputs": [
    {
     "name": "stdout",
     "output_type": "stream",
     "text": [
      "<class 'easydict.EasyDict'>\n",
      "(<Quantity(3300.0, 'kilogram / meter ** 3')>, <Quantity(3300.0, 'kilogram / meter ** 3')>)\n"
     ]
    }
   ],
   "source": [
    "print(type(paramDict_dim))\n",
    "print(paramDict_dim.refDensity, paramDict_dim['refDensity'])"
   ]
  },
  {
   "cell_type": "markdown",
   "metadata": {},
   "source": [
    "Notice that the dictionary key 'refDensity' has a corresponding value which is a Pint 'Quantity', i.e it has both magnitude and units. \n",
    "\n",
    "We can of course define new dimensional quantities:"
   ]
  },
  {
   "cell_type": "code",
   "execution_count": 4,
   "metadata": {
    "collapsed": true
   },
   "outputs": [],
   "source": [
    "someVal = 42.*UnitRegistry.British_horsepower"
   ]
  },
  {
   "cell_type": "markdown",
   "metadata": {},
   "source": [
    "We can define a system of scaling factors, and use this to non-dimensionlize our paramter set. Let's set one of these systems up:"
   ]
  },
  {
   "cell_type": "code",
   "execution_count": 5,
   "metadata": {
    "collapsed": true
   },
   "outputs": [],
   "source": [
    "import unsupported_dan.geodynamics.scaling as test_scaling;"
   ]
  },
  {
   "cell_type": "code",
   "execution_count": 6,
   "metadata": {
    "collapsed": false
   },
   "outputs": [
    {
     "name": "stdout",
     "output_type": "stream",
     "text": [
      "TransformedDict({'[temperature]': <Quantity(1.0, 'kelvin')>, '[time]': <Quantity(1.0, 'second')>, '[length]': <Quantity(1.0, 'meter')>, '[mass]': <Quantity(1.0, 'kilogram')>, '[substance]': <Quantity(1.0, 'mole')>})\n"
     ]
    }
   ],
   "source": [
    "print(test_scaling.scaling)"
   ]
  },
  {
   "cell_type": "code",
   "execution_count": 9,
   "metadata": {
    "collapsed": false
   },
   "outputs": [
    {
     "name": "stdout",
     "output_type": "stream",
     "text": [
      "2900 kilometer\n",
      "2900000.0\n"
     ]
    }
   ],
   "source": [
    "print(paramDict_dim.refLength)\n",
    "print(test_scaling.nonDimensionalize(paramDict_dim.refLength))"
   ]
  },
  {
   "cell_type": "markdown",
   "metadata": {},
   "source": [
    "Because the default length scale is 1 meter, all that happenened is that the Pint Quantity was transoformed inoto it;s base unit and divided by the scaling factor, leavinf the dimensionless value 2900000.0"
   ]
  },
  {
   "cell_type": "markdown",
   "metadata": {},
   "source": [
    "## Scaling of mantle thermo-mechanical subduction\n",
    "\n",
    "Now we will import a system of scaling factors that are commonly used related to thermal convection/ subduction studies. This system uses the convective layer depth (the mantle) as the length scale, a thermal diffusion times cale, and a stress (& mass) scale based on a viscous stress.\n",
    "\n",
    "length Scale:\n",
    "$L_s = L_r$\n",
    "\n",
    "time scale: $t_s = \\frac{L_s^2}{\\kappa_r}$\n",
    "\n",
    "stress scale $\\sigma_s = \\frac{\\kappa_r \\eta_r}{L_s}$\n",
    "\n",
    "mass scale: $M_s = \\frac{\\eta_r L_s^3}{\\kappa_r}$\n",
    "\n",
    "Note that we only need the stress __or__ the mass scale to define a complete scaling\n"
   ]
  },
  {
   "cell_type": "code",
   "execution_count": 10,
   "metadata": {
    "collapsed": true
   },
   "outputs": [],
   "source": [
    "from unsupported_dan.UWsubduction.default_scaling import sub_scaling"
   ]
  },
  {
   "cell_type": "code",
   "execution_count": 12,
   "metadata": {
    "collapsed": false
   },
   "outputs": [
    {
     "name": "stdout",
     "output_type": "stream",
     "text": [
      "1.0\n"
     ]
    }
   ],
   "source": [
    "print(sub_scaling.nonDimensionalize(paramDict_dim.refLength))"
   ]
  },
  {
   "cell_type": "markdown",
   "metadata": {},
   "source": [
    "We also provide a function to convert a dictionary of dimensional pramters to a dictionary of dimesnsionless parameters:"
   ]
  },
  {
   "cell_type": "code",
   "execution_count": 20,
   "metadata": {
    "collapsed": false
   },
   "outputs": [],
   "source": [
    "from unsupported_dan.UWsubduction.default_scaling import build_nondim_dict\n",
    "\n",
    "paramDict_nondim = build_nondim_dict(paramDict_dim, sub_scaling)"
   ]
  },
  {
   "cell_type": "code",
   "execution_count": 21,
   "metadata": {
    "collapsed": false
   },
   "outputs": [
    {
     "name": "stdout",
     "output_type": "stream",
     "text": [
      "1.0\n"
     ]
    }
   ],
   "source": [
    "print(paramDict_nondim.refLength)"
   ]
  },
  {
   "cell_type": "markdown",
   "metadata": {},
   "source": [
    "## Temperature convention (offset)\n",
    "\n",
    "One difficulty with allowing the scaling module to automate the non-dimensionalisation process is that we sometimes want to define an offset as well as a scaling. For intaance, it is common in thermal (Raylieigh-Bernard type) convection studies to deine the dimensionless temperature as:\n",
    "\n",
    "$T' = \\frac{T - T_0}{T_1 -T_0}$ \n",
    "\n",
    "Where $T_0$ is the surface temperature and T1, the base (or interior) temperature. \n",
    "\n",
    "At this stage, we have tired to adhere to this convention, by providing two sets of temperatures:\n"
   ]
  },
  {
   "cell_type": "code",
   "execution_count": 16,
   "metadata": {
    "collapsed": false
   },
   "outputs": [
    {
     "name": "stdout",
     "output_type": "stream",
     "text": [
      "1573.0 kelvin\n",
      "1300.0 kelvin\n"
     ]
    }
   ],
   "source": [
    "print(paramDict_dim.potentialTemp)\n",
    "print(paramDict_dim.potentialTemp_)"
   ]
  },
  {
   "cell_type": "code",
   "execution_count": 17,
   "metadata": {
    "collapsed": false
   },
   "outputs": [
    {
     "name": "stdout",
     "output_type": "stream",
     "text": [
      "1.21\n",
      "1.0\n"
     ]
    }
   ],
   "source": [
    "print(sub_scaling.nonDimensionalize(paramDict_dim.potentialTemp))\n",
    "print(sub_scaling.nonDimensionalize(paramDict_dim.potentialTemp_))"
   ]
  },
  {
   "cell_type": "markdown",
   "metadata": {},
   "source": [
    "Where the `_` notation desribes the offset temperatures (dimensional and dimensionless)\n",
    "\n",
    "We mention this to clarify (hopefully) the appearance of `potentialTemp_` and `surfaceTemp_` in the examples."
   ]
  },
  {
   "cell_type": "markdown",
   "metadata": {},
   "source": [
    "## Scaling Arrhennius Laws"
   ]
  },
  {
   "cell_type": "code",
   "execution_count": null,
   "metadata": {
    "collapsed": true
   },
   "outputs": [],
   "source": []
  }
 ],
 "metadata": {
  "kernelspec": {
   "display_name": "Python 2",
   "language": "python",
   "name": "python2"
  },
  "language_info": {
   "codemirror_mode": {
    "name": "ipython",
    "version": 2
   },
   "file_extension": ".py",
   "mimetype": "text/x-python",
   "name": "python",
   "nbconvert_exporter": "python",
   "pygments_lexer": "ipython2",
   "version": "2.7.9"
  }
 },
 "nbformat": 4,
 "nbformat_minor": 2
}
