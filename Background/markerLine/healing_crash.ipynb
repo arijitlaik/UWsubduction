{
 "cells": [
  {
   "cell_type": "code",
   "execution_count": 82,
   "metadata": {
    "collapsed": true
   },
   "outputs": [],
   "source": [
    "import numpy as np\n",
    "import underworld as uw\n",
    "from underworld import function as fn\n",
    "import glucifer\n",
    "import operator\n"
   ]
  },
  {
   "cell_type": "code",
   "execution_count": 83,
   "metadata": {
    "collapsed": false
   },
   "outputs": [
    {
     "name": "stdout",
     "output_type": "stream",
     "text": [
      "The autoreload extension is already loaded. To reload it, use:\n",
      "  %reload_ext autoreload\n"
     ]
    }
   ],
   "source": [
    "#If run through Docker we'll point at the local 'unsupported dir.'\n",
    "#On hpc, the path should also include a directory holding the unsupported_dan.\n",
    "import os\n",
    "import sys\n",
    "\n",
    "if os.getcwd() == '/workspace/newSlab':\n",
    "    sys.path.append('../unsupported')\n",
    "\n",
    "#this does't actually need to be protected. More a reminder it's an interim measure\n",
    "try:\n",
    "    sys.path.append('../../../unsupported')\n",
    "except:\n",
    "    pass\n",
    "\n",
    "#%load_ext autoreload\n",
    "from unsupported_dan.interfaces.interface2D import interface2D, interface_collection\n",
    "\n",
    "from unsupported_dan.interfaces.smoothing2D import *\n"
   ]
  },
  {
   "cell_type": "code",
   "execution_count": 84,
   "metadata": {
    "collapsed": false
   },
   "outputs": [],
   "source": [
    "minX = -1.0\n",
    "maxX = 1.0\n",
    "resX = 12\n",
    "resY = 12\n",
    "elementType=\"Q1/dQ0\"\n",
    "\n",
    "mesh = uw.mesh.FeMesh_Cartesian( elementType = (elementType), \n",
    "                                 elementRes  = ( resX, resY), \n",
    "                                 minCoord    = ( minX, -1.0), \n",
    "                                 maxCoord    = ( maxX, 1.0),\n",
    "                                 periodic    = [False, False]  ) \n",
    "\n",
    "\n",
    "velocityField    = uw.mesh.MeshVariable( mesh=mesh,         nodeDofCount=mesh.dim )\n",
    "\n",
    "velocityField.data[:] = [0.,0.]\n"
   ]
  },
  {
   "cell_type": "code",
   "execution_count": 85,
   "metadata": {
    "collapsed": true
   },
   "outputs": [],
   "source": [
    "N = 51\n",
    "xs = np.linspace(-1., 1, N)*0.9 - 0.01\n",
    "ys = np.linspace(-1., 1, N)*0.9 + 0.01"
   ]
  },
  {
   "cell_type": "code",
   "execution_count": 86,
   "metadata": {
    "collapsed": false
   },
   "outputs": [],
   "source": [
    "line1 = interface2D(mesh, velocityField, xs, ys, \n",
    "                        0, 1, insidePt=(0.,-1.))\n"
   ]
  },
  {
   "cell_type": "code",
   "execution_count": 87,
   "metadata": {
    "collapsed": false
   },
   "outputs": [
    {
     "data": {
      "text/html": [
       "<img src='data:image/png;base64,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'>"
      ],
      "text/plain": [
       "<IPython.core.display.HTML object>"
      ]
     },
     "metadata": {},
     "output_type": "display_data"
    }
   ],
   "source": [
    "fig1 = glucifer.Figure()\n",
    "fig1.append( glucifer.objects.Mesh(mesh))\n",
    "fig1.append( glucifer.objects.Points(line1.swarm, pointsize = 5))\n",
    "\n",
    "fig1.show()"
   ]
  },
  {
   "cell_type": "code",
   "execution_count": 101,
   "metadata": {
    "collapsed": false
   },
   "outputs": [
    {
     "name": "stdout",
     "output_type": "stream",
     "text": [
      "(0, 100)\n"
     ]
    }
   ],
   "source": [
    "print(uw.rank(), line1.swarm.particleGlobalCount)"
   ]
  },
  {
   "cell_type": "code",
   "execution_count": 104,
   "metadata": {
    "collapsed": false
   },
   "outputs": [
    {
     "name": "stdout",
     "output_type": "stream",
     "text": [
      "hello from rank 0, with 100 local particles, and 100 global particles\n"
     ]
    }
   ],
   "source": [
    "print('hello from rank {}, with {} local particles, and {} global particles'.format(uw.rank(), \n",
    "                                                                                    line1.swarm.particleLocalCount, \n",
    "                                                                                    line1.swarm.particleGlobalCount))"
   ]
  },
  {
   "cell_type": "code",
   "execution_count": 90,
   "metadata": {
    "collapsed": false
   },
   "outputs": [],
   "source": [
    "ds = 0.5*(2.*(np.sqrt(2)*0.9))/N"
   ]
  },
  {
   "cell_type": "code",
   "execution_count": 95,
   "metadata": {
    "collapsed": false
   },
   "outputs": [],
   "source": [
    "repair_interface2D(line1, ds, k=8)"
   ]
  },
  {
   "cell_type": "code",
   "execution_count": null,
   "metadata": {
    "collapsed": true
   },
   "outputs": [],
   "source": [
    "print('hello again from rank {}, with {} local particles, and {} global particles'.format(uw.rank(), \n",
    "                                                                                    line1.swarm.particleLocalCount, \n",
    "                                                                                    line1.swarm.particleGlobalCount))"
   ]
  }
 ],
 "metadata": {
  "kernelspec": {
   "display_name": "Python 2",
   "language": "python",
   "name": "python2"
  },
  "language_info": {
   "codemirror_mode": {
    "name": "ipython",
    "version": 2
   },
   "file_extension": ".py",
   "mimetype": "text/x-python",
   "name": "python",
   "nbconvert_exporter": "python",
   "pygments_lexer": "ipython2",
   "version": "2.7.9"
  }
 },
 "nbformat": 4,
 "nbformat_minor": 2
}
