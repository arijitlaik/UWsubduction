{
 "cells": [
  {
   "cell_type": "code",
   "execution_count": 1,
   "metadata": {
    "collapsed": false,
    "deletable": true,
    "editable": true
   },
   "outputs": [
    {
     "name": "stdout",
     "output_type": "stream",
     "text": [
      "importing Jupyter notebook from tectModelClass.ipynb\n"
     ]
    }
   ],
   "source": [
    "#load in parent stuff\n",
    "\n",
    "import nb_load_stuff\n",
    "from tectModelClass import *"
   ]
  },
  {
   "cell_type": "code",
   "execution_count": 2,
   "metadata": {
    "collapsed": true,
    "deletable": true,
    "editable": true
   },
   "outputs": [],
   "source": [
    "#If run through Docker we'll point at the local 'unsupported dir.'\n",
    "#On hpc, the path should also include a directory holding the unsupported_dan.\n",
    "import os\n",
    "import sys\n",
    "\n",
    "if os.getcwd() == '/workspace/newSlab':\n",
    "    sys.path.append('../unsupported')\n",
    "\n",
    "#this does't actually need to be protected. More a reminder it's an interim measure\n",
    "try:\n",
    "    sys.path.append('../unsupported')\n",
    "except:\n",
    "    pass"
   ]
  },
  {
   "cell_type": "code",
   "execution_count": 3,
   "metadata": {
    "collapsed": false,
    "deletable": true,
    "editable": true
   },
   "outputs": [
    {
     "name": "stderr",
     "output_type": "stream",
     "text": [
      "../unsupported/unsupported_dan/utilities/__init__.py:9: UserWarning: \n",
      "\n",
      "The utilities module is not supported.\n",
      "Questions should be addressed to sandd@student.unimelb.edu.au \n",
      " \n",
      "  Questions should be addressed to sandd@student.unimelb.edu.au \\n \"\"\"\n",
      "../unsupported/unsupported_dan/interfaces/__init__.py:9: UserWarning: \n",
      "\n",
      "The interface module is not supported.\n",
      "Questions should be addressed to louis.moresi@unimelb.edu.au \n",
      " \n",
      "  Questions should be addressed to louis.moresi@unimelb.edu.au \\n \"\"\"\n"
     ]
    }
   ],
   "source": [
    "from unsupported_dan.utilities import *\n",
    "from unsupported_dan.utilities import *\n",
    "from unsupported_dan.interfaces.marker2D import markerLine2D, line_collection\n"
   ]
  },
  {
   "cell_type": "code",
   "execution_count": 4,
   "metadata": {
    "collapsed": true,
    "deletable": true,
    "editable": true
   },
   "outputs": [],
   "source": [
    "import numpy as np\n",
    "import underworld as uw\n",
    "from underworld import function as fn\n",
    "import glucifer\n",
    "from easydict import EasyDict as edict\n",
    "import networkx as nx\n",
    "import operator\n",
    "\n",
    "\n"
   ]
  },
  {
   "cell_type": "markdown",
   "metadata": {
    "deletable": true,
    "editable": true
   },
   "source": [
    "## Toy model"
   ]
  },
  {
   "cell_type": "code",
   "execution_count": 5,
   "metadata": {
    "collapsed": true,
    "deletable": true,
    "editable": true
   },
   "outputs": [],
   "source": [
    "mesh = uw.mesh.FeMesh_Cartesian( elementType = (\"Q1\"), \n",
    "                                 elementRes  = (96, 48), \n",
    "                                 minCoord    = (-1.0, 0.0), \n",
    "                                 maxCoord    = (1.0, 1.0) )\n",
    "\n",
    "\n",
    "temperatureField = uw.mesh.MeshVariable( mesh=mesh, nodeDofCount=1 )\n",
    "velocityField = uw.mesh.MeshVariable( mesh=mesh, nodeDofCount=2 )\n",
    "coordinate = fn.input()\n"
   ]
  },
  {
   "cell_type": "code",
   "execution_count": 6,
   "metadata": {
    "collapsed": false,
    "deletable": true,
    "editable": true
   },
   "outputs": [],
   "source": [
    "#toy model, 3 plates\n",
    "############################\n",
    "#-1        0.0  0.5    1.0\n",
    "######1##### ###2###  ##3##\n",
    "            #\n",
    "             #\n",
    "###########################\n",
    "\n",
    "tg = TectModel(mesh, 0, 20, 1)\n",
    "\n",
    "tg.add_plate(1, velocities = 1)\n",
    "tg.add_plate(2,velocities = -1)\n",
    "tg.add_plate(3, velocities = 0)\n",
    "        \n",
    "tg.add_left_boundary(1)\n",
    "tg.add_subzone(1, 2, 0.0, subInitAge=50.0, upperInitAge=10.0)\n",
    "tg.add_ridge(2, 3, 0.5)\n",
    "tg.add_right_boundary(3, 30.)"
   ]
  },
  {
   "cell_type": "code",
   "execution_count": 7,
   "metadata": {
    "collapsed": false
   },
   "outputs": [],
   "source": [
    "#tg.is_subduction_boundary((1,2))"
   ]
  },
  {
   "cell_type": "code",
   "execution_count": 8,
   "metadata": {
    "collapsed": false,
    "deletable": true,
    "editable": true
   },
   "outputs": [],
   "source": [
    "#tg.is_subduction_boundary(2,1), tg.is_subduction_boundary(3,2)\n",
    "\n",
    "#tg.subduction_boundary_from_plate(3)\n",
    "#tg.is_subducting_plate(1)\n",
    "#\n",
    "#np.sort(tg.get_boundaries(1)).mean(),  np.sort(tg.get_boundaries(2)).mean()\n",
    "#tg.subduction_direction(1,2)\n",
    "\n",
    "#tg.subduction_boundary_from_plate(tg.subduction_direction(2,1))\n",
    "#tg.subduction_boundary_from_plate(tg.subduction_edge_order(2,1)[0])"
   ]
  },
  {
   "cell_type": "code",
   "execution_count": 9,
   "metadata": {
    "collapsed": false,
    "deletable": true,
    "editable": true
   },
   "outputs": [
    {
     "data": {
      "text/plain": [
       "False"
      ]
     },
     "execution_count": 9,
     "metadata": {},
     "output_type": "execute_result"
    }
   ],
   "source": [
    "plateId =1\n",
    "len(tg[plateId].keys()) == 1 and len(tg.undirected[plateId].keys()) ==2"
   ]
  },
  {
   "cell_type": "code",
   "execution_count": 10,
   "metadata": {
    "collapsed": false,
    "deletable": true,
    "editable": true
   },
   "outputs": [
    {
     "name": "stdout",
     "output_type": "stream",
     "text": [
      "2\n",
      "3\n"
     ]
    }
   ],
   "source": [
    "plateId = 3\n",
    "for b in tg.connected_plates(plateId ):\n",
    "    print(b)\n",
    "    if tg.has_edge(plateId, b) and tg.has_edge(b, plateId):\n",
    "        pass\n",
    "    else:\n",
    "        print(tg.subduction_direction(plateId, b))\n",
    "        break"
   ]
  },
  {
   "cell_type": "code",
   "execution_count": 11,
   "metadata": {
    "collapsed": false,
    "deletable": true,
    "editable": true
   },
   "outputs": [
    {
     "data": {
      "text/plain": [
       "[(2, 3)]"
      ]
     },
     "execution_count": 11,
     "metadata": {},
     "output_type": "execute_result"
    }
   ],
   "source": [
    "plateId = 2\n",
    "[i for i in tg.out_edges(plateId)]\n",
    "#[i for i in tg.in_edges(plateId)]\n"
   ]
  },
  {
   "cell_type": "code",
   "execution_count": 12,
   "metadata": {
    "collapsed": false,
    "deletable": true,
    "editable": true
   },
   "outputs": [
    {
     "data": {
      "text/plain": [
       "((1, 2), (2, 3))"
      ]
     },
     "execution_count": 12,
     "metadata": {},
     "output_type": "execute_result"
    }
   ],
   "source": [
    "tg.in_edges(plateId)[0], tg.out_edges(plateId)[0]"
   ]
  },
  {
   "cell_type": "code",
   "execution_count": 13,
   "metadata": {
    "collapsed": false,
    "deletable": true,
    "editable": true
   },
   "outputs": [
    {
     "name": "stdout",
     "output_type": "stream",
     "text": [
      "1\n",
      "('plate 1', array([-1.,  0.]))\n",
      "2\n",
      "('plate 2', array([ 0. ,  0.5]))\n",
      "3\n",
      "('plate 3', array([ 0.5,  1. ]))\n"
     ]
    },
    {
     "data": {
      "text/html": [
       "<img src='data:image/png;base64,iVBORw0KGgoAAAANSUhEUgAAAZAAAADICAIAAABJdyC1AAAD8UlEQVR4nO3dS05cRxiA0fpb3ohn8Ta8gGzMA+/MIjvwLJlk4JlnlUFCAghicFDKH5wjBtXoPqqR+tN96Daz914ABZfTEwB4LMECMgQLyBAsIEOwgAzBAjIEC8gQLCBDsIAMwQIyBAvIECwgQ7CADMECMgQLyBAsIEOwgAzBAjIEC8gQLCBDsIAMwQIyBAvIECwgQ7CADMECMgQLyBAsIEOwgAzBAjIEC8gQLCDjzekJPKeZOT0F+OHsvU9P4dm8nGDNzE8fr07PgrXWev/2y8/vfn//9svpifw3X79ePl1dPv0yv/52eirfbz58Pj2F5+SUEMgQLCBDsIAMwQIyBAvIECwgQ7CADMECMgQLyBAsIEOwgAzBAjIEC8gQLCBDsIAMwQIyBAvIECwgQ7CADMECMgQLyBAsIEOwgAzBAjIEC8gQLCBDsIAMwQIyBAvIECwgQ7CADMECMgQLyBAsIEOwgAzBAjIEC8gQLCBDsIAMwQIyBAvIECwgQ7CADMECMgQLyBAsIEOwgAzBAjIEC8gQLCBDsIAMwQIyBAvIECwgQ7CADMECMgQLyBAsIEOwgAzBAjIEC8gQLCBDsIAMwQIyBAvIECwgQ7CADMECMgQLyBAsIEOwgAzBAjIEC8gQLCBDsIAMwQIyBAvIECwgQ7CADMECMgQLyBAsIEOwgAzBAjIEC8gQLCBDsIAMwQIyBAvIECwgQ7CADMECMgQLyBAsIEOwgAzBAjIEC8gQLCBDsIAMwQIyBAvIECwgQ7CADMECMgQLyBAsIEOwgAzBAjIEC8gQLCBDsIAMwQIyBAvIECwgQ7CADMECMgQLyBAsIEOwgAzBAjIEC8gQLCBDsIAMwQIyBAvIECwgQ7CADMECMgQLyBAsIGP23qfn8Dxm5vQU4Ef0Yj7j6yUFC3jxnBICGYIFZAgWkCFYQMabI3t1Rw/qjtyvOxOstda7j1cza2Zf1npoMGtdZs2sWfvu4J7l12XtO4MbK67L7EcMbu731mDmUYtdHp75zLrcGqyZ/YjBP/v99mLfHvw1gXv/XJe1ZvatwcMzv3/568Gstfa+8bPWuv1y7xu/uV547bXXfOeKN15eb+pJ25n7V9zrCe/lXybw4HZm3173Od7LY7Yzdzf1+Ans+fD5SDecEgIZggVkCBaQIVhAhmABGYIFZAgWkCFYQIZgARlnvg/LozlQ97oezfHFgdB16pjDKSGQIVhAhmABGf4JBZBx5gjLXULomplXdNFdraBrZvbee+8jH+QDwXISCl1nP78uugNP9udx1v+/X8ECnuwVnRICXWevQR97NAco+vvY6sxjyC6BAxVOCYEMwQIyBAvIECwg4w+9FoGdSnKRGwAAAABJRU5ErkJggg=='>"
      ],
      "text/plain": [
       "<IPython.core.display.HTML object>"
      ]
     },
     "metadata": {},
     "output_type": "display_data"
    }
   ],
   "source": [
    "for n in tg.nodes():\n",
    "    print(n)\n",
    "    bounds  = np.sort(tg.get_boundaries(n))\n",
    "    print('plate {}'.format(n), bounds)\n",
    "    \n",
    "    \n",
    "pIdFn = tg.plate_id_fn()\n",
    "pAgeDict = tg.plate_age_fn() \n",
    "\n",
    "fnAge_map = fn.branching.map(fn_key = pIdFn , \n",
    "                          mapping = pAgeDict )\n",
    "\n",
    "fig = glucifer.Figure(figsize=(400, 200))\n",
    "fig.append( glucifer.objects.Surface(tg.mesh, pIdFn ))\n",
    "fig.show()"
   ]
  },
  {
   "cell_type": "markdown",
   "metadata": {
    "collapsed": true,
    "deletable": true,
    "editable": true
   },
   "source": [
    "## Physical model"
   ]
  },
  {
   "cell_type": "code",
   "execution_count": 14,
   "metadata": {
    "collapsed": false,
    "deletable": true,
    "editable": true
   },
   "outputs": [],
   "source": [
    "yres = int(md.res)\n",
    "xres = int(md.res*12) \n",
    "\n",
    "mesh = uw.mesh.FeMesh_Cartesian( elementType = (md.elementType),\n",
    "                                 elementRes  = (xres, yres), \n",
    "                                 minCoord    = (ndp.leftLim, 1. - ndp.depth), \n",
    "                                 maxCoord    = (ndp.rightLim, 1.)) \n",
    "\n",
    "temperatureField    = uw.mesh.MeshVariable( mesh=mesh,         nodeDofCount=1 )\n",
    "\n",
    "velocityField = uw.mesh.MeshVariable( mesh=mesh,         nodeDofCount=2)"
   ]
  },
  {
   "cell_type": "code",
   "execution_count": 15,
   "metadata": {
    "collapsed": false,
    "deletable": true,
    "editable": true
   },
   "outputs": [],
   "source": [
    "#ndp.depth*2900."
   ]
  },
  {
   "cell_type": "markdown",
   "metadata": {
    "deletable": true,
    "editable": true
   },
   "source": [
    "## Build plate model"
   ]
  },
  {
   "cell_type": "code",
   "execution_count": 16,
   "metadata": {
    "collapsed": false,
    "deletable": true,
    "editable": true
   },
   "outputs": [],
   "source": [
    "tg = TectModel(mesh, 0, 20, 1)\n",
    "\n",
    "tg.add_plate(1, velocities = 1)\n",
    "tg.add_plate(2,velocities = -1)\n",
    "tg.add_plate(3,velocities = -1)"
   ]
  },
  {
   "cell_type": "code",
   "execution_count": 17,
   "metadata": {
    "collapsed": false,
    "deletable": true,
    "editable": true
   },
   "outputs": [],
   "source": [
    "tg.add_left_boundary(1)\n",
    "tg.add_subzone(1, 2, ndp.subZoneLoc, subInitAge=ndp.slabMaxAge, upperInitAge=ndp.opMaxAge)\n",
    "tg.add_subzone(3, 2., 0.4, subInitAge=ndp.slabMaxAge, upperInitAge=ndp.opMaxAge)\n",
    "\n",
    "tg.add_right_boundary(3, 0.)"
   ]
  },
  {
   "cell_type": "markdown",
   "metadata": {
    "deletable": true,
    "editable": true
   },
   "source": [
    "## Build plate age"
   ]
  },
  {
   "cell_type": "code",
   "execution_count": 18,
   "metadata": {
    "collapsed": false,
    "deletable": true,
    "editable": true
   },
   "outputs": [
    {
     "data": {
      "text/html": [
       "<img src='data:image/png;base64,iVBORw0KGgoAAAANSUhEUgAAAlgAAAEsCAIAAACQX1rBAAAHmklEQVR4nO3cPXIbyQGA0W7URnZuaW9ghz6ZD+Jgr7bBHsCZJVfZweZEOwBJgfgjSFGQuN97xUINBzPTPRA1n4aEONdaAwCqNt97AgDwPQkhAGlCCECaEAKQJoQApAkhAGlCCECaEAKQJoQApAkhAGlCCECaEAKQJoQApAkhAGlCCECaEAKQJoQApAkhAGlCCECaEAKQJoQApAkhAGlCCECaEAKQJoQApAkhAGlCCECaEAKQJoQApAkhAGlCCECaEAKQJoQApAkhAGlCCECaEAKQJoQApAkhAGlCCECaEAKQJoQApAkhAGlCCECaEAKQJoQApAkhAGlCCECaEAKQJoQApAkhAGlCCECaEAKQJoQApAkhAGlCCECaEAKQJoQApAkhAGlCCECaEAKQJoQApAkhAGlCCECaEAKQJoQApAkhAGlCCECaEAKQJoQApAkhAGlCCECaEAKQJoQApAkhAGlCCECaEAKQJoQApAkhAGlCCECaEAKQJoQApAkhAGlCCECaEAKQJoQApAkhAGlCCECaEAKQJoQApAkhAGlCCECaEAKQJoQApAkhAGlCCEDaT7cZZs55m4EA+MNYa91glFuEcM75t19+nXNt5phzbcaac2zm2Mzdwm792IyHhbk2Y+y2v99ltzAO1qw59o9z+oAPgx5v9niEvXGfzGQdHXN3nIsTODrgV0/g+MSvm8BYc+we1xxrrDMf21Mrxxhrje32ml3muSNfM9AVu1x7/GdH2W7vz+vpx3zNxPZfmcNjPk54ffjL+PnD+vhh/fxxffww/vynG/x145Lff5+f/jP+/Xl++jw/fR7//d/YbJ5+zDEfFg7W7326dgtznt5gHuy72/7Uxkdb7lau46FPz2ozNnPNzdrtNTdrzLs177bzbs27Ne4XtuPocT6zvJ13a263x3uN5/fdLZ/Y+CUTWPNuO3/7x99v83XhW6MApAkhAGlCCECaEAKQJoQApAkhAGlCCECaEAKQJoQApAkhAGlCCECaEAKQJoQApAkhAGlCCECaEAKQJoQApAkhAGlCCECaEAKQJoQApAkhAGlCCECaEAKQJoQApAkhAGlCCECaEAKQJoQApAkhAGlCCECaEAKQJoQApAkhAGlCCECaEAKQJoQApAkhAGlCCECaEAKQJoQApAkhAGlCCECaEAKQJoQApAkhAGlCCECaEAKQJoQApAkhAGlCCECaEAKQJoQApAkhAGlCCECaEAKQJoQApAkhAGlCCECaEAKQJoQApAkhAGlCCECaEAKQJoQApAkhAGlCCECaEAKQJoQApAkhAGlCCECaEAKQJoQApAkhAGlCCECaEAKQJoQApAkhAGlCCECaEAKQJoQApAkhAGlCCECaEAKQJoQApAkhAGlCCECaEAKQJoQApAkhAGlCCECaEAKQJoQApAkhAGlCCECaEAKQJoQApAkhAGlCCECaEAKQJoQApAkhAGlCCECaEAKQJoQApM211i2GmfMGowDwR3KjQt1mGAD4MfnWKABpQghAmhACkCaEAKQJIQBpQghAmhACkCaEAKQJIQBpQghAmhACkCaEAKQJIQBpQghAmhACkCaEAKQJIQBpQghAmhACkCaEAKQJIQBpQghAmhACkCaEAKQJIQBpQghAmhACkCaEAKQJIQBpQghAmhACkCaEAKQJIQBpQghAmhACkCaEAKQJIQBpQghAmhACkCaEAKQJIQBpQghAmhACkCaEAKQJIQBpQghAmhACkCaEAKQJIQBpQghAmhACkCaEAKQJIQBpQghAmhACkCaEAKQJIQBpQghAmhACkCaEAKQJIQBpQghAmhACkCaEAKQJIQBpQghA2k/fewIvNuf83lMA4Ky11veewsu8vxCOMf76y69zjjnWnGOOMcfYfTrm4/KYc31ZHmPsf7q373j66eO+Y2/f/UONU+OeeOp+g7Wr9sumtLfvwemMU1Oac4xT416Y0pdDHc1hnJrS/VlcmNJu44NDnXnqcLa7OZyf0uEoe/uOh30PXuFxzZSe/eL5cqgTf1Lj6Avg8pQufPGMMcbuwrHWWGOMg8cLTz08Pm5z/3j/1Dzx1LmxXj/KqadeP8p8w1EujPWmo8xrX7dvcy6vGmW+4ShPn5r//Nd4b3xrFIA0IQQgTQgBSBNCANKEEIA0IQQgTQgBSBNCANKEEIC0+e5+F45fsQbwI3t3WXmXv2Lt3b3KABHv8V7Ft0YBSBNCANKEEIC09/dmGQB4Qzd6s8z+j0+P07t79nH9yY0Ptjm55tk57Da+PBmAlAvX0msuvM+uefUl/aUX+Ve7UQhPviKPa47P82DNfsPOLVx24U8CIOvCtfSaC++VF+frj3zNxN7cTX9GeP35zDlfUakLe528DXU7CPC2zt1ZvvSSfsvr8w/x/wgP7n/379h2y2ut420OXtZb/vMBgAtO3g4eX9IPdhnn7x2/qduF8ML5PBuwC/fa+6/mcRrH+X+eiCXAt3DNBfbcOzb2973ZhfqHuCM88OqTP9hL6gBu7MJP+77yON/ODUd6elYH2R9f/cakk2vOTcAdIcDO8Zs8v+bi/FbvEb3l2/v1AIA0v1kGgDQhBCBNCAFIE0IA0v4Pai5LhGlJS2UAAAAASUVORK5CYII='>"
      ],
      "text/plain": [
       "<IPython.core.display.HTML object>"
      ]
     },
     "metadata": {},
     "output_type": "display_data"
    }
   ],
   "source": [
    "pIdFn = tg.plate_id_fn()\n",
    "pAgeDict = tg.plate_age_fn() \n",
    "\n",
    "fnAge_map = fn.branching.map(fn_key = pIdFn , \n",
    "                          mapping = pAgeDict )\n",
    "\n",
    "fig = glucifer.Figure(figsize=(600, 300))\n",
    "fig.append( glucifer.objects.Surface(tg.mesh, fnAge_map ))\n",
    "fig.show()"
   ]
  },
  {
   "cell_type": "code",
   "execution_count": 19,
   "metadata": {
    "collapsed": true,
    "deletable": true,
    "editable": true
   },
   "outputs": [],
   "source": [
    "coordinate = fn.input()\n",
    "depthFn = mesh.maxCoord[1] - coordinate[1]\n",
    "plateTempProxFn = ndp.potentialTemp*fn.math.erf((depthFn)/(2.*fn.math.sqrt(1.*fnAge_map)))"
   ]
  },
  {
   "cell_type": "code",
   "execution_count": 20,
   "metadata": {
    "collapsed": false,
    "deletable": true,
    "editable": true
   },
   "outputs": [
    {
     "data": {
      "text/html": [
       "<img src='data:image/png;base64,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'>"
      ],
      "text/plain": [
       "<IPython.core.display.HTML object>"
      ]
     },
     "metadata": {},
     "output_type": "display_data"
    }
   ],
   "source": [
    "fig = glucifer.Figure(figsize=(600, 300))\n",
    "fig.append( glucifer.objects.Surface(tg.mesh, plateTempProxFn))\n",
    "fig.show()"
   ]
  },
  {
   "cell_type": "markdown",
   "metadata": {
    "deletable": true,
    "editable": true
   },
   "source": [
    "## Make swarm and Slabs"
   ]
  },
  {
   "cell_type": "code",
   "execution_count": 57,
   "metadata": {
    "collapsed": false,
    "deletable": true,
    "editable": true
   },
   "outputs": [],
   "source": [
    "swarm = uw.swarm.Swarm(mesh=mesh, particleEscape=True)\n",
    "layout = uw.swarm.layouts.PerCellRandomLayout(swarm=swarm, particlesPerCell=int(20))\n",
    "swarm.populate_using_layout( layout=layout ) # Now use it to populate.\n",
    "proxyTempVariable = swarm.add_variable( dataType=\"double\", count=1 )\n",
    "proximityVariable      = swarm.add_variable( dataType=\"int\", count=1 )\n",
    "signedDistanceVariable = swarm.add_variable( dataType=\"double\", count=1 )\n",
    "\n",
    "#\n",
    "proxyTempVariable.data[:] = 1.0\n",
    "proximityVariable.data[:] = 0.0\n",
    "signedDistanceVariable.data[:] = 0.0\n"
   ]
  },
  {
   "cell_type": "code",
   "execution_count": 58,
   "metadata": {
    "collapsed": false,
    "deletable": true,
    "editable": true
   },
   "outputs": [],
   "source": [
    "\n",
    "def tm_uw_map(tempField, velField, mainswarm, signedDistanceVar, proxyTempVar, proximityVar):\n",
    "    \n",
    "    mapDict = {}\n",
    "    mapDict['tempField'] = tempField\n",
    "    mapDict['velField'] = velField\n",
    "    mapDict['mainswarm'] = mainswarm\n",
    "    mapDict['signedDistanceVar'] = signedDistanceVar\n",
    "    mapDict['proxyTempVar'] = proxyTempVar\n",
    "    mapDict['proximityVar'] = proximityVar\n",
    "    return mapDict\n",
    "\n"
   ]
  },
  {
   "cell_type": "code",
   "execution_count": 59,
   "metadata": {
    "collapsed": false
   },
   "outputs": [
    {
     "data": {
      "text/plain": [
       "{'mainswarm': <underworld.swarm._swarm.Swarm at 0x7f2de9356450>,\n",
       " 'proximityVar': <underworld.swarm._swarmvariable.SwarmVariable at 0x7f2debdbe390>,\n",
       " 'proxyTempVar': <underworld.swarm._swarmvariable.SwarmVariable at 0x7f2debdbe2d0>,\n",
       " 'signedDistanceVar': <underworld.swarm._swarmvariable.SwarmVariable at 0x7f2de9356a90>,\n",
       " 'tempField': <underworld.mesh._meshvariable.MeshVariable at 0x7f2df33e4f10>,\n",
       " 'velField': <underworld.mesh._meshvariable.MeshVariable at 0x7f2df3418d50>}"
      ]
     },
     "execution_count": 59,
     "metadata": {},
     "output_type": "execute_result"
    }
   ],
   "source": [
    "#All of these wil be needed by the slab / fault setup functions\n",
    "#We have two main options, bind them to the TectModel class. \n",
    "#or provide them to the functions\n",
    "#collection them in a dictionary may be a useful way too proviede them to the fucntiosn \n",
    "#wthout blowing out the function arguments\n",
    "\n",
    "tmUwMap = tm_uw_map(temperatureField, velocityField, swarm, \n",
    "                    signedDistanceVariable, proxyTempVariable, proximityVariable)\n",
    "\n",
    "\n",
    "tmUwMap"
   ]
  },
  {
   "cell_type": "code",
   "execution_count": 60,
   "metadata": {
    "collapsed": false,
    "deletable": true,
    "editable": true
   },
   "outputs": [],
   "source": [
    "def build_slab_distance(plates, gradFn, maxDepth, signedDistanceVar, proxyTempVar):\n",
    "    \n",
    "\n",
    "    \"\"\"\n",
    "    We're going to build the slab temperature perturbation by mapping from a markerLine to the swarm\n",
    "    \n",
    "    \"\"\"\n",
    "    \n",
    "    assert tg.is_subduction_boundary((plates[0], plates[1])), 'not a subduction boundary'   \n",
    "    \n",
    "    #determine subduction zone location, direction, etc\n",
    "    szloc = tg.undirected[plates[0]][plates[1]]['loc']             #Location\n",
    "    dir_ = tg.subduction_direction((plates[0], plates[1]))           #Direction facing\n",
    "    normal = [dir_,0.]                                       #Direction facing (as a vector)\n",
    "    \n",
    "    spId = tg.subduction_edge_order((plates[0], plates[1]))[0]         #subduction plate Id\n",
    "    slabage = tg.undirected[plates[0]][plates[1]]['ages'][spId]      #subduction plate Age at the trench\n",
    "    slabthickness = 2.32*math.sqrt(1.*slabage )              #Diffusive thickness, dimensionless\n",
    "    plateBounds = np.sort(tg.get_boundaries(spId))\n",
    "    insidePt = (np.array(plateBounds).mean(), 1 - maxDepth*5)\n",
    "    \n",
    "    \n",
    "    \n",
    "\n",
    "    ds = (tg.maxX - tg.minX)/(5.*tg.mesh.elementRes[0])     #distance between points \n",
    "    #make the slab data\n",
    "    slabdata = slab_top([szloc, 1.0], normal, gradFn, ds, maxDepth, tg.mesh) #Build the top of slab line\n",
    "    #return slabdata\n",
    "    \n",
    "\n",
    "    \n",
    "    #build the marker Line\n",
    "    id_ = -99 #in this case, just a dummy value\n",
    "    slabLine = markerLine2D(mesh, velocityField, slabdata[:,0], slabdata[:,1], \n",
    "                            slabthickness, id_, insidePt=insidePt)\n",
    "    \n",
    "    #print (1. - slabLine.swarm.particleCoordinates.data[:,1].min())*2900\n",
    "    \n",
    "    #map to signed distance\n",
    "    \n",
    "    sd, pts = slabLine.compute_signed_distance(swarm.particleCoordinates.data, distance=2.*slabthickness)\n",
    "    signedDistanceVar.data[np.logical_and(sd>0, sd<=slabLine.thickness)] = \\\n",
    "    sd[np.logical_and(sd>0, sd<=slabLine.thickness)]\n",
    "    \n",
    "    #Now apply the depth cutoff \n",
    "    signedDistanceVar.data[swarm.particleCoordinates.data[:,1] < (1. - maxDepth)] = 0.0\n",
    "        \n",
    "    \n",
    "   \n",
    "def build_slab_temp(signedDistanceVar, proxyTempVar):\n",
    "    \n",
    "    #map to proxyTempVariable\n",
    "    \n",
    "    #a numpy array\n",
    "    slabTempProx  = ndp.potentialTemp*fn.math.erf((signedDistanceVar)/(2.*np.sqrt(1.*ndp.slabMaxAge)))\n",
    "    \n",
    "    \n",
    "    conditions = [ ( slabTempProx > 0.1, slabTempProx ), \n",
    "                   ( True, proxyTempVar)] \n",
    "\n",
    "    proxyTempVar.data[:] = fn.branching.conditional( conditions ).evaluate(swarm)\n",
    "    \n",
    "    \n",
    "    \n",
    "\n",
    "    \n",
    "    "
   ]
  },
  {
   "cell_type": "code",
   "execution_count": 61,
   "metadata": {
    "collapsed": true
   },
   "outputs": [],
   "source": [
    "def build_fault(plates, gradFn, maxDepth,offset, signedDistanceVar, proxyTempVar):\n",
    "    \n",
    "\n",
    "    \"\"\"\n",
    "    We're going to build the slab temperature perturbation by mapping from a markerLine to the swarm\n",
    "    \n",
    "    \"\"\"\n",
    "    \n",
    "    assert tg.is_subduction_boundary((plates[0], plates[1])), 'not a subduction boundary'   \n",
    "    \n",
    "    #determine subduction zone location, direction, etc\n",
    "    szloc = tg.undirected[plates[0]][plates[1]]['loc']             #Location\n",
    "    dir_ = tg.subduction_direction((plates[0], plates[1]))           #Direction facing\n",
    "    normal = [dir_,0.]                                       #Direction facing (as a vector)\n",
    "    \n",
    "    spId = tg.subduction_edge_order((plates[0], plates[1]))[0]         #subduction plate Id\n",
    "    slabage = tg.undirected[plates[0]][plates[1]]['ages'][spId]      #subduction plate Age at the trench\n",
    "    slabthickness = 2.32*math.sqrt(1.*slabage )              #Diffusive thickness, dimensionless\n",
    "    plateBounds = np.sort(tg.get_boundaries(spId))\n",
    "    insidePt = (np.array(plateBounds).mean(), 1 - maxDepth*5)\n",
    "    \n",
    "\n",
    "    ds = (tg.maxX - tg.minX)/(5.*tg.mesh.elementRes[0])\n",
    "    #make the slab data\n",
    "    slabdata = slab_top([szloc, 1.0 - offset], normal, gradFn, ds, maxDepth, tg.mesh)\n",
    "    \n",
    "    \n",
    "    \n",
    "    plateDataXs = np.arange(plateBounds[0], plateBounds[1], ds)\n",
    "    \n",
    "    plateDataYs = (1.0 - offset)*np.ones(len(plateDataXs))\n",
    "    plateData = np.column_stack((plateDataXs, plateDataYs))\n",
    "    \n",
    "    #print(plateBounds[0], plateBounds[1])\n",
    "    \n",
    "    faultData = np.row_stack((plateData, slabdata))\n",
    "    print(plateData.shape, slabdata.shape)\n",
    "    \n",
    "    #build the marker Line\n",
    "    fault = markerLine2D(mesh, velocityField, faultData[:,0], faultData[:,1], \n",
    "                            slabthickness, spId, insidePt=insidePt)\n",
    "    \n",
    "   # with fault.swarm.deform_swarm():\n",
    "   #     fault.swarm.particleCoordinates.data[:] += fault.director.data*offset\n",
    "    \n",
    "    return fault"
   ]
  },
  {
   "cell_type": "code",
   "execution_count": 71,
   "metadata": {
    "collapsed": false
   },
   "outputs": [
    {
     "name": "stdout",
     "output_type": "stream",
     "text": [
      "((1383, 2), (124, 2))\n",
      "((772, 2), (124, 2))\n"
     ]
    }
   ],
   "source": [
    "fCollection = line_collection([])\n",
    "\n",
    "for e in tg.undirected.edges():\n",
    "    if tg.is_subduction_boundary(e):\n",
    "        build_slab_distance(e, linearGradientFn, ndp.maxDepth, signedDistanceVariable, proxyTempVariable)\n",
    "        temp = build_fault(e, linearGradientFn, ndp.maxDepth, ndp.faultThickness, signedDistanceVariable, proxyTempVariable)\n",
    "        fCollection.append(temp)\n",
    "#\n",
    "build_slab_temp(signedDistanceVariable, proxyTempVariable)\n",
    "fnJointTemp = fn.misc.min(proxyTempVariable,plateTempProxFn)"
   ]
  },
  {
   "cell_type": "code",
   "execution_count": 72,
   "metadata": {
    "collapsed": false,
    "deletable": true,
    "editable": true
   },
   "outputs": [],
   "source": [
    "#build_slab_distance((1,2), linearGradientFn, ndp.maxDepth, signedDistanceVariable, proxyTempVariable)\n",
    "#build_slab_distance((2,3), linearGradientFn, ndp.maxDepth,signedDistanceVariable, proxyTempVariable )"
   ]
  },
  {
   "cell_type": "code",
   "execution_count": null,
   "metadata": {
    "collapsed": false,
    "deletable": true,
    "editable": true
   },
   "outputs": [],
   "source": []
  },
  {
   "cell_type": "code",
   "execution_count": 73,
   "metadata": {
    "collapsed": false,
    "deletable": true,
    "editable": true
   },
   "outputs": [
    {
     "data": {
      "text/html": [
       "<img src='data:image/png;base64,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'>"
      ],
      "text/plain": [
       "<IPython.core.display.HTML object>"
      ]
     },
     "metadata": {},
     "output_type": "display_data"
    }
   ],
   "source": [
    "fig = glucifer.Figure(figsize=(600, 300))\n",
    "fig.append( glucifer.objects.Points(swarm, fnJointTemp))\n",
    "    \n",
    "\n",
    "fig.show()\n",
    "#fig.save_database('test.gldb')"
   ]
  },
  {
   "cell_type": "code",
   "execution_count": 48,
   "metadata": {
    "collapsed": false
   },
   "outputs": [
    {
     "name": "stdout",
     "output_type": "stream",
     "text": [
      "False\n",
      "True\n",
      "True\n",
      "False\n"
     ]
    }
   ],
   "source": []
  },
  {
   "cell_type": "code",
   "execution_count": 49,
   "metadata": {
    "collapsed": false
   },
   "outputs": [
    {
     "name": "stdout",
     "output_type": "stream",
     "text": [
      "((1383, 2), (124, 2))\n"
     ]
    }
   ],
   "source": [
    "ft = build_fault((1,2), linearGradientFn, ndp.maxDepth, ndp.faultThickness, signedDistanceVariable, proxyTempVariable)"
   ]
  },
  {
   "cell_type": "code",
   "execution_count": 50,
   "metadata": {
    "collapsed": false
   },
   "outputs": [
    {
     "data": {
      "text/plain": [
       "1"
      ]
     },
     "execution_count": 50,
     "metadata": {},
     "output_type": "execute_result"
    }
   ],
   "source": [
    "ft.ID"
   ]
  },
  {
   "cell_type": "code",
   "execution_count": 75,
   "metadata": {
    "collapsed": false
   },
   "outputs": [
    {
     "data": {
      "text/html": [
       "<img src='data:image/png;base64,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'>"
      ],
      "text/plain": [
       "<IPython.core.display.HTML object>"
      ]
     },
     "metadata": {},
     "output_type": "display_data"
    }
   ],
   "source": [
    "fig2 = glucifer.Figure()\n",
    "#fig2.append( glucifer.objects.Points(swarm, fnJointTemp, pointSize=0.01))\n",
    "\n",
    "for f in fCollection:\n",
    "    fig2.append( glucifer.objects.Points(f.swarm, pointSize=5))\n",
    "\n",
    "fig2.append( glucifer.objects.Surface(mesh, fn.misc.constant(1)))\n",
    "\n",
    "fig2.show()\n",
    "#fig2.save_database('test.gldb')"
   ]
  },
  {
   "cell_type": "code",
   "execution_count": null,
   "metadata": {
    "collapsed": true
   },
   "outputs": [],
   "source": []
  }
 ],
 "metadata": {
  "kernelspec": {
   "display_name": "Python 2",
   "language": "python",
   "name": "python2"
  },
  "language_info": {
   "codemirror_mode": {
    "name": "ipython",
    "version": 2
   },
   "file_extension": ".py",
   "mimetype": "text/x-python",
   "name": "python",
   "nbconvert_exporter": "python",
   "pygments_lexer": "ipython2",
   "version": "2.7.9"
  }
 },
 "nbformat": 4,
 "nbformat_minor": 2
}
