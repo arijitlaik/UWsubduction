{
 "cells": [
  {
   "cell_type": "markdown",
   "metadata": {},
   "source": [
    "## Tests"
   ]
  },
  {
   "cell_type": "code",
   "execution_count": 1,
   "metadata": {
    "collapsed": true
   },
   "outputs": [],
   "source": [
    "#use this block to point to a local version of UWsubduction\n",
    "import sys\n",
    "\n",
    "try:\n",
    "    sys.path.append('..')\n",
    "except:\n",
    "    pass"
   ]
  },
  {
   "cell_type": "code",
   "execution_count": 2,
   "metadata": {
    "collapsed": true
   },
   "outputs": [],
   "source": [
    "import os\n",
    "import numpy as np\n",
    "import underworld as uw\n",
    "from underworld import function as fn\n",
    "import glucifer\n",
    "from easydict import EasyDict as edict\n",
    "import networkx as nx\n",
    "import operator\n",
    "import UWsubduction as usub"
   ]
  },
  {
   "cell_type": "code",
   "execution_count": 3,
   "metadata": {
    "collapsed": true
   },
   "outputs": [],
   "source": [
    "#outputPath = os.path.join(os.path.abspath(\".\"),\"output/\")\n",
    "outputPath = os.path.join(os.path.abspath(\".\"),\"output/files\")\n",
    "\n",
    "if uw.rank()==0:\n",
    "    if not os.path.exists(outputPath):\n",
    "        os.makedirs(outputPath)\n",
    "uw.barrier()"
   ]
  },
  {
   "cell_type": "code",
   "execution_count": 4,
   "metadata": {
    "collapsed": false
   },
   "outputs": [
    {
     "name": "stderr",
     "output_type": "stream",
     "text": [
      "/root/underworld2/unsupported/scaling/__init__.py:13: UserWarning: \n",
      "\n",
      "    The scaling module is not supported.\n",
      "\n",
      "    It requires 'pint' as a dependency.\n",
      "\n",
      "    You can install pint by running:\n",
      "\n",
      "    'pip install pint' in a terminal\n",
      "\n",
      "    Questions should be addressed to romain.beucher@unimelb.edu.au \n",
      " \n",
      "  Questions should be addressed to romain.beucher@unimelb.edu.au \\n \"\"\"\n"
     ]
    }
   ],
   "source": [
    "import UWsubduction.params as params \n",
    "\n",
    "#define some more concise names\n",
    "ur = params.UnitRegistry\n",
    "sca = params.sub_scaling\n",
    "ndimlz = sca.nonDimensionalize\n",
    "#build the dimensionless paramter / model dictionaries\n",
    "ndp = params.build_nondim_dict(params.paramDict_dim  , sca)   \n",
    "md = params.build_nondim_dict(params.modelDict_dim  , sca)\n",
    "\n",
    "assert ndimlz(params.paramDict_dim.refLength) == 1.0\n",
    "\n",
    "# changes to base params (for testing)\n",
    "md.faultThickness *= 1.5 #15 km\n",
    "md.res = 48\n",
    "md.depth *= 0.85"
   ]
  },
  {
   "cell_type": "code",
   "execution_count": 5,
   "metadata": {
    "collapsed": true
   },
   "outputs": [],
   "source": [
    "yres = int(md.res)\n",
    "xres = int(md.res*6) \n",
    "\n",
    "halfWidth = 0.5*md.depth*md.aspectRatio \n",
    "\n",
    "minCoord_    = (-1.*halfWidth, 1. - md.depth) \n",
    "maxCoord_    = (halfWidth, 1.)\n",
    "\n",
    "mesh = uw.mesh.FeMesh_Cartesian( elementType = (md.elementType),\n",
    "                                 elementRes  = (xres, yres), \n",
    "                                 minCoord    = minCoord_, \n",
    "                                 maxCoord    = maxCoord_) \n",
    "\n",
    "velocityField = uw.mesh.MeshVariable( mesh=mesh,         nodeDofCount=2)\n",
    "pressureField   = uw.mesh.MeshVariable( mesh=mesh.subMesh, nodeDofCount=1 )\n",
    "    \n",
    "\n",
    "velocityField.data[:] = 0.\n",
    "pressureField.data[:] = 0."
   ]
  },
  {
   "cell_type": "code",
   "execution_count": 7,
   "metadata": {
    "collapsed": false
   },
   "outputs": [],
   "source": [
    "endTime = ndimlz(20.*ur.megayear)\n",
    "dt = endTime                           #dummy value as we're onlu using the tectModel to set up the initial conds.\n",
    "tm = usub.TectonicModel(mesh, 0, endTime, dt)\n",
    "\n",
    "tm.add_plate(1)\n",
    "tm.add_plate(2)\n",
    "tm.add_plate(3)"
   ]
  },
  {
   "cell_type": "code",
   "execution_count": 14,
   "metadata": {
    "collapsed": true
   },
   "outputs": [],
   "source": [
    "tm.add_left_boundary(1)\n",
    "tm.add_subzone(1, 2, md.subZoneLoc, subInitAge=md.slabAge, upperInitAge=md.opAgeAtTrench)\n",
    "tm.add_subzone(3, 2., 0.4, subInitAge=md.slabAge, upperInitAge=md.opAgeAtTrench)\n",
    "#tm.add_right_boundary(3, 0.)"
   ]
  },
  {
   "cell_type": "code",
   "execution_count": 15,
   "metadata": {
    "collapsed": false
   },
   "outputs": [
    {
     "name": "stdout",
     "output_type": "stream",
     "text": [
      "[-0.73275862 -0.03448276]\n",
      "[-0.03448276  0.4       ]\n",
      "plate does not have 2 boundaries. Cannot define extent.\n",
      "[]\n"
     ]
    }
   ],
   "source": [
    "for n in tm.nodes():\n",
    "    bounds  = np.sort(tm.get_boundaries(n))\n",
    "    print(bounds)"
   ]
  },
  {
   "cell_type": "code",
   "execution_count": 11,
   "metadata": {
    "collapsed": false
   },
   "outputs": [
    {
     "data": {
      "text/plain": [
       "array([ 0.4       ,  0.73275862])"
      ]
     },
     "execution_count": 11,
     "metadata": {},
     "output_type": "execute_result"
    }
   ],
   "source": [
    "bounds"
   ]
  },
  {
   "cell_type": "code",
   "execution_count": null,
   "metadata": {
    "collapsed": true
   },
   "outputs": [],
   "source": []
  }
 ],
 "metadata": {
  "kernelspec": {
   "display_name": "Python 2",
   "language": "python",
   "name": "python2"
  },
  "language_info": {
   "codemirror_mode": {
    "name": "ipython",
    "version": 2
   },
   "file_extension": ".py",
   "mimetype": "text/x-python",
   "name": "python",
   "nbconvert_exporter": "python",
   "pygments_lexer": "ipython2",
   "version": "2.7.9"
  }
 },
 "nbformat": 4,
 "nbformat_minor": 2
}
