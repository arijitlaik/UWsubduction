{
 "cells": [
  {
   "cell_type": "code",
   "execution_count": 2,
   "metadata": {
    "collapsed": false,
    "deletable": true,
    "editable": true
   },
   "outputs": [
    {
     "name": "stdout",
     "output_type": "stream",
     "text": [
      "Populating the interactive namespace from numpy and matplotlib\n"
     ]
    }
   ],
   "source": [
    "%pylab inline\n",
    "import numpy as np\n",
    "\n",
    "import seaborn as sns\n",
    "import glob2\n",
    "import pandas as pd\n",
    "import h5py\n",
    "from scipy.ndimage.filters import gaussian_filter\n",
    "import natsort\n"
   ]
  },
  {
   "cell_type": "code",
   "execution_count": null,
   "metadata": {
    "collapsed": true,
    "deletable": true,
    "editable": true
   },
   "outputs": [],
   "source": []
  },
  {
   "cell_type": "code",
   "execution_count": 3,
   "metadata": {
    "collapsed": true,
    "deletable": true,
    "editable": true
   },
   "outputs": [],
   "source": [
    "def get_dataframe():\n",
    "    file_ = '../Examples/output/tect_model_data.npz'\n",
    "    out = np.load(file_)\n",
    "    d = dict(out)\n",
    "    df = pd.DataFrame.from_dict(d)\n",
    "    return df "
   ]
  },
  {
   "cell_type": "code",
   "execution_count": 34,
   "metadata": {
    "collapsed": false,
    "deletable": true,
    "editable": true
   },
   "outputs": [],
   "source": [
    "df = get_dataframe( )\n"
   ]
  },
  {
   "cell_type": "code",
   "execution_count": 35,
   "metadata": {
    "collapsed": false,
    "deletable": true,
    "editable": true
   },
   "outputs": [
    {
     "data": {
      "text/plain": [
       "(     (1, 1)    (1, 2)    (2, 3)    (3, 3)  stepAtSave  timeAtSave\n",
       " 0 -0.862069 -0.600000  0.200000  0.862069           0    0.000000\n",
       " 1 -0.862069 -0.596252  0.217388  0.862069           5    0.000001, (41, 6))"
      ]
     },
     "execution_count": 35,
     "metadata": {},
     "output_type": "execute_result"
    }
   ],
   "source": [
    "df.head(2), df.shape"
   ]
  },
  {
   "cell_type": "code",
   "execution_count": 16,
   "metadata": {
    "collapsed": false,
    "deletable": true,
    "editable": true
   },
   "outputs": [
    {
     "data": {
      "text/plain": [
       "266679.3505834602"
      ]
     },
     "execution_count": 16,
     "metadata": {},
     "output_type": "execute_result"
    }
   ],
   "source": [
    "velScale = 3.4482758620689656e-13*(3600*24*365)*100.  #cm/y\n",
    "timeScale = 8.41e+18/(1e6*3600*24*365)    \n",
    "\n",
    "timeScale "
   ]
  },
  {
   "cell_type": "code",
   "execution_count": 37,
   "metadata": {
    "collapsed": false,
    "deletable": true,
    "editable": true
   },
   "outputs": [
    {
     "data": {
      "text/plain": [
       "Index([u'(1, 1)', u'(1, 2)', u'(2, 3)', u'(3, 3)', u'stepAtSave',\n",
       "       u'timeAtSave'],\n",
       "      dtype='object')"
      ]
     },
     "execution_count": 37,
     "metadata": {},
     "output_type": "execute_result"
    }
   ],
   "source": [
    "df.columns"
   ]
  },
  {
   "cell_type": "code",
   "execution_count": 41,
   "metadata": {
    "collapsed": false,
    "deletable": true,
    "editable": true
   },
   "outputs": [
    {
     "data": {
      "text/plain": [
       "[<matplotlib.lines.Line2D at 0x7f44ebfe3a10>]"
      ]
     },
     "execution_count": 41,
     "metadata": {},
     "output_type": "execute_result"
    },
    {
     "data": {
      "image/png": "[encoded data removed]",
      "text/plain": [
       "<matplotlib.figure.Figure at 0x7f44ebcbc450>"
      ]
     },
     "metadata": {},
     "output_type": "display_data"
    }
   ],
   "source": [
    "fig = plt.figure(figsize=(8,8))\n",
    "\n",
    "ax = fig.add_subplot(211)\n",
    "\n",
    "\n",
    "#ax.plot(df['timeAtSave']*timeScale, df['(1, 1)']*2900 - df['(1, 1)'][0]*2900, \n",
    "#       label  = '', ls = '-')\n",
    "\n",
    "\n",
    "#ax.plot(df['timeAtSave']*timeScale, df['(3, 3)']*2900 - df['(3, 3)'][0]*2900, \n",
    "#  label  = '', ls = '--')\n",
    "\n",
    "ax.plot(df['timeAtSave']*timeScale, df['(1, 2)']*2900 - df['(1, 2)'][0]*2900, \n",
    "marker='.',label  = '', ls = '--')\n",
    "\n",
    "ax.plot(df['timeAtSave']*timeScale, df['(2, 3)']*2900 - df['(2, 3)'][0]*2900, \n",
    "        marker='.',label  = '', ls = '--')"
   ]
  },
  {
   "cell_type": "markdown",
   "metadata": {
    "collapsed": true,
    "deletable": true,
    "editable": true
   },
   "source": [
    "## Surface vels"
   ]
  },
  {
   "cell_type": "code",
   "execution_count": 4,
   "metadata": {
    "collapsed": true,
    "deletable": true,
    "editable": true
   },
   "outputs": [],
   "source": [
    "def listify_data(unique_string, path):\n",
    "    glob_str = path + '*' + unique_string + '*'\n",
    "    files = natsort.natsort(glob2.glob(glob_str))\n",
    "    #print(glob_str)\n",
    "    #return files\n",
    "    \n",
    "    dataList = []\n",
    "    for f in files:\n",
    "        with h5py.File(f,'r') as hf:\n",
    "            data = hf.get('data')\n",
    "            dataList.append(np.array(data))\n",
    "    return dataList"
   ]
  },
  {
   "cell_type": "code",
   "execution_count": 10,
   "metadata": {
    "collapsed": false,
    "deletable": true,
    "editable": true
   },
   "outputs": [],
   "source": [
    "#vx = listify_data('surfVx', '../Examples/output/files/')\n",
    "\n",
    "vx = listify_data('surfVx', '../../models/results/T/13/files/')\n",
    "\n",
    "#./models/results/T/13/files/\n",
    "#vx"
   ]
  },
  {
   "cell_type": "code",
   "execution_count": 14,
   "metadata": {
    "collapsed": false,
    "deletable": true,
    "editable": true
   },
   "outputs": [
    {
     "data": {
      "text/plain": [
       "(0, 600)"
      ]
     },
     "execution_count": 14,
     "metadata": {},
     "output_type": "execute_result"
    },
    {
     "data": {
      "image/png": "[encoded data removed]",
      "text/plain": [
       "<matplotlib.figure.Figure at 0x7f2b16c9b310>"
      ]
     },
     "metadata": {},
     "output_type": "display_data"
    }
   ],
   "source": [
    "cs = sns.color_palette(\"coolwarm\", len(vx[0::5]))\n",
    "\n",
    "fig, ax = plt.subplots(figsize=(16,4))\n",
    "ci = 0\n",
    "for v in vx[0::5]:\n",
    "    ax.plot(np.arange(len(v)), v*velScale, c = cs[ci])\n",
    "    ci += 1\n",
    "ax.set_xlim(0, 600)\n",
    "#ax.hlines(0, )"
   ]
  },
  {
   "cell_type": "code",
   "execution_count": null,
   "metadata": {
    "collapsed": true,
    "deletable": true,
    "editable": true
   },
   "outputs": [],
   "source": []
  }
 ],
 "metadata": {
  "kernelspec": {
   "display_name": "Python 2",
   "language": "python",
   "name": "python2"
  },
  "language_info": {
   "codemirror_mode": {
    "name": "ipython",
    "version": 2
   },
   "file_extension": ".py",
   "mimetype": "text/x-python",
   "name": "python",
   "nbconvert_exporter": "python",
   "pygments_lexer": "ipython2",
   "version": "2.7.9"
  }
 },
 "nbformat": 4,
 "nbformat_minor": 2
}
