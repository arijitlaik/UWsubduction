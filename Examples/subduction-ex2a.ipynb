{
 "cells": [
  {
   "cell_type": "markdown",
   "metadata": {
    "collapsed": true,
    "deletable": true,
    "editable": true
   },
   "source": [
    "# Velocity Bcs\n",
    "\n",
    "## Summary \n",
    "\n",
    "The main aim of this model is show how the TectModel object can be used to handle velocity boundary conditions in a (somewhat) straightforward way.\n",
    "\n",
    "\n",
    "## To do\n",
    "\n",
    "* complete velBCs versus partial velBCs"
   ]
  },
  {
   "cell_type": "code",
   "execution_count": 1,
   "metadata": {
    "collapsed": false,
    "deletable": true,
    "editable": true
   },
   "outputs": [],
   "source": [
    "#!apt-cache policy petsc-dev"
   ]
  },
  {
   "cell_type": "code",
   "execution_count": 2,
   "metadata": {
    "collapsed": true
   },
   "outputs": [],
   "source": [
    "import numpy as np\n",
    "import underworld as uw\n",
    "from underworld import function as fn\n",
    "import glucifer\n",
    "from easydict import EasyDict as edict\n",
    "import networkx as nx\n",
    "import operator\n",
    "\n",
    "import warnings; warnings.simplefilter('ignore')"
   ]
  },
  {
   "cell_type": "code",
   "execution_count": 3,
   "metadata": {
    "collapsed": false,
    "deletable": true,
    "editable": true
   },
   "outputs": [
    {
     "name": "stdout",
     "output_type": "stream",
     "text": [
      "importing Jupyter notebook from tectModelClass.ipynb\n"
     ]
    }
   ],
   "source": [
    "#load in parent stuff\n",
    "#%load_ext autoreload\n",
    "import nb_load_stuff\n",
    "from tectModelClass import *"
   ]
  },
  {
   "cell_type": "code",
   "execution_count": 4,
   "metadata": {
    "collapsed": true,
    "deletable": true,
    "editable": true
   },
   "outputs": [],
   "source": [
    "#If run through Docker we'll point at the local 'unsupported dir.'\n",
    "#On hpc, the path should also include a directory holding the unsupported_dan.\n",
    "import os\n",
    "import sys\n",
    "\n",
    "#this does't actually need to be protected. More a reminder it's an interim measure\n",
    "try:\n",
    "    sys.path.append('../../unsupported')\n",
    "except:\n",
    "    pass"
   ]
  },
  {
   "cell_type": "code",
   "execution_count": 5,
   "metadata": {
    "collapsed": false,
    "deletable": true,
    "editable": true
   },
   "outputs": [],
   "source": [
    "from unsupported_dan.UWsubduction.subduction_utils import *\n",
    "from unsupported_dan.interfaces.smoothing2D import *\n",
    "from unsupported_dan.utilities.misc import cosine_taper\n",
    "from unsupported_dan.interfaces.interface2D import interface2D , interface_collection"
   ]
  },
  {
   "cell_type": "markdown",
   "metadata": {
    "deletable": true,
    "editable": true
   },
   "source": [
    "## Create output dir structure"
   ]
  },
  {
   "cell_type": "code",
   "execution_count": 6,
   "metadata": {
    "collapsed": false,
    "deletable": true,
    "editable": true
   },
   "outputs": [],
   "source": [
    "#outputPath = os.path.join(os.path.abspath(\".\"),\"output/\")\n",
    "outputPath = os.path.join(os.path.abspath(\".\"),\"output/files\")\n",
    "\n",
    "if uw.rank()==0:\n",
    "    if not os.path.exists(outputPath):\n",
    "        os.makedirs(outputPath)\n",
    "uw.barrier()"
   ]
  },
  {
   "cell_type": "markdown",
   "metadata": {
    "collapsed": false,
    "deletable": true,
    "editable": true
   },
   "source": [
    "## Parameters / Scaling\n",
    "\n",
    "* For more information see, `UWsubduction/Background/scaling`\n"
   ]
  },
  {
   "cell_type": "code",
   "execution_count": 7,
   "metadata": {
    "collapsed": true
   },
   "outputs": [],
   "source": [
    "#import parameters, model settings, unit registry, scaling system, etc\n",
    "\n",
    "from unsupported_dan.UWsubduction.minimal_example import paramDict_dim, modelDict_dim\n",
    "from unsupported_dan.UWsubduction.minimal_example import UnitRegistry, sub_scaling, build_nondim_dict\n",
    "from unsupported_dan.UWsubduction.minimal_example import rayleighNumber, stressScale, pressureDepthGrad\n",
    "\n",
    "\n",
    "#define some more concise names\n",
    "ur = UnitRegistry\n",
    "sca = sub_scaling\n",
    "ndimlz = sca.nonDimensionalize\n",
    "#build the dimensionless paramter / model dictionaries\n",
    "ndp = build_nondim_dict(paramDict_dim  , sca)   \n",
    "md = build_nondim_dict(modelDict_dim  , sca)\n",
    "\n",
    "assert ndimlz(paramDict_dim.refLength) == 1.0\n",
    "\n",
    "# changes to base params: (These will keep changing if the notebook is run again without restarting!)\n",
    "md.faultThickness *= 1.5 #15 km\n",
    "md.res = 48"
   ]
  },
  {
   "cell_type": "code",
   "execution_count": null,
   "metadata": {
    "collapsed": true
   },
   "outputs": [],
   "source": []
  },
  {
   "cell_type": "markdown",
   "metadata": {
    "collapsed": true,
    "deletable": true,
    "editable": true
   },
   "source": [
    "## Build / refine mesh, Stokes Variables"
   ]
  },
  {
   "cell_type": "code",
   "execution_count": 8,
   "metadata": {
    "collapsed": false,
    "deletable": true,
    "editable": true
   },
   "outputs": [],
   "source": [
    "#(ndp.rightLim - ndp.leftLim)/ndp.depth\n",
    "#md.res = 64"
   ]
  },
  {
   "cell_type": "code",
   "execution_count": 9,
   "metadata": {
    "collapsed": false,
    "deletable": true,
    "editable": true
   },
   "outputs": [],
   "source": [
    "yres = int(md.res)\n",
    "xres = int(md.res*6) \n",
    "\n",
    "halfWidth = 0.5*md.depth*md.aspectRatio \n",
    "\n",
    "minCoord_    = (-1.*halfWidth, 1. - md.depth) \n",
    "maxCoord_    = (halfWidth, 1.)\n",
    "\n",
    "mesh = uw.mesh.FeMesh_Cartesian( elementType = (md.elementType),\n",
    "                                 elementRes  = (xres, yres), \n",
    "                                 minCoord    = minCoord_, \n",
    "                                 maxCoord    = maxCoord_) \n",
    "\n",
    "velocityField = uw.mesh.MeshVariable( mesh=mesh,         nodeDofCount=2)\n",
    "pressureField   = uw.mesh.MeshVariable( mesh=mesh.subMesh, nodeDofCount=1 )\n",
    "    \n",
    "\n",
    "velocityField.data[:] = 0.\n",
    "pressureField.data[:] = 0."
   ]
  },
  {
   "cell_type": "code",
   "execution_count": 10,
   "metadata": {
    "collapsed": true
   },
   "outputs": [],
   "source": [
    "#mesh.reset() #call to reset mesh nodes to original locations\n",
    "\n",
    "if md.refineHoriz:\n",
    "    \n",
    "    with mesh.deform_mesh():\n",
    "        \n",
    "        normXs = 2.*mesh.data[:,0]/(mesh.maxCoord[0] - mesh.minCoord[0])\n",
    "        mesh.data[:,0] = mesh.data[:,0] * np.exp(md.meshRefineFactor*normXs**2) / np.exp(md.meshRefineFactor*1.0**2)    \n",
    "    \n",
    "if md.refineVert:\n",
    "\n",
    "    with mesh.deform_mesh():\n",
    "        \n",
    "        mesh.data[:,1] = mesh.data[:,1] - 1.0\n",
    "\n",
    "        normYs = -1.*mesh.data[:,1]/(mesh.maxCoord[1] - mesh.minCoord[1])\n",
    "        mesh.data[:,1] = mesh.data[:,1] * np.exp(md.meshRefineFactor*normYs**2)/np.exp(md.meshRefineFactor*1.0**2)\n",
    "\n",
    "        mesh.data[:,1] = mesh.data[:,1] + 1.0\n"
   ]
  },
  {
   "cell_type": "markdown",
   "metadata": {
    "deletable": true,
    "editable": true
   },
   "source": [
    "## Build plate model"
   ]
  },
  {
   "cell_type": "code",
   "execution_count": 11,
   "metadata": {
    "collapsed": true
   },
   "outputs": [],
   "source": [
    "\n",
    "endTime = ndimlz(30*ur.megayear) \n",
    "refVel = ndimlz(2*ur.cm/ur.year)\n",
    "plateModelDt = ndimlz(0.1*ur.megayear)"
   ]
  },
  {
   "cell_type": "code",
   "execution_count": 12,
   "metadata": {
    "collapsed": true
   },
   "outputs": [],
   "source": [
    "#velocities of the plates (1 - 3) ams well as the plate boundary (1,2)\n",
    "vp1= ndimlz(0.*ur.centimeter/ur.year )\n",
    "vp2= ndimlz(3.*ur.centimeter/ur.year )\n",
    "vp3= ndimlz(-2.*ur.centimeter/ur.year )\n",
    "\n",
    "vb12= ndimlz(0.5*ur.centimeter/ur.year )\n"
   ]
  },
  {
   "cell_type": "code",
   "execution_count": 13,
   "metadata": {
    "collapsed": false,
    "deletable": true,
    "editable": true
   },
   "outputs": [
    {
     "name": "stdout",
     "output_type": "stream",
     "text": [
      "(0.0, 2756.9225237512087, -1837.9483491674725, 459.48708729186814)\n"
     ]
    }
   ],
   "source": [
    "print(vp1, vp2, vp3, vb12)"
   ]
  },
  {
   "cell_type": "code",
   "execution_count": 14,
   "metadata": {
    "collapsed": false,
    "deletable": true,
    "editable": true
   },
   "outputs": [],
   "source": [
    "tm = TectModel(mesh, 0, endTime, plateModelDt)\n",
    "\n",
    "tm.add_plate(1, velocities=vp1)\n",
    "tm.add_plate(2, velocities=vp2)\n",
    "tm.add_plate(3, velocities=vp3)"
   ]
  },
  {
   "cell_type": "code",
   "execution_count": 15,
   "metadata": {
    "collapsed": false,
    "deletable": true,
    "editable": true
   },
   "outputs": [],
   "source": [
    "tm.add_left_boundary(1, plateInitAge=md.slabAge/3., velocities=False)\n",
    "#tm.add_left_boundary(2, plateInitAge=0., velocities=False)\n",
    "\n",
    "tm.add_ridge(1,2, -0.6, velocities=vb12)\n",
    "tm.add_subzone(2, 3, 0.2, subInitAge=md.slabAge, upperInitAge=md.opAgeAtTrench)\n",
    "\n",
    "tm.add_right_boundary(3, plateInitAge=0.0, velocities=False)"
   ]
  },
  {
   "cell_type": "code",
   "execution_count": 16,
   "metadata": {
    "collapsed": false
   },
   "outputs": [],
   "source": [
    "#md.slabAge"
   ]
  },
  {
   "cell_type": "markdown",
   "metadata": {
    "deletable": true,
    "editable": true
   },
   "source": [
    "## Build plate age / temperature Fns"
   ]
  },
  {
   "cell_type": "code",
   "execution_count": 17,
   "metadata": {
    "collapsed": false,
    "deletable": true,
    "editable": true
   },
   "outputs": [],
   "source": [
    "pIdFn = tm.plate_id_fn()\n",
    "pAgeDict = tm.plate_age_fn() \n",
    "\n",
    "fnAge_map = fn.branching.map(fn_key = pIdFn , \n",
    "                          mapping = pAgeDict )\n",
    "\n",
    "#fig = glucifer.Figure(figsize=(600, 300))\n",
    "#fig.append( glucifer.objects.Surface(tm.mesh, fnAge_map ))\n",
    "#fig.show()"
   ]
  },
  {
   "cell_type": "code",
   "execution_count": 18,
   "metadata": {
    "collapsed": false
   },
   "outputs": [],
   "source": [
    "#ndp.potentialTemp"
   ]
  },
  {
   "cell_type": "code",
   "execution_count": 19,
   "metadata": {
    "collapsed": false,
    "deletable": true,
    "editable": true
   },
   "outputs": [],
   "source": [
    "coordinate = fn.input()\n",
    "depthFn = mesh.maxCoord[1] - coordinate[1]\n",
    "\n",
    "platethickness = 2.32*fn.math.sqrt(1.*fnAge_map )  \n",
    "\n",
    "halfSpaceTemp = ndp.potentialTemp_*fn.math.erf((depthFn)/(2.*fn.math.sqrt(1.*fnAge_map)))\n",
    "\n",
    "plateTempProxFn = fn.branching.conditional( ((depthFn > platethickness, ndp.potentialTemp_ ), \n",
    "                                           (True,                      halfSpaceTemp)  ))\n",
    "\n"
   ]
  },
  {
   "cell_type": "code",
   "execution_count": 20,
   "metadata": {
    "collapsed": false,
    "deletable": true,
    "editable": true
   },
   "outputs": [
    {
     "data": {
      "text/html": [
       "<img src='data:image/png;base64,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'>"
      ],
      "text/plain": [
       "<IPython.core.display.HTML object>"
      ]
     },
     "metadata": {},
     "output_type": "display_data"
    }
   ],
   "source": [
    "fig = glucifer.Figure(figsize=(600, 300))\n",
    "fig.append( glucifer.objects.Surface(tm.mesh, plateTempProxFn, onMesh = True))\n",
    "fig.show()"
   ]
  },
  {
   "cell_type": "markdown",
   "metadata": {},
   "source": [
    "## Make swarm and Swarm Vars"
   ]
  },
  {
   "cell_type": "code",
   "execution_count": 21,
   "metadata": {
    "collapsed": false,
    "deletable": true,
    "editable": true
   },
   "outputs": [],
   "source": [
    "swarm = uw.swarm.Swarm(mesh=mesh, particleEscape=True)\n",
    "layout = uw.swarm.layouts.PerCellRandomLayout(swarm=swarm, particlesPerCell=int(md.ppc))\n",
    "swarm.populate_using_layout( layout=layout ) # Now use it to populate.\n",
    "proxyTempVariable = swarm.add_variable( dataType=\"double\", count=1 )\n",
    "proximityVariable      = swarm.add_variable( dataType=\"int\", count=1 )\n",
    "signedDistanceVariable = swarm.add_variable( dataType=\"double\", count=1 )\n",
    "\n",
    "#\n",
    "proxyTempVariable.data[:] = 1.0\n",
    "proximityVariable.data[:] = 0.0\n",
    "signedDistanceVariable.data[:] = 0.0\n"
   ]
  },
  {
   "cell_type": "markdown",
   "metadata": {},
   "source": [
    "## Create tmUwMap"
   ]
  },
  {
   "cell_type": "code",
   "execution_count": 22,
   "metadata": {
    "collapsed": false
   },
   "outputs": [],
   "source": [
    "#Now we have built are primary FEM / Swarm objects, we collect some of these in a dictionary,\n",
    "#to provide a consistent form to pass to methods of TectModel\n",
    "\n",
    "tmUwMap = tm_uw_map([], velocityField, swarm, \n",
    "                    signedDistanceVariable, proxyTempVariable, proximityVariable)"
   ]
  },
  {
   "cell_type": "markdown",
   "metadata": {
    "deletable": true,
    "editable": true
   },
   "source": [
    "## Make slab perturbation and subduction interface\n",
    "\n",
    "* For more information see, `UWsubduction/Background/interface2D`"
   ]
  },
  {
   "cell_type": "code",
   "execution_count": 23,
   "metadata": {
    "collapsed": true,
    "deletable": true,
    "editable": true
   },
   "outputs": [],
   "source": [
    "def circGradientFn(S):\n",
    "    if S == 0.:\n",
    "        return 0.\n",
    "    elif S < md.radiusOfCurv:\n",
    "        return max(-S/np.sqrt((md.radiusOfCurv**2 - S**2)), -1e3)\n",
    "    else:\n",
    "        return -1e5\n"
   ]
  },
  {
   "cell_type": "code",
   "execution_count": 24,
   "metadata": {
    "collapsed": false,
    "deletable": true,
    "editable": true
   },
   "outputs": [],
   "source": [
    "#All of these wil be needed by the slab / fault setup functions\n",
    "#We have two main options, bind them to the TectModel class. \n",
    "#or provide them to the functions\n",
    "#collection them in a dictionary may be a useful way too proviede them to the function \n",
    "#without blowing out the function arguments\n",
    "\n",
    "tmUwMap = tm_uw_map([], velocityField, swarm, \n",
    "                    signedDistanceVariable, proxyTempVariable, proximityVariable)\n"
   ]
  },
  {
   "cell_type": "code",
   "execution_count": 25,
   "metadata": {
    "collapsed": false,
    "deletable": true,
    "editable": true
   },
   "outputs": [],
   "source": [
    "#define fault particle spacing, here ~5 paricles per element\n",
    "ds = (tm.maxX - tm.minX)/(2.*tm.mesh.elementRes[0])\n",
    "\n",
    "fCollection = interface_collection([])\n",
    "\n",
    "\n",
    "\n",
    "for e in tm.undirected.edges():\n",
    "    if tm.is_subduction_boundary(e):\n",
    "        build_slab_distance(tm, e, circGradientFn, md.slabInitMaxDepth, tmUwMap)        \n",
    "        fb = build_fault(tm, e, circGradientFn, md.faultThickness , md.slabInitMaxDepth, ds, md.faultThickness, tmUwMap)\n",
    "        fCollection.append(fb)\n",
    "\n",
    "#\n",
    "build_slab_temp(tmUwMap, ndp.potentialTemp_, md.slabAge)\n",
    "fnJointTemp = fn.misc.min(proxyTempVariable,plateTempProxFn)\n",
    "\n",
    "#And now reevaluate this guy on the swarm\n",
    "proxyTempVariable.data[:] = fnJointTemp.evaluate(swarm)"
   ]
  },
  {
   "cell_type": "code",
   "execution_count": 26,
   "metadata": {
    "collapsed": false,
    "deletable": true,
    "editable": true
   },
   "outputs": [],
   "source": [
    "#fig = glucifer.Figure(figsize=(600, 300))\n",
    "#fig.append( glucifer.objects.Points(swarm, proxyTempVariable))\n",
    "#fig.append( glucifer.objects.Points(fb.swarm))\n",
    "#fig.show()\n",
    "#fig.save_database('test.gldb')"
   ]
  },
  {
   "cell_type": "markdown",
   "metadata": {
    "deletable": true,
    "editable": true
   },
   "source": [
    "##  Define subduction fault evolution (rebuild/destroy)\n",
    "\n",
    "\n",
    "In this section we setup some functions to help manage the spatial distribution of faults"
   ]
  },
  {
   "cell_type": "code",
   "execution_count": null,
   "metadata": {
    "collapsed": true,
    "deletable": true,
    "editable": true
   },
   "outputs": [],
   "source": []
  },
  {
   "cell_type": "code",
   "execution_count": 68,
   "metadata": {
    "collapsed": false,
    "deletable": true,
    "editable": true
   },
   "outputs": [],
   "source": [
    "# Setup a swarm to define the replacment positions\n",
    "\n",
    "fThick= fCollection[0].thickness\n",
    "\n",
    "faultloc = 1. - md.faultThickness*md.faultLocFac\n",
    "\n",
    "allxs = np.arange(mesh.minCoord[0], mesh.maxCoord[0], ds )[:-1]\n",
    "allys = (mesh.maxCoord[1] - fThick)*np.ones(allxs.shape)\n",
    "\n",
    "faultMasterSwarm = uw.swarm.Swarm( mesh=mesh )\n",
    "dummy =  faultMasterSwarm.add_particles_with_coordinates(np.column_stack((allxs, allys)))\n",
    "del allxs\n",
    "del allys\n",
    "\n",
    "\n",
    "\n",
    "##What are we doing here??\n",
    "\n",
    "#*faultRmfn descibs an area around the trench in which fault particles are allowed. Outside of this region they\n",
    "#are destroyed using (remove_faults_from_boundaries). Note that the\n",
    "\n",
    "#* faultAddFn desribes a region internal to the subduction plate wherwe we rebuild the fault. \n",
    "#this function deliberately'over-builds' the fault, while remove_faults_from_boundaries then trims it to size\n",
    "\n",
    "#* velMaskFn defines the nodes where we will apply the plate velocties. \n",
    "#While leaving nodes near the plate boundaries free to adjust\n",
    "\n",
    "\n",
    "depthRemoveFn  = depthFn > md.faultDestroyDepth\n",
    "faultRmfn1 = tm.t2f(tm.variable_boundary_mask_fn(distMax=1e5, distMin=ndimlz(10*ur.km), relativeWidth = 0.9, \n",
    "                                  minPlateLength =ndimlz(60*ur.km),  \n",
    "                                           out = 'bool', boundtypes='sub' ))\n",
    "faultRmfn = tm.combine_mask_fn(depthRemoveFn, faultRmfn1 )\n",
    "\n",
    "#this one will put particles back into the fault\n",
    "faultAddFn1 = tm.variable_boundary_mask_fn(distMax=1e6, distMin=ndimlz(10*ur.km), \n",
    "                                       relativeWidth = 0.95, minPlateLength =ndimlz(60*ur.km),  \n",
    "                                           out = 'bool', boundtypes='sub' )\n",
    "\n",
    "#thsi will keep the fault addition away from the subdcution zone\n",
    "faultAddFn2 =  tm.t2f(tm.variable_boundary_mask_fn(distMax = ndimlz(150*ur.km), relativeWidth = 0.9 ))\n",
    "\n",
    "faultAddFn = operator.and_( faultAddFn1 ,  faultAddFn2)\n",
    "\n",
    "\n",
    "\n",
    "\n",
    "###The following mask function provide a way of building velocity conditions within the plates,\n",
    "\n",
    "velMask1 = tm.variable_boundary_mask_fn(distMax=1e6, distMin=0.0, relativeWidth = 0.85, \n",
    "                        minPlateLength =ndimlz(50*ur.km),  out = 'bool', boundtypes='ridge')\n",
    "\n",
    "velMask2= tm.plate_interior_mask_fn(relativeWidth=0.95, \n",
    "                                        minPlateLength=ndimlz(10*ur.km), invert=False)\n",
    "\n",
    "velMaskFn = operator.and_( velMask1,  velMask2)\n",
    "\n",
    "\n",
    "#order is very important here\n",
    "dummy = remove_fault_drift(fCollection, faultloc)\n",
    "dummy = pop_or_perish(tm, fCollection, faultMasterSwarm, faultAddFn , ds)\n",
    "dummy = remove_faults_from_boundaries(tm, fCollection, faultRmfn )\n"
   ]
  },
  {
   "cell_type": "code",
   "execution_count": 28,
   "metadata": {
    "collapsed": true,
    "deletable": true,
    "editable": true
   },
   "outputs": [],
   "source": [
    "#maskFn_ = tm.t2f(faultRmfn)\n",
    "#pIdFn = tm.plate_id_fn(maskFn=maskFn_)"
   ]
  },
  {
   "cell_type": "code",
   "execution_count": 70,
   "metadata": {
    "collapsed": false,
    "deletable": true,
    "editable": true
   },
   "outputs": [],
   "source": [
    "#fig = glucifer.Figure(figsize=(600, 300))\n",
    "#fig.append( glucifer.objects.Surface(tm.mesh, faultRmfn, onMesh=True))\n",
    "#fig.show()"
   ]
  },
  {
   "cell_type": "markdown",
   "metadata": {
    "collapsed": false,
    "deletable": true,
    "editable": true
   },
   "source": [
    "## Proximity\n",
    "\n"
   ]
  },
  {
   "cell_type": "code",
   "execution_count": 32,
   "metadata": {
    "collapsed": false,
    "deletable": true,
    "editable": true
   },
   "outputs": [],
   "source": [
    "proximityVariable.data[:] = 0"
   ]
  },
  {
   "cell_type": "code",
   "execution_count": 33,
   "metadata": {
    "collapsed": false,
    "deletable": true,
    "editable": true
   },
   "outputs": [],
   "source": [
    "for f in fCollection:\n",
    "    f.rebuild()\n",
    "    f.set_proximity_director(swarm, proximityVariable, searchFac = 2., locFac=1.0)"
   ]
  },
  {
   "cell_type": "code",
   "execution_count": 34,
   "metadata": {
    "collapsed": true,
    "deletable": true,
    "editable": true
   },
   "outputs": [],
   "source": [
    "#update_faults()"
   ]
  },
  {
   "cell_type": "code",
   "execution_count": 35,
   "metadata": {
    "collapsed": false,
    "deletable": true,
    "editable": true
   },
   "outputs": [],
   "source": [
    "#figProx = glucifer.Figure(figsize=(960,300) )\n",
    "#figProx.append( glucifer.objects.Points(swarm , proximityVariable))\n",
    "#figProx.append( glucifer.objects.Surface(mesh, faultRmfn))\n",
    "\n",
    "#for f in fCollection:\n",
    "#    figProx.append( glucifer.objects.Points(f.swarm, pointSize=5))\n",
    "#figProx.show()\n",
    "\n",
    "\n",
    "#figProx.save_database('test.gldb')"
   ]
  },
  {
   "cell_type": "code",
   "execution_count": 36,
   "metadata": {
    "collapsed": false,
    "deletable": true,
    "editable": true
   },
   "outputs": [],
   "source": [
    "#testMM = fn.view.min_max(uw.function.input(f.swarm.particleCoordinates))\n",
    "#dummyFn = testMM.evaluate(tWalls)"
   ]
  },
  {
   "cell_type": "markdown",
   "metadata": {
    "deletable": true,
    "editable": true
   },
   "source": [
    "## Prescribed velocity"
   ]
  },
  {
   "cell_type": "code",
   "execution_count": 37,
   "metadata": {
    "collapsed": true,
    "deletable": true,
    "editable": true
   },
   "outputs": [],
   "source": [
    "def set_vel_return_nodes(time, maskFn):\n",
    "    \"\"\"\n",
    "    globals:\n",
    "    velocityField\n",
    "    \"\"\"\n",
    "    \n",
    "    nodes = tm.plate_vel_node_fn(time, maskFn = maskFn)\n",
    "    \n",
    "    #4 parallel safety\n",
    "    if not nodes.shape[0]:\n",
    "        return np.array([])\n",
    "        \n",
    "    pIdFn = tm.plate_id_fn()\n",
    "    #velMapFn = tm.plateVelFn(testTime, pIdFn)\n",
    "    velMapFn = tm.plateVelFn(time, pIdFn)\n",
    "    locs = tm.mesh.data[nodes]\n",
    "\n",
    "    #Now set the veolcity on the nodes\n",
    "    velocityField.data[nodes, 0] = velMapFn.evaluate(locs)[:,0]\n",
    "    return nodes\n",
    "    "
   ]
  },
  {
   "cell_type": "code",
   "execution_count": 38,
   "metadata": {
    "collapsed": false,
    "deletable": true,
    "editable": true
   },
   "outputs": [],
   "source": [
    "vXnodes = set_vel_return_nodes(0., velMaskFn)"
   ]
  },
  {
   "cell_type": "code",
   "execution_count": 39,
   "metadata": {
    "collapsed": false,
    "deletable": true,
    "editable": true
   },
   "outputs": [],
   "source": [
    "#check\n",
    "#%pylab inline\n",
    "#tWalls = tm.mesh.specialSets['MaxJ_VertexSet']\n",
    "\n",
    "\n",
    "#fig, ax = plt.subplots(figsize=(10, 2))\n",
    "#plt.plot(mesh.data[tWalls.data][:,0], velocityField.data[tWalls.data][:,0])#\n",
    "#plt.scatter(mesh.data[vXnodes ][:,0], np.zeros(len(mesh.data[vXnodes ][:,0])), s = 0.5, c = 'k')\n",
    "#ax.hlines(500, tm.minX, tm.maxX, linestyles='--')"
   ]
  },
  {
   "cell_type": "markdown",
   "metadata": {
    "collapsed": true,
    "deletable": true,
    "editable": true
   },
   "source": [
    "## Boundary conditions"
   ]
  },
  {
   "cell_type": "code",
   "execution_count": 40,
   "metadata": {
    "collapsed": false,
    "deletable": true,
    "editable": true
   },
   "outputs": [],
   "source": [
    "iWalls = mesh.specialSets[\"MinI_VertexSet\"] + mesh.specialSets[\"MaxI_VertexSet\"]\n",
    "jWalls = mesh.specialSets[\"MinJ_VertexSet\"] + mesh.specialSets[\"MaxJ_VertexSet\"]\n",
    "\n",
    "tWalls = mesh.specialSets[\"MaxJ_VertexSet\"]\n",
    "bWalls = mesh.specialSets[\"MinJ_VertexSet\"]\n",
    "\n",
    "\n",
    "#velBC  = uw.conditions.DirichletCondition( variable        = velocityField, \n",
    "#                                           indexSetsPerDof = (iWalls, jWalls) )\n"
   ]
  },
  {
   "cell_type": "code",
   "execution_count": 41,
   "metadata": {
    "collapsed": false,
    "deletable": true,
    "editable": true
   },
   "outputs": [],
   "source": [
    "#vXnodes"
   ]
  },
  {
   "cell_type": "code",
   "execution_count": 42,
   "metadata": {
    "collapsed": true,
    "deletable": true,
    "editable": true
   },
   "outputs": [],
   "source": [
    "def build_velBcs(nodes):\n",
    "    \n",
    "    velnodeset = mesh.specialSets[\"Empty\"]\n",
    "    velnodeset += nodes\n",
    "    \n",
    "    \n",
    "    \n",
    "    velBC  = uw.conditions.DirichletCondition( variable        = velocityField, \n",
    "                                           indexSetsPerDof = (iWalls + velnodeset, jWalls) )\n",
    "    \n",
    "    return velBC"
   ]
  },
  {
   "cell_type": "code",
   "execution_count": 43,
   "metadata": {
    "collapsed": false,
    "deletable": true,
    "editable": true
   },
   "outputs": [],
   "source": [
    "velBC = build_velBcs(vXnodes)"
   ]
  },
  {
   "cell_type": "code",
   "execution_count": 44,
   "metadata": {
    "collapsed": false,
    "deletable": true,
    "editable": true
   },
   "outputs": [],
   "source": [
    "#vXnodes"
   ]
  },
  {
   "cell_type": "markdown",
   "metadata": {
    "deletable": true,
    "editable": true
   },
   "source": [
    "## Bouyancy"
   ]
  },
  {
   "cell_type": "code",
   "execution_count": 45,
   "metadata": {
    "collapsed": false,
    "deletable": true,
    "editable": true
   },
   "outputs": [],
   "source": [
    "# Now create a buoyancy force vector using the density and the vertical unit vector. \n",
    "thermalDensityFn = md.buoyancyFac*rayleighNumber*(1. - proxyTempVariable)\n",
    "\n",
    "gravity = ( 0.0, -1.0 )\n",
    "\n",
    "buoyancyMapFn = thermalDensityFn*gravity"
   ]
  },
  {
   "cell_type": "markdown",
   "metadata": {
    "deletable": true,
    "editable": true
   },
   "source": [
    "## Rheology"
   ]
  },
  {
   "cell_type": "code",
   "execution_count": 46,
   "metadata": {
    "collapsed": false,
    "deletable": true,
    "editable": true
   },
   "outputs": [],
   "source": [
    "symStrainrate = fn.tensor.symmetric( \n",
    "                            velocityField.fn_gradient )\n",
    "\n",
    "#Set up any functions required by the rheology\n",
    "strainRate_2ndInvariant = fn.tensor.second_invariant( \n",
    "                            fn.tensor.symmetric( \n",
    "                            velocityField.fn_gradient ))\n",
    "\n",
    "\n",
    "\n",
    "def safe_visc(func, viscmin=md.viscosityMin, viscmax=md.viscosityMax):\n",
    "    return fn.misc.max(viscmin, fn.misc.min(viscmax, func))"
   ]
  },
  {
   "cell_type": "code",
   "execution_count": 47,
   "metadata": {
    "collapsed": true
   },
   "outputs": [],
   "source": [
    "#Interface rheology extent\n",
    "\n",
    "subZoneDistfn = tm.subZoneAbsDistFn(upper=True)\n",
    "\n",
    "\n",
    "faultHorizTaperFn  = cosine_taper(subZoneDistfn, \n",
    "                                  md.faultViscHorizTaperStart, md.faultViscHorizTaperWidth)\n",
    "faultDepthTaperFn = cosine_taper(depthFn, \n",
    "                                 md.faultViscDepthTaperStart, md.faultViscDepthTaperWidth)"
   ]
  },
  {
   "cell_type": "code",
   "execution_count": 48,
   "metadata": {
    "collapsed": false
   },
   "outputs": [
    {
     "data": {
      "text/plain": [
       "(53400000000.0, 43.386502840435966, 27.75670324383339, 0.21)"
      ]
     },
     "execution_count": 48,
     "metadata": {},
     "output_type": "execute_result"
    }
   ],
   "source": [
    "#temperatureField, \n",
    "\n",
    "ndp.diffusionPreExp, ndp.diffusionVolumeDepth, ndp.diffusionEnergyDepth, ndp.surfaceTemp\n",
    "#(1./ndp.diffusionPreExp)\n"
   ]
  },
  {
   "cell_type": "code",
   "execution_count": 53,
   "metadata": {
    "collapsed": false,
    "deletable": true,
    "editable": true
   },
   "outputs": [],
   "source": [
    "temperatureFn = proxyTempVariable\n",
    "\n",
    "\n",
    "adiabaticCorrectFn = depthFn*ndp.adiabaticTempGrad\n",
    "dynamicPressureProxyDepthFn = pressureField/pressureDepthGrad\n",
    "druckerDepthFn = fn.misc.max(0.0, depthFn + md.druckerAlpha*(dynamicPressureProxyDepthFn))\n",
    "\n",
    "#Diffusion Creep\n",
    "diffusionUM = (1./ndp.diffusionPreExp)*\\\n",
    "    fn.math.exp( ((ndp.diffusionEnergyDepth + \\\n",
    "                   (depthFn*ndp.diffusionVolumeDepth))/((temperatureFn+ adiabaticCorrectFn + ndp.surfaceTemp))))\n",
    "\n",
    "diffusionUM =     safe_visc(diffusionUM)\n",
    "    \n",
    "diffusionLM = ndp.lowerMantleViscFac*(1./ndp.diffusionPreExp)*\\\n",
    "    fn.math.exp( ((ndp.diffusionEnergyDepth + \\\n",
    "                   (depthFn*ndp.diffusionVolumeDepth))/((temperatureFn+ adiabaticCorrectFn + ndp.surfaceTemp))))\n",
    "\n",
    "#diffusionLM =     safe_visc(diffusionLM)\n",
    "\n",
    "\n",
    "transitionZoneTaperFn = cosine_taper(depthFn, md.lowerMantleDepth - 0.5*md.lowerMantleTransWidth , md.lowerMantleTransWidth )\n",
    "\n",
    "\n",
    "mantleCreep = diffusionUM*(1. - transitionZoneTaperFn) + transitionZoneTaperFn*diffusionLM\n",
    "\n",
    "#Define the mantle Plasticity\n",
    "ys =  ndp.cohesionMantle + (druckerDepthFn*ndp.frictionMantleDepth)\n",
    "ysf = fn.misc.min(ys, ndp.yieldStressMax)\n",
    "yielding = ysf/(2.*(strainRate_2ndInvariant) + 1e-15) \n",
    "\n",
    "mantleRheologyFn =  safe_visc(mantleCreep*yielding/(mantleCreep + yielding), \n",
    "                              viscmin=md.viscosityMin, viscmax=md.viscosityMax)\n",
    "\n",
    "\n",
    "faultViscosityFn = ndp.viscosityFault\n",
    "\n",
    "faultRheologyFn =  faultViscosityFn*(1. - faultDepthTaperFn) +  \\\n",
    "                       faultDepthTaperFn*mantleRheologyFn + faultHorizTaperFn*mantleRheologyFn\n"
   ]
  },
  {
   "cell_type": "code",
   "execution_count": 54,
   "metadata": {
    "collapsed": false,
    "deletable": true,
    "editable": true
   },
   "outputs": [],
   "source": [
    "#viscconds = ((proximityVariable == 0, mantleRheologyFn),\n",
    "#             (True, interfaceViscosityFn ))\n",
    "\n",
    "#viscosityMapFn = fn.branching.conditional(viscconds)\n",
    "#viscosityMapFn = mantleRheologyFn\n",
    "\n",
    "\n",
    "viscosityMapFn = fn.branching.map( fn_key = proximityVariable,\n",
    "                             mapping = {0:mantleRheologyFn,\n",
    "                                        2:faultRheologyFn} )"
   ]
  },
  {
   "cell_type": "code",
   "execution_count": 63,
   "metadata": {
    "collapsed": false
   },
   "outputs": [],
   "source": [
    "#fig2 = glucifer.Figure(figsize=(960,300) )\n",
    "#fig2.append( glucifer.objects.Points(swarm, mantleRheologyFn,  logScale=True))\n",
    "#fig.append( glucifer.objects.Surface(mesh, dynamicPressureProxyDepthFn))\n",
    "\n",
    "#fig2.show()"
   ]
  },
  {
   "cell_type": "markdown",
   "metadata": {
    "deletable": true,
    "editable": true
   },
   "source": [
    "## Stokes"
   ]
  },
  {
   "cell_type": "code",
   "execution_count": 58,
   "metadata": {
    "collapsed": false,
    "deletable": true,
    "editable": true
   },
   "outputs": [],
   "source": [
    "surfaceArea = uw.utils.Integral(fn=1.0,mesh=mesh, integrationType='surface', surfaceIndexSet=tWalls)\n",
    "surfacePressureIntegral = uw.utils.Integral(fn=pressureField, mesh=mesh, integrationType='surface', surfaceIndexSet=tWalls)\n",
    "\n",
    "NodePressure = uw.mesh.MeshVariable(mesh, nodeDofCount=1)\n",
    "Cell2Nodes = uw.utils.MeshVariable_Projection(NodePressure, pressureField, type=0)\n",
    "Nodes2Cell = uw.utils.MeshVariable_Projection(pressureField, NodePressure, type=0)\n",
    "\n",
    "def smooth_pressure(mesh):\n",
    "    # Smooths the pressure field.\n",
    "    # Assuming that pressure lies on the submesh, do a cell -> nodes -> cell\n",
    "    # projection.\n",
    "\n",
    "    Cell2Nodes.solve()\n",
    "    Nodes2Cell.solve()\n",
    "\n",
    "# a callback function to calibrate the pressure - will pass to solver later\n",
    "def pressure_calibrate():\n",
    "    (area,) = surfaceArea.evaluate()\n",
    "    (p0,) = surfacePressureIntegral.evaluate()\n",
    "    offset = p0/area\n",
    "    pressureField.data[:] -= offset\n",
    "    smooth_pressure(mesh)"
   ]
  },
  {
   "cell_type": "code",
   "execution_count": 59,
   "metadata": {
    "collapsed": false,
    "deletable": true,
    "editable": true
   },
   "outputs": [],
   "source": [
    "stokes = uw.systems.Stokes( velocityField  = velocityField, \n",
    "                                   pressureField  = pressureField,\n",
    "                                   conditions     = [velBC,],\n",
    "                                   fn_viscosity   = viscosityMapFn, \n",
    "                                   fn_bodyforce   = buoyancyMapFn )\n"
   ]
  },
  {
   "cell_type": "code",
   "execution_count": 60,
   "metadata": {
    "collapsed": false,
    "deletable": true,
    "editable": true
   },
   "outputs": [],
   "source": [
    "solver = uw.systems.Solver(stokes)\n",
    "\n",
    "solver.set_inner_method(\"mumps\")\n",
    "solver.options.scr.ksp_type=\"cg\"\n",
    "solver.set_penalty(1.0e7)\n",
    "solver.options.scr.ksp_rtol = 1.0e-4\n"
   ]
  },
  {
   "cell_type": "code",
   "execution_count": 61,
   "metadata": {
    "collapsed": false,
    "deletable": true,
    "editable": true
   },
   "outputs": [
    {
     "name": "stdout",
     "output_type": "stream",
     "text": [
      "\u001b[1;35m\n",
      " \n",
      "Pressure iterations:   6\n",
      "Velocity iterations:   1 (presolve)      \n",
      "Velocity iterations:  -1 (pressure solve)\n",
      "Velocity iterations:   1 (backsolve)     \n",
      "Velocity iterations:   1 (total solve)   \n",
      " \n",
      "SCR RHS  solve time: 2.8607e-01\n",
      "Pressure solve time: 5.2999e-02\n",
      "Velocity solve time: 2.8935e-01 (backsolve)\n",
      "Total solve time   : 6.7458e-01\n",
      " \n",
      "Velocity solution min/max: 0.0000e+00/0.0000e+00\n",
      "Pressure solution min/max: 0.0000e+00/0.0000e+00\n",
      " \n",
      "\u001b[00m\n"
     ]
    }
   ],
   "source": [
    "solver.solve(nonLinearIterate=True, nonLinearTolerance=md.nltol, callback_post_solve = pressure_calibrate)\n",
    "solver.print_stats()"
   ]
  },
  {
   "cell_type": "markdown",
   "metadata": {
    "deletable": true,
    "editable": true
   },
   "source": [
    "## Swarm Advector"
   ]
  },
  {
   "cell_type": "code",
   "execution_count": 49,
   "metadata": {
    "collapsed": true,
    "deletable": true,
    "editable": true
   },
   "outputs": [],
   "source": [
    "advector = uw.systems.SwarmAdvector( swarm=swarm, velocityField=velocityField, order=2 )\n"
   ]
  },
  {
   "cell_type": "code",
   "execution_count": 50,
   "metadata": {
    "collapsed": true,
    "deletable": true,
    "editable": true
   },
   "outputs": [],
   "source": [
    "population_control = uw.swarm.PopulationControl(swarm, deleteThreshold=0.006, \n",
    "                                                splitThreshold=0.25,maxDeletions=1, maxSplits=3, aggressive=True,\n",
    "                                                aggressiveThreshold=0.9, particlesPerCell=int(md.ppc))"
   ]
  },
  {
   "cell_type": "markdown",
   "metadata": {
    "deletable": true,
    "editable": true
   },
   "source": [
    "## Update functions"
   ]
  },
  {
   "cell_type": "code",
   "execution_count": null,
   "metadata": {
    "collapsed": true
   },
   "outputs": [],
   "source": [
    "valuesDict = edict({})\n",
    "valuesDict.timeAtSave = []\n",
    "valuesDict.stepAtSave = []\n",
    "for e in tm.undirected.edges():\n",
    "    valuesDict[str(e)] = []\n",
    "valuesDict  "
   ]
  },
  {
   "cell_type": "code",
   "execution_count": 64,
   "metadata": {
    "collapsed": true,
    "deletable": true,
    "editable": true
   },
   "outputs": [],
   "source": [
    "# Here we'll handle everything that should be advected - i.e. every timestep\n",
    "def advect_update():\n",
    "    # Retrieve the maximum possible timestep for the advection system.\n",
    "    dt = advector.get_max_dt()\n",
    "    # Advect swarm\n",
    "    advector.integrate(dt)\n",
    "    \n",
    "    #Advect faults\n",
    "    for f in fCollection:\n",
    "        f.advection(dt)\n",
    "    \n",
    "    \n",
    "    return dt, time+dt, step+1"
   ]
  },
  {
   "cell_type": "code",
   "execution_count": 65,
   "metadata": {
    "collapsed": true,
    "deletable": true,
    "editable": true
   },
   "outputs": [],
   "source": [
    "#velocityField.data[:] = 0.\n",
    "#pressureField.data[:] = 0."
   ]
  },
  {
   "cell_type": "code",
   "execution_count": 66,
   "metadata": {
    "collapsed": true,
    "deletable": true,
    "editable": true
   },
   "outputs": [],
   "source": [
    "def update_stokes(time, viscosityMapFn ):\n",
    "    \n",
    "\n",
    "\n",
    "    \n",
    "    #set velocity / pressure back to zero\n",
    "    #velocityField.data[:] = 0.\n",
    "    #pressureField.data[:] = 0.\n",
    "    \n",
    "    #set the new surface vel, get the velXNodes\n",
    "    vXnodes = set_vel_return_nodes(time, velMaskFn)\n",
    "    \n",
    "    #creata a BC object\n",
    "    velBC = build_velBcs(vXnodes)\n",
    "    \n",
    "    \n",
    "    \n",
    "    #rebuild stokes\n",
    "    stokes = uw.systems.Stokes( velocityField  = velocityField, \n",
    "                                   pressureField  = pressureField,\n",
    "                                   conditions     = [velBC,],\n",
    "                                   fn_viscosity   = viscosityMapFn, \n",
    "                                   fn_bodyforce   = buoyancyMapFn )\n",
    "    return stokes"
   ]
  },
  {
   "cell_type": "code",
   "execution_count": 67,
   "metadata": {
    "collapsed": true,
    "deletable": true,
    "editable": true
   },
   "outputs": [],
   "source": [
    "def rebuild_solver(stokes):\n",
    "    \n",
    "    solver = uw.systems.Solver(stokes)\n",
    "    solver.set_inner_method(\"mumps\")\n",
    "    solver.options.scr.ksp_type=\"cg\"\n",
    "    solver.set_penalty(1.0e7)\n",
    "    solver.options.scr.ksp_rtol = 1.0e-4\n",
    "    \n",
    "    return solver\n"
   ]
  },
  {
   "cell_type": "code",
   "execution_count": 71,
   "metadata": {
    "collapsed": false,
    "deletable": true,
    "editable": true
   },
   "outputs": [],
   "source": [
    "def update_faults():\n",
    "    \n",
    "    \n",
    "    #order is very important here\n",
    "    dummy = remove_fault_drift(fCollection, faultloc)\n",
    "    dummy = pop_or_perish(tm, fCollection, faultMasterSwarm, faultAddFn , ds)\n",
    "    dummy = remove_faults_from_boundaries(tm, fCollection, faultRmfn )\n",
    "    \n",
    "    #The repair_interface2D routine is supposed to maintain particle density and smooth\n",
    "    for f in fCollection:\n",
    "            repair_interface2D(f, ds, k=8)\n",
    "    \n"
   ]
  },
  {
   "cell_type": "code",
   "execution_count": 72,
   "metadata": {
    "collapsed": false,
    "deletable": true,
    "editable": true
   },
   "outputs": [],
   "source": [
    "def update_swarm():\n",
    "    \n",
    "    population_control.repopulate()\n",
    "    \n",
    "    for f in fCollection:\n",
    "        f.rebuild()\n",
    "        f.set_proximity_director(swarm, proximityVariable, searchFac = 2., locFac=1.0,\n",
    "                                maxDistanceFn=fn.misc.constant(2.))\n",
    "        \n",
    "    #A simple depth cutoff for proximity\n",
    "    depthMask = swarm.particleCoordinates.data[:,1] < (1. - md.faultDestroyDepth)\n",
    "    proximityVariable.data[depthMask] = 0\n",
    "    "
   ]
  },
  {
   "cell_type": "code",
   "execution_count": 74,
   "metadata": {
    "collapsed": false,
    "deletable": true,
    "editable": true
   },
   "outputs": [],
   "source": [
    "outputPath = os.path.join(os.path.abspath(\".\"),\"output/files\")\n",
    "\n",
    "if uw.rank()==0:\n",
    "    if not os.path.exists(outputPath):\n",
    "        os.makedirs(outputPath)\n",
    "uw.barrier()\n",
    "\n",
    "\n",
    "surfacexs = mesh.data[tWalls.data][:,0]\n",
    "surfaceys = mesh.data[tWalls.data][:,1]\n",
    "surfLine = interface2D(mesh, velocityField,surfacexs, surfaceys , 0,  99)\n",
    "surfVx = uw.swarm.SwarmVariable(surfLine.swarm, 'double', 1)\n",
    "\n",
    "def save_files(step):\n",
    "    surfVx.data[:] = velocityField[0].evaluate(surfLine.swarm)\n",
    "    \n",
    "    surfVx.save( \"output/files/surfVx_\" + str(step).zfill(3) + \"_.h5\")"
   ]
  },
  {
   "cell_type": "code",
   "execution_count": 60,
   "metadata": {
    "collapsed": false,
    "deletable": true,
    "editable": true
   },
   "outputs": [],
   "source": [
    "def update_tect_model(tectModel, tmUwMap, time, dt = 0.0 ):\n",
    "    \n",
    "    \"\"\"\n",
    "    An example of how we can update the tect_model\n",
    "    \"\"\"\n",
    "    for e in tectModel.undirected.edges():\n",
    "        \n",
    "        #This is generally the first condition to check\" a specified boundary velocity\n",
    "        if tectModel.bound_has_vel(e, time):\n",
    "            newX = get_boundary_vel_update(tectModel, e, time, dt)\n",
    "            tectModel.set_bound_loc(e, newX)\n",
    "            \n",
    "        #in this model the ficticious boundaries remain fixed at the edge\n",
    "        elif e[0] == e[1]:\n",
    "            pass       \n",
    "        #now we'll apply a strain rate query to update the subduction zone loc\n",
    "        elif tectModel.is_subduction_boundary(e):\n",
    "            e = tectModel.subduction_edge_order(e)\n",
    "            newx = strain_rate_field_update(tectModel, e, tmUwMap, dist = ndimlz(100*ur.kilometer))\n",
    "            tectModel.set_bound_loc(e, newx)\n",
    "        else:\n",
    "            pass\n"
   ]
  },
  {
   "cell_type": "code",
   "execution_count": null,
   "metadata": {
    "collapsed": true
   },
   "outputs": [],
   "source": [
    "def update_mask_fns():\n",
    "\n",
    "    faultRmfn1 = tm.t2f(tm.variable_boundary_mask_fn(distMax=1e5, distMin=ndimlz(10*ur.km), relativeWidth = 0.9, \n",
    "                                      minPlateLength =ndimlz(60*ur.km),  \n",
    "                                               out = 'bool', boundtypes='sub' ))\n",
    "    faultRmfn = tm.combine_mask_fn(depthRemoveFn, faultRmfn1 )\n",
    "\n",
    "    #this one will put particles back into the fault\n",
    "    faultAddFn1 = tm.variable_boundary_mask_fn(distMax=1e6, distMin=ndimlz(10*ur.km), \n",
    "                                           relativeWidth = 0.95, minPlateLength =ndimlz(60*ur.km),  \n",
    "                                               out = 'bool', boundtypes='sub' )\n",
    "\n",
    "    #thsi will keep the fault addition away from the subdcution zone\n",
    "    faultAddFn2 =  tm.t2f(tm.variable_boundary_mask_fn(distMax = ndimlz(150*ur.km), relativeWidth = 0.9 ))\n",
    "\n",
    "    faultAddFn = operator.and_( faultAddFn1 ,  faultAddFn2)\n",
    "\n",
    "\n",
    "\n",
    "\n",
    "    ###The following mask function provide a way of building velocity conditions within the plates,\n",
    "\n",
    "    velMask1 = tm.variable_boundary_mask_fn(distMax=1e6, distMin=0.0, relativeWidth = 0.85, \n",
    "                            minPlateLength =ndimlz(50*ur.km),  out = 'bool', boundtypes='ridge')\n",
    "\n",
    "    velMask2= tm.plate_interior_mask_fn(relativeWidth=0.95, \n",
    "                                            minPlateLength=ndimlz(10*ur.km), invert=False)\n",
    "\n",
    "    velMaskFn = operator.and_( velMask1,  velMask2)\n",
    "\n",
    "    \n",
    "    \n",
    "    #the following dictates where the fault rheology will be activated\n",
    "    subZoneDistfn = tm.subZoneAbsDistFn(upper=True)\n",
    "    \n",
    "    faultHorizTaperFn  = cosine_taper(subZoneDistfn, \n",
    "                                  md.faultViscHorizTaperStart, md.faultViscHorizTaperWidth)\n",
    "    \n",
    "    return faultRmfn, faultAddFn, velMaskFn, faultHorizTaperFn"
   ]
  },
  {
   "cell_type": "code",
   "execution_count": 61,
   "metadata": {
    "collapsed": false,
    "deletable": true,
    "editable": true
   },
   "outputs": [],
   "source": [
    "#ridgeMaskFn, boundMaskFn, velMaskFn = update_mask_fns()"
   ]
  },
  {
   "cell_type": "markdown",
   "metadata": {
    "deletable": true,
    "editable": true
   },
   "source": [
    "## Track the values of the plate bounaries"
   ]
  },
  {
   "cell_type": "code",
   "execution_count": 67,
   "metadata": {
    "collapsed": false,
    "deletable": true,
    "editable": true
   },
   "outputs": [],
   "source": [
    "def update_values():\n",
    "    \n",
    "    \"\"\" \n",
    "    Assumes global variables:\n",
    "    * time\n",
    "    * step \n",
    "    ...\n",
    "    + many functions\n",
    "    \"\"\"\n",
    "    \n",
    "    \n",
    "    #save the time and step\n",
    "    valuesDict.timeAtSave.append(time) \n",
    "    valuesDict.stepAtSave.append(step)\n",
    "    \n",
    "    for e in tm.undirected.edges():\n",
    "        if tm.is_subduction_boundary(e):\n",
    "            ee = tm.subduction_edge_order(e) #hacky workaround for the directed/ undireted. need get_bound_loc\n",
    "        else:\n",
    "            ee = e\n",
    "\n",
    "        valuesDict[str(e)].append(tm.get_bound_loc(ee))\n",
    "        \n",
    "        \n",
    "    #save\n",
    "    if uw.rank()==0:\n",
    "        fullpath = os.path.join(outputPath + \"tect_model_data\")\n",
    "        #the '**' is important\n",
    "        np.savez(fullpath, **valuesDict)\n",
    "    "
   ]
  },
  {
   "cell_type": "code",
   "execution_count": 68,
   "metadata": {
    "collapsed": false,
    "deletable": true,
    "editable": true
   },
   "outputs": [],
   "source": [
    "#valuesDict  \n",
    "#!ls output"
   ]
  },
  {
   "cell_type": "markdown",
   "metadata": {
    "deletable": true,
    "editable": true
   },
   "source": [
    "## Viz"
   ]
  },
  {
   "cell_type": "code",
   "execution_count": 69,
   "metadata": {
    "collapsed": false,
    "deletable": true,
    "editable": true
   },
   "outputs": [],
   "source": [
    "outputPath = os.path.join(os.path.abspath(\".\"),\"output/\")\n",
    "\n",
    "\n",
    "if uw.rank()==0:\n",
    "    if not os.path.exists(outputPath):\n",
    "        os.makedirs(outputPath)\n",
    "uw.barrier()"
   ]
  },
  {
   "cell_type": "code",
   "execution_count": 78,
   "metadata": {
    "collapsed": false,
    "deletable": true,
    "editable": true
   },
   "outputs": [],
   "source": [
    "#ridgeMaskFn, boundMaskFn, velMaskFn\n",
    "\n",
    "maskFnVar1 = uw.mesh.MeshVariable( mesh=mesh, nodeDofCount=1 )\n",
    "maskFnVar1.data[:] = faultAddFn.evaluate(mesh)\n",
    "\n",
    "\n",
    "maskFnVar2 = uw.mesh.MeshVariable( mesh=mesh, nodeDofCount=1 )\n",
    "maskFnVar2.data[:] = faultRmfn.evaluate(mesh)\n",
    "\n",
    "plate_id_fn = tm.plate_id_fn()\n",
    "maskFnVar3 = uw.mesh.MeshVariable( mesh=mesh, nodeDofCount=1 )\n",
    "maskFnVar3.data[:] = plate_id_fn.evaluate(mesh)\n",
    "\n",
    "\n",
    "#maskFnVar4 = uw.mesh.MeshVariable( mesh=mesh, nodeDofCount=1 )\n",
    "maskFnVar4 =  swarm.add_variable( dataType=\"double\", count=1 )\n",
    "maskFnVar4.data[:] = viscosityMapFn.evaluate(swarm)\n"
   ]
  },
  {
   "cell_type": "code",
   "execution_count": 79,
   "metadata": {
    "collapsed": false,
    "deletable": true,
    "editable": true
   },
   "outputs": [],
   "source": [
    "store1 = glucifer.Store('output/subduction1')\n",
    "store2 = glucifer.Store('output/subduction2')\n",
    "store3 = glucifer.Store('output/subduction3')\n",
    "\n",
    "\n",
    "figProx = glucifer.Figure(store1, figsize=(960,300) )\n",
    "figProx.append( glucifer.objects.Points(swarm , proximityVariable))\n",
    "for f in fCollection:\n",
    "    figProx.append( glucifer.objects.Points(f.swarm, pointSize=5))\n",
    "#figProx.show()\n",
    "\n",
    "figVisc = glucifer.Figure( store2, figsize=(960,300) )\n",
    "#figVisc.append( glucifer.objects.Points(swarm, viscosityMapFn, pointSize=2, logScale=True) )\n",
    "figVisc.append( glucifer.objects.Points(swarm,  maskFnVar4, logScale=True) )\n",
    "\n",
    "\n",
    "\n",
    "figMask = glucifer.Figure( store3, figsize=(960,300) )\n",
    "figMask.append( glucifer.objects.Surface(mesh,  maskFnVar1) )\n",
    "figMask.append( glucifer.objects.Surface(mesh,  maskFnVar2) )\n",
    "figMask.append( glucifer.objects.Surface(mesh, maskFnVar3 , valueRange=[0,3]) )\n",
    "\n",
    "\n",
    "\n",
    "#figMask.append( glucifer.objects.Surface(mesh,  maskFnVar3) )\n",
    "for f in fCollection:\n",
    "    figMask.append( glucifer.objects.Points(f.swarm, pointSize=5))\n",
    "\n"
   ]
  },
  {
   "cell_type": "code",
   "execution_count": 81,
   "metadata": {
    "collapsed": false,
    "deletable": true,
    "editable": true,
    "scrolled": true
   },
   "outputs": [],
   "source": [
    "#figVisc.show()\n",
    "#figVisc.save_database('test.gldb')"
   ]
  },
  {
   "cell_type": "code",
   "execution_count": 44,
   "metadata": {
    "collapsed": false,
    "deletable": true,
    "editable": true
   },
   "outputs": [],
   "source": [
    "#1e-2*2900."
   ]
  },
  {
   "cell_type": "markdown",
   "metadata": {
    "deletable": true,
    "editable": true
   },
   "source": [
    "## Main Loop"
   ]
  },
  {
   "cell_type": "code",
   "execution_count": 132,
   "metadata": {
    "collapsed": false,
    "deletable": true,
    "editable": true
   },
   "outputs": [],
   "source": [
    "time = 0.  # Initial time\n",
    "step = 0 \n",
    "maxSteps = 2000      # Maximum timesteps \n",
    "steps_output = 10   # output every N timesteps\n",
    "swarm_update = 10   # output every N timesteps\n",
    "faults_update = 10\n",
    "dt_model = 0.\n",
    "steps_update_model = 5\n",
    "\n",
    "update_values()"
   ]
  },
  {
   "cell_type": "code",
   "execution_count": 46,
   "metadata": {
    "collapsed": false,
    "deletable": true,
    "editable": true
   },
   "outputs": [],
   "source": []
  },
  {
   "cell_type": "code",
   "execution_count": 47,
   "metadata": {
    "collapsed": false,
    "deletable": true,
    "editable": true
   },
   "outputs": [
    {
     "name": "stdout",
     "output_type": "stream",
     "text": [
      "step =      1; time = 8.138e-06\n",
      "step =      2; time = 1.593e-05\n",
      "step =      3; time = 2.334e-05\n",
      "step =      4; time = 3.055e-05\n",
      "step =      5; time = 3.749e-05\n",
      "step =      6; time = 4.409e-05\n",
      "step =      7; time = 5.039e-05\n",
      "step =      8; time = 5.649e-05\n",
      "step =      9; time = 6.228e-05\n",
      "step =     10; time = 6.781e-05\n",
      "step =     11; time = 7.324e-05\n",
      "step =     12; time = 7.850e-05\n",
      "step =     13; time = 8.339e-05\n",
      "step =     14; time = 8.796e-05\n",
      "step =     15; time = 9.223e-05\n",
      "step =     16; time = 9.622e-05\n",
      "step =     17; time = 1.000e-04\n",
      "step =     18; time = 1.036e-04\n",
      "step =     19; time = 1.070e-04\n",
      "step =     20; time = 1.103e-04\n"
     ]
    }
   ],
   "source": [
    "while time < tm.times[-1] and step < maxSteps:\n",
    "    \n",
    "    # Solve non linear Stokes system\n",
    "    solver.solve(nonLinearIterate=True, nonLinearTolerance=md.nltol, callback_post_solve = pressure_calibrate)\n",
    "    \n",
    "    #advect swarm and faults\n",
    "    dt, time, step =  advect_update()\n",
    "    dt_model += dt\n",
    "    \n",
    "        \n",
    "    #update tectonic model\n",
    "    if step % steps_update_model == 0:\n",
    "        update_tect_model(tm, tmUwMap, time, dt = dt_model)\n",
    "        dt_model = 0.\n",
    "        plate_id_fn = tm.plate_id_fn()\n",
    "        faultRmfn, faultAddFn, velMaskFn, faultHorizTaperFn = update_mask_fns()\n",
    "        \n",
    "        #these need to be explicity updated\n",
    "        faultRheologyFn =  faultViscosityFn*(1. - faultDepthTaperFn) +\\\n",
    "        faultDepthTaperFn*mantleRheologyFn + faultHorizTaperFn*mantleRheologyFn\n",
    "        \n",
    "        viscosityMapFn = fn.branching.map( fn_key = proximityVariable,\n",
    "                             mapping = {0:mantleRheologyFn,\n",
    "                                        2:faultRheologyFn} )\n",
    "        \n",
    "        \n",
    "        #also update this guy for viz\n",
    "        maskFnVar1.data[:] = faultAddFn.evaluate(mesh)\n",
    "        maskFnVar2.data[:] = faultRmfn.evaluate(mesh)\n",
    "        maskFnVar3.data[:] = plate_id_fn.evaluate(mesh)\n",
    "        maskFnVar4.data[:] = viscosityMapFn.evaluate(swarm)\n",
    "\n",
    "        \n",
    "        update_values()\n",
    "        \n",
    "    #running fault healing/addition, map back to swarm\n",
    "    if step % faults_update == 0:\n",
    "        update_faults()\n",
    "    if step % swarm_update == 0:\n",
    "        update_swarm()\n",
    "        \n",
    "    #rebuild stokes\n",
    "    if step % steps_update_model == 0:\n",
    "        del solver\n",
    "        del stokes\n",
    "        stokes = update_stokes(time, viscosityMapFn )\n",
    "        solver = rebuild_solver(stokes)\n",
    "        \n",
    "    \n",
    "    # output figure to file at intervals = steps_output\n",
    "    if step % steps_output == 0 or step == maxSteps-1:\n",
    "        #Important to set the timestep for the store object here or will overwrite previous step\n",
    "        store1.step = step\n",
    "        store2.step = step\n",
    "        store3.step = step\n",
    "        figProx.save(    outputPath + \"proximity\"    + str(step).zfill(4))\n",
    "        figVisc.save(    outputPath + \"visc\"    + str(step).zfill(4))\n",
    "        figMask.save(    outputPath + \"mask\"    + str(step).zfill(4))\n",
    "        \n",
    "        #save out the surface velocity\n",
    "        save_files(step)\n",
    "    \n",
    "    if uw.rank()==0:\n",
    "        print 'step = {0:6d}; time = {1:.3e}'.format(step,time)\n"
   ]
  },
  {
   "cell_type": "code",
   "execution_count": null,
   "metadata": {
    "collapsed": true,
    "deletable": true,
    "editable": true
   },
   "outputs": [],
   "source": []
  },
  {
   "cell_type": "code",
   "execution_count": null,
   "metadata": {
    "collapsed": true,
    "deletable": true,
    "editable": true
   },
   "outputs": [],
   "source": []
  },
  {
   "cell_type": "code",
   "execution_count": null,
   "metadata": {
    "collapsed": true,
    "deletable": true,
    "editable": true
   },
   "outputs": [],
   "source": []
  }
 ],
 "metadata": {
  "kernelspec": {
   "display_name": "Python 2",
   "language": "python",
   "name": "python2"
  },
  "language_info": {
   "codemirror_mode": {
    "name": "ipython",
    "version": 2
   },
   "file_extension": ".py",
   "mimetype": "text/x-python",
   "name": "python",
   "nbconvert_exporter": "python",
   "pygments_lexer": "ipython2",
   "version": "2.7.9"
  }
 },
 "nbformat": 4,
 "nbformat_minor": 2
}
