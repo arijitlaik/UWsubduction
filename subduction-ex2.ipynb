{
 "cells": [
  {
   "cell_type": "markdown",
   "metadata": {
    "collapsed": true,
    "deletable": true,
    "editable": true
   },
   "source": [
    "# Velocity Bcs"
   ]
  },
  {
   "cell_type": "code",
   "execution_count": 1,
   "metadata": {
    "collapsed": false,
    "deletable": true,
    "editable": true
   },
   "outputs": [
    {
     "name": "stdout",
     "output_type": "stream",
     "text": [
      "importing Jupyter notebook from tectModelClass.ipynb\n"
     ]
    }
   ],
   "source": [
    "#load in parent stuff\n",
    "#%load_ext autoreload\n",
    "import nb_load_stuff\n",
    "from tectModelClass import *"
   ]
  },
  {
   "cell_type": "code",
   "execution_count": 2,
   "metadata": {
    "collapsed": true,
    "deletable": true,
    "editable": true
   },
   "outputs": [],
   "source": [
    "#If run through Docker we'll point at the local 'unsupported dir.'\n",
    "#On hpc, the path should also include a directory holding the unsupported_dan.\n",
    "import os\n",
    "import sys\n",
    "\n",
    "if os.getcwd() == '/workspace/newSlab':\n",
    "    sys.path.append('../unsupported')\n",
    "\n",
    "#this does't actually need to be protected. More a reminder it's an interim measure\n",
    "try:\n",
    "    sys.path.append('../unsupported')\n",
    "except:\n",
    "    pass"
   ]
  },
  {
   "cell_type": "code",
   "execution_count": 3,
   "metadata": {
    "collapsed": false,
    "deletable": true,
    "editable": true
   },
   "outputs": [
    {
     "name": "stderr",
     "output_type": "stream",
     "text": [
      "../unsupported/unsupported_dan/interfaces/__init__.py:9: UserWarning: \n",
      "\n",
      "The interface module is not supported.\n",
      "Questions should be addressed to louis.moresi@unimelb.edu.au \n",
      " \n",
      "  Questions should be addressed to louis.moresi@unimelb.edu.au \\n \"\"\"\n"
     ]
    }
   ],
   "source": [
    "#%load_ext autoreload\n",
    "\n",
    "from unsupported_dan.UWsubduction.base_params import *\n",
    "from unsupported_dan.UWsubduction.subduction_utils import *\n",
    "from unsupported_dan.interfaces.marker2D import markerLine2D, line_collection\n",
    "from unsupported_dan.interfaces.smoothing2D import *"
   ]
  },
  {
   "cell_type": "code",
   "execution_count": 4,
   "metadata": {
    "collapsed": false,
    "deletable": true,
    "editable": true
   },
   "outputs": [
    {
     "data": {
      "text/plain": [
       "0.05172413793103448"
      ]
     },
     "execution_count": 4,
     "metadata": {},
     "output_type": "execute_result"
    }
   ],
   "source": [
    "ndp.maxDepth"
   ]
  },
  {
   "cell_type": "code",
   "execution_count": 5,
   "metadata": {
    "collapsed": true,
    "deletable": true,
    "editable": true
   },
   "outputs": [],
   "source": [
    "import numpy as np\n",
    "import underworld as uw\n",
    "from underworld import function as fn\n",
    "import glucifer\n",
    "from easydict import EasyDict as edict\n",
    "import networkx as nx\n",
    "import operator\n",
    "\n",
    "\n"
   ]
  },
  {
   "cell_type": "markdown",
   "metadata": {
    "deletable": true,
    "editable": true
   },
   "source": [
    "## Changes to base params"
   ]
  },
  {
   "cell_type": "code",
   "execution_count": 6,
   "metadata": {
    "collapsed": false,
    "deletable": true,
    "editable": true
   },
   "outputs": [],
   "source": [
    "#These will keep changing if the notebook is run again without restarting!\n",
    "\n",
    "ndp.depth *= 0.8 #800 km\n",
    "ndp.faultThickness *= 1.5 #15 km\n",
    "ndp.interfaceViscCutoffDepth *= 1.5 #150 km\n",
    "ndp.maxDepth *= 1.5\n",
    "md.res = 64\n",
    "ndp.radiusOfCurv*=0.72  #~250 km\n",
    "md.nltol = 0.025\n",
    "md.ppc = 25\n",
    "#print(ndp.faultThickness*2900)\n",
    "ndp.yieldStressMax *=0.5  #150 Mpa"
   ]
  },
  {
   "cell_type": "code",
   "execution_count": null,
   "metadata": {
    "collapsed": false,
    "deletable": true,
    "editable": true
   },
   "outputs": [],
   "source": []
  },
  {
   "cell_type": "markdown",
   "metadata": {
    "collapsed": true,
    "deletable": true,
    "editable": true
   },
   "source": [
    "## Build mesh, Stokes Variables"
   ]
  },
  {
   "cell_type": "code",
   "execution_count": 7,
   "metadata": {
    "collapsed": false,
    "deletable": true,
    "editable": true
   },
   "outputs": [],
   "source": [
    "#(ndp.rightLim - ndp.leftLim)/ndp.depth\n",
    "#md.res = 64"
   ]
  },
  {
   "cell_type": "code",
   "execution_count": 8,
   "metadata": {
    "collapsed": false,
    "deletable": true,
    "editable": true
   },
   "outputs": [],
   "source": [
    "yres = int(md.res)\n",
    "xres = int(md.res*12) \n",
    "\n",
    "mesh = uw.mesh.FeMesh_Cartesian( elementType = (md.elementType),\n",
    "                                 elementRes  = (xres, yres), \n",
    "                                 minCoord    = (ndp.leftLim, 1. - ndp.depth), \n",
    "                                 maxCoord    = (ndp.rightLim, 1.)) \n",
    "\n",
    "velocityField = uw.mesh.MeshVariable( mesh=mesh,         nodeDofCount=2)\n",
    "pressureField   = uw.mesh.MeshVariable( mesh=mesh.subMesh, nodeDofCount=1 )\n",
    "\n",
    "\n",
    "velocityField.data[:] = 0.\n",
    "pressureField.data[:] = 0."
   ]
  },
  {
   "cell_type": "markdown",
   "metadata": {
    "deletable": true,
    "editable": true
   },
   "source": [
    "## Build plate model"
   ]
  },
  {
   "cell_type": "code",
   "execution_count": 9,
   "metadata": {
    "collapsed": false,
    "deletable": true,
    "editable": true
   },
   "outputs": [],
   "source": [
    "#Set up some velocities\n",
    "cm2ms = (1/100.)*(1./(3600*24*365)) \n",
    "\n",
    "vp1= 0.*cm2ms #m/s\n",
    "vp1 /= sf.velocity\n",
    "\n",
    "vp2= 3.*cm2ms #m/s\n",
    "vp2 /= sf.velocity\n",
    "\n",
    "vp3= -2.*cm2ms #m/s\n",
    "vp3 /= sf.velocity\n",
    "\n",
    "vb12= 0.5*cm2ms #m/s\n",
    "vb12 /= sf.velocity\n",
    "\n",
    "ma2s = 1e6*(3600*24*365)\n",
    "endTime = 30*ma2s/sf.time\n",
    "dt = 0.1*ma2s/sf.time\n",
    "testTime = 5*ma2s/sf.time\n"
   ]
  },
  {
   "cell_type": "code",
   "execution_count": 10,
   "metadata": {
    "collapsed": false,
    "deletable": true,
    "editable": true
   },
   "outputs": [],
   "source": [
    "#print(vp1, vp2, vp3, vb12)"
   ]
  },
  {
   "cell_type": "code",
   "execution_count": 11,
   "metadata": {
    "collapsed": false,
    "deletable": true,
    "editable": true
   },
   "outputs": [],
   "source": [
    "#20 Ma moddel, timestep of 200 Ka \n",
    "tg = TectModel(mesh, 0, endTime, dt)\n",
    "\n",
    "#tg.add_plate(1, velocities=vp1)\n",
    "tg.add_plate(2, velocities=vp2)\n",
    "tg.add_plate(3, velocities=vp3)"
   ]
  },
  {
   "cell_type": "code",
   "execution_count": 12,
   "metadata": {
    "collapsed": false,
    "deletable": true,
    "editable": true
   },
   "outputs": [],
   "source": [
    "#tg.add_left_boundary(1, plateInitAge=ndp.slabMaxAge/3., velocities=False)\n",
    "tg.add_left_boundary(2, plateInitAge=0., velocities=False)\n",
    "\n",
    "#tg.add_ridge(1,2, -0.6, velocities=vb12)\n",
    "tg.add_subzone(2, 3, 0.2, subInitAge=ndp.slabMaxAge, upperInitAge=ndp.opMaxAge)\n",
    "\n",
    "tg.add_right_boundary(3, plateInitAge=0.0, velocities=False)"
   ]
  },
  {
   "cell_type": "code",
   "execution_count": null,
   "metadata": {
    "collapsed": false,
    "deletable": true,
    "editable": true
   },
   "outputs": [],
   "source": []
  },
  {
   "cell_type": "markdown",
   "metadata": {
    "deletable": true,
    "editable": true
   },
   "source": [
    "## Build plate age"
   ]
  },
  {
   "cell_type": "code",
   "execution_count": 13,
   "metadata": {
    "collapsed": false,
    "deletable": true,
    "editable": true
   },
   "outputs": [],
   "source": [
    "pIdFn = tg.plate_id_fn()\n",
    "pAgeDict = tg.plate_age_fn() \n",
    "\n",
    "fnAge_map = fn.branching.map(fn_key = pIdFn , \n",
    "                          mapping = pAgeDict )\n",
    "\n",
    "#fig = glucifer.Figure(figsize=(600, 300))\n",
    "#fig.append( glucifer.objects.Surface(tg.mesh, fnAge_map ))\n",
    "#fig.show()"
   ]
  },
  {
   "cell_type": "code",
   "execution_count": 14,
   "metadata": {
    "collapsed": true,
    "deletable": true,
    "editable": true
   },
   "outputs": [],
   "source": [
    "coordinate = fn.input()\n",
    "depthFn = mesh.maxCoord[1] - coordinate[1]\n",
    "plateTempProxFn = ndp.potentialTemp*fn.math.erf((depthFn)/(2.*fn.math.sqrt(1.*fnAge_map)))"
   ]
  },
  {
   "cell_type": "code",
   "execution_count": 15,
   "metadata": {
    "collapsed": false,
    "deletable": true,
    "editable": true
   },
   "outputs": [],
   "source": [
    "#fig = glucifer.Figure(figsize=(600, 300))\n",
    "#fig.append( glucifer.objects.Surface(tg.mesh, pIdFn))\n",
    "#fig.show()"
   ]
  },
  {
   "cell_type": "markdown",
   "metadata": {
    "deletable": true,
    "editable": true
   },
   "source": [
    "## Make swarm and Slabs"
   ]
  },
  {
   "cell_type": "code",
   "execution_count": 16,
   "metadata": {
    "collapsed": true,
    "deletable": true,
    "editable": true
   },
   "outputs": [],
   "source": [
    "def circGradientFn(S):\n",
    "    if S == 0.:\n",
    "        return 0.\n",
    "    elif S < ndp.radiusOfCurv:\n",
    "        return max(-S/np.sqrt((ndp.radiusOfCurv**2 - S**2)), -1e3)\n",
    "    else:\n",
    "        return -1e5"
   ]
  },
  {
   "cell_type": "code",
   "execution_count": 17,
   "metadata": {
    "collapsed": false,
    "deletable": true,
    "editable": true
   },
   "outputs": [],
   "source": [
    "swarm = uw.swarm.Swarm(mesh=mesh, particleEscape=True)\n",
    "layout = uw.swarm.layouts.PerCellRandomLayout(swarm=swarm, particlesPerCell=int(md.ppc))\n",
    "swarm.populate_using_layout( layout=layout ) # Now use it to populate.\n",
    "proxyTempVariable = swarm.add_variable( dataType=\"double\", count=1 )\n",
    "proximityVariable      = swarm.add_variable( dataType=\"int\", count=1 )\n",
    "signedDistanceVariable = swarm.add_variable( dataType=\"double\", count=1 )\n",
    "\n",
    "#\n",
    "proxyTempVariable.data[:] = 1.0\n",
    "proximityVariable.data[:] = 0.0\n",
    "signedDistanceVariable.data[:] = 0.0\n"
   ]
  },
  {
   "cell_type": "code",
   "execution_count": 18,
   "metadata": {
    "collapsed": false,
    "deletable": true,
    "editable": true
   },
   "outputs": [],
   "source": [
    "#All of these wil be needed by the slab / fault setup functions\n",
    "#We have two main options, bind them to the TectModel class. \n",
    "#or provide them to the functions\n",
    "#collection them in a dictionary may be a useful way too proviede them to the function \n",
    "#wthout blowing out the function arguments\n",
    "\n",
    "tmUwMap = tm_uw_map([], velocityField, swarm, \n",
    "                    signedDistanceVariable, proxyTempVariable, proximityVariable)\n",
    "\n",
    "\n"
   ]
  },
  {
   "cell_type": "code",
   "execution_count": 19,
   "metadata": {
    "collapsed": false,
    "deletable": true,
    "editable": true
   },
   "outputs": [],
   "source": [
    "#define fault particle spacing, here ~5 paricles per element\n",
    "ds = (tg.maxX - tg.minX)/(2.*tg.mesh.elementRes[0])\n",
    "\n",
    "fCollection = line_collection([])\n",
    "\n",
    "\n",
    "\n",
    "\n",
    "for e in tg.undirected.edges():\n",
    "    if tg.is_subduction_boundary(e):\n",
    "        build_slab_distance(tg, e, circGradientFn, ndp.maxDepth, tmUwMap)        \n",
    "        fb = build_fault(tg, e, circGradientFn, ndp.faultThickness , ndp.maxDepth, ds, ndp.faultThickness, tmUwMap)\n",
    "        fCollection.append(fb)\n",
    "\n",
    "#\n",
    "build_slab_temp(tmUwMap, ndp.potentialTemp, ndp.slabMaxAge)\n",
    "fnJointTemp = fn.misc.min(proxyTempVariable,plateTempProxFn)\n",
    "\n",
    "#And now reevaluate this guy on the swarm\n",
    "proxyTempVariable.data[:] = fnJointTemp.evaluate(swarm)"
   ]
  },
  {
   "cell_type": "code",
   "execution_count": 20,
   "metadata": {
    "collapsed": false,
    "deletable": true,
    "editable": true
   },
   "outputs": [
    {
     "data": {
      "text/html": [
       "<img src='data:image/png;base64,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'>"
      ],
      "text/plain": [
       "<IPython.core.display.HTML object>"
      ]
     },
     "metadata": {},
     "output_type": "display_data"
    }
   ],
   "source": [
    "#fig = glucifer.Figure(figsize=(600, 300))\n",
    "#fig.append( glucifer.objects.Points(swarm, proxyTempVariable))\n",
    "    \n",
    "\n",
    "#fig.show()\n",
    "#fig.save_database('test.gldb')"
   ]
  },
  {
   "cell_type": "markdown",
   "metadata": {
    "deletable": true,
    "editable": true
   },
   "source": [
    "##  Fault rebuild"
   ]
  },
  {
   "cell_type": "code",
   "execution_count": 21,
   "metadata": {
    "collapsed": true,
    "deletable": true,
    "editable": true
   },
   "outputs": [],
   "source": [
    "# Setup a swarm to define the replacment positions\n",
    "\n",
    "fThick= fCollection[0].thickness\n",
    "\n",
    "faultloc = 1. - ndp.faultThickness*md.faultLocFac\n",
    "\n",
    "allxs = np.arange(mesh.minCoord[0], mesh.maxCoord[0], ds )[:-1]\n",
    "allys = (mesh.maxCoord[1] - fThick)*np.ones(allxs.shape)\n",
    "\n",
    "faultMasterSwarm = uw.swarm.Swarm( mesh=mesh )\n",
    "dummy =  faultMasterSwarm.add_particles_with_coordinates(np.column_stack((allxs, allys)))\n",
    "del allxs\n",
    "del allys"
   ]
  },
  {
   "cell_type": "markdown",
   "metadata": {
    "deletable": true,
    "editable": true
   },
   "source": [
    "The combination of surface kinematic boundary conditions and faults requires more specialised mask functions. "
   ]
  },
  {
   "cell_type": "code",
   "execution_count": 24,
   "metadata": {
    "collapsed": false,
    "deletable": true,
    "editable": true
   },
   "outputs": [
    {
     "name": "stdout",
     "output_type": "stream",
     "text": [
      "(0.9027586206896553, 0.9027586206896553)\n",
      "(0.9027586206896553, 0.9027586206896553)\n",
      "(0.5627586206896551, 0.5627586206896551)\n"
     ]
    }
   ],
   "source": [
    "#this one will repopulating (overpopulate) the faults\n",
    "boundMaskFn = tg.plate_interior_mask_fn(relativeWidth=0.75, \n",
    "                                        minPlateLength=10e3/sf.lengthScale, invert=False)\n",
    "\n",
    "#this one will truncate the faults\n",
    "#ridgeMaskFn = tg.variable_boundary_mask_fn(distMax=100., distMin=0.0, relativeWidth = 0.85, \n",
    "#                                  minPlateLength =50e3/sf.lengthScale,  \n",
    "#                                           out = 'bool', boundtypes='ridge', bound=(1,2))\n",
    "\n",
    "\n",
    "#this one will truncate the faults\n",
    "ridgeMaskFn = tg.variable_boundary_mask_fn(distMax=100., distMin=0.0, relativeWidth = 0.85, \n",
    "                                  minPlateLength =50e3/sf.lengthScale,  \n",
    "                                           out = 'bool', boundtypes='ridge', bound=(2,2))\n",
    "\n",
    "\n",
    "###The following mask function provide a way of building velocity conditions within the plates,\n",
    "#while leaving nodes near the plate boundaries free to adjust\n",
    "\n",
    "#this one is intended as a the velocity mask function\n",
    "velMask1 = tg.variable_boundary_mask_fn(distMax=20.2, distMin=0.0, relativeWidth = 0.85, \n",
    "                        minPlateLength =50e3/sf.lengthScale,  out = 'bool', boundtypes='ridge')\n",
    "\n",
    "#this one will repopulating (overpopulate) the faults\n",
    "velMask2= tg.plate_interior_mask_fn(relativeWidth=0.95, \n",
    "                                        minPlateLength=10e3/sf.lengthScale, invert=False)\n",
    "\n",
    "velMaskFn = operator.and_( velMask1,  velMask2)\n",
    "\n",
    "dummy = remove_fault_drift(fCollection, faultloc)\n",
    "dummy = pop_or_perish(tg, fCollection, faultMasterSwarm, boundMaskFn, ds)\n",
    "dummy = remove_faults_from_boundaries(fCollection, ridgeMaskFn)\n"
   ]
  },
  {
   "cell_type": "code",
   "execution_count": 33,
   "metadata": {
    "collapsed": false,
    "deletable": true,
    "editable": true
   },
   "outputs": [
    {
     "data": {
      "text/html": [
       "<img src='data:image/png;base64,iVBORw0KGgoAAAANSUhEUgAAAZAAAADICAIAAABJdyC1AAAEC0lEQVR4nO3bMW4kRQBA0aqRJYOAA3ADCCBacnMrEsQBCPZKzhDCwR4BcQfAJBTBYnbGstnxytutr31PDmqs7q5qy/6abk/PtdYAKDjsvQCAcwkWkCFYQIZgARmCBWQIFpAhWECGYAEZggVkCBaQIVhAhmABGYIFZAgWkCFYQIZgARmCBWQIFpAhWECGYAEZggVkCBaQIVhAhmABGYIFZAgWkCFYQIZgARmCBWQIFpAhWECGYAEZggVkCBaQIVhAhmABGYIFZAgWkCFYQIZgARmCBWQIFpAhWECGYAEZggVkCBaQIVhAhmABGYIFZAgWkCFYQIZgARmCBWQIFpAhWECGYAEZggVkCBaQIVhAhmABGYIFZAgWkCFYQIZgARmCBWQIFpAhWECGYAEZggVkCBaQIVhAhmABGRcbzDHn3GAWYEdrrQ1m2SJYY4wvXr56Pfh43X57e3N1+8vVXzef/f37NrOzu98uPr++fHH90Tc/XX6991re+GT9efX6t/H25tP1x97LSfr58qvryxffff/DNtO5JAQyBAvIECwgQ7CADMECMgQLyBAsIEOwgAzBAjIEC8gQLCBDsIAMwQIyBAvIECwgQ7CADMECMgQLyBAsIEOwgAzBAjIEC8gQLCBDsIAMwQIyBAvIECwgQ7CADMECMgQLyBAsIEOwgAzBAjIEC8gQLCBDsIAMwQIyBAvIECwgQ7CADMECMgQLyBAsIEOwgAzBAjIEC8gQLCBDsIAMwQIyBAvIECwgY6613vscc77vKYB9bVCSsU2wAJ6FS0IgQ7CADMECMgQLyBAsIEOwgAzBAjIEC8gQLCBDsIAMwQIyBAvIECwgQ7CADMECMgQLyBAsIEOwgAzBAjIEC8gQLCBDsIAMwQIyBAvIECwgQ7CADMECMgQLyBAsIEOwgAzBAjIEC8gQLCBDsIAMwQIyBAvIECwgQ7CADMECMgQLyBAsIEOwgAzBAjIudpl1zrnLvMBzWWttP+k+wRpjfPny1ZxjznUY47HBHOMwx5xjjnV/8MD24zDWvcHRjuMw1xmD43lPBnOetdnh8ZXPOQ4ngzHnOmPwZt63b/b2wb8LePDHdRhjznUyeHzlD29/N5hjjLWOvsYYpy/XOvrO3cZjjTXmO+549PLuUE86znx4xzWecC7/s4BHjzPX6b7PcS7nHGfeP9T5C1jzx1936YZLQiBDsIAMwQIyBAvIECwgQ7CADMECMgQLyBAsIGPu8vl6j+ZA3Yf1aM4uZws8i73ec7gkBDIEC8gQLCBjn5vuAO9gh3dYc07/JYS0D+Wm+5xzrbXW0iyI2vGP1z0s4Gl2vI8kWECGYAEZggVkbP1ozn+3232cAngqn8MCMlwSAhmCBWQIFpAhWEDGP9rCh5q07r8YAAAAAElFTkSuQmCC'>"
      ],
      "text/plain": [
       "<IPython.core.display.HTML object>"
      ]
     },
     "metadata": {},
     "output_type": "display_data"
    }
   ],
   "source": [
    "fig = glucifer.Figure(figsize=(400, 200))\n",
    "#fig.append( glucifer.objects.Surface(tg.mesh, pIdFn, valueRange=[0,3]))\n",
    "fig.append( glucifer.objects.Surface(tg.mesh, velMaskFn))\n",
    "#fig.append( glucifer.objects.Surface(tg.mesh, testFn))\n",
    "\n",
    "\n",
    "#for f in fCollection:\n",
    "#    fig.append( glucifer.objects.Points(f.swarm, pointSize=5))\n",
    "fig.show()\n",
    "\n",
    "#fig.save_database('test.gldb')"
   ]
  },
  {
   "cell_type": "code",
   "execution_count": 26,
   "metadata": {
    "collapsed": false,
    "deletable": true,
    "editable": true
   },
   "outputs": [],
   "source": [
    "#testFn = tg.t2f(boundMaskFn1)\n",
    "\n",
    "#testFn = tg.f2b( tg.b2f(boundMaskFn1))"
   ]
  },
  {
   "cell_type": "code",
   "execution_count": 27,
   "metadata": {
    "collapsed": false,
    "deletable": true,
    "editable": true
   },
   "outputs": [],
   "source": [
    "#testFn.evaluate(mesh)"
   ]
  },
  {
   "cell_type": "markdown",
   "metadata": {
    "collapsed": false,
    "deletable": true,
    "editable": true
   },
   "source": [
    "## Proximity\n",
    "\n"
   ]
  },
  {
   "cell_type": "code",
   "execution_count": 28,
   "metadata": {
    "collapsed": false,
    "deletable": true,
    "editable": true
   },
   "outputs": [],
   "source": [
    "proximityVariable.data[:] = 0"
   ]
  },
  {
   "cell_type": "code",
   "execution_count": 29,
   "metadata": {
    "collapsed": false,
    "deletable": true,
    "editable": true
   },
   "outputs": [],
   "source": [
    "for f in fCollection:\n",
    "    f.rebuild()\n",
    "    f.set_proximity_director(swarm, proximityVariable, searchFac = 2., locFac=1.0)"
   ]
  },
  {
   "cell_type": "code",
   "execution_count": 30,
   "metadata": {
    "collapsed": false,
    "deletable": true,
    "editable": true
   },
   "outputs": [
    {
     "data": {
      "text/html": [
       "<img src='data:image/png;base64,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'>"
      ],
      "text/plain": [
       "<IPython.core.display.HTML object>"
      ]
     },
     "metadata": {},
     "output_type": "display_data"
    }
   ],
   "source": [
    "#figProx = glucifer.Figure(figsize=(960,300) )\n",
    "#figProx.append( glucifer.objects.Points(swarm , proximityVariable))\n",
    "#for f in fCollection:\n",
    "#    figProx.append( glucifer.objects.Points(f.swarm, pointSize=5))\n",
    "#figProx.show()"
   ]
  },
  {
   "cell_type": "markdown",
   "metadata": {
    "deletable": true,
    "editable": true
   },
   "source": [
    "## Prescribed velocity"
   ]
  },
  {
   "cell_type": "code",
   "execution_count": 31,
   "metadata": {
    "collapsed": true,
    "deletable": true,
    "editable": true
   },
   "outputs": [],
   "source": [
    "def set_vel_return_nodes(time, maskFn):\n",
    "    \"\"\"\n",
    "    globals:\n",
    "    velocityField\n",
    "    \"\"\"\n",
    "    \n",
    "    nodes = tg.plate_vel_node_fn(time, maskFn = maskFn)\n",
    "    \n",
    "    pIdFn = tg.plate_id_fn()\n",
    "    velMapFn = tg.plateVelFn(testTime, pIdFn)\n",
    "    locs = tg.mesh.data[nodes]\n",
    "    \n",
    "    #Now set the veolcity on the nodes\n",
    "    velocityField.data[nodes, 0] = velMapFn.evaluate(locs)[:,0]\n",
    "    \n",
    "    return nodes\n",
    "    "
   ]
  },
  {
   "cell_type": "code",
   "execution_count": 32,
   "metadata": {
    "collapsed": false,
    "deletable": true,
    "editable": true
   },
   "outputs": [],
   "source": [
    "vXnodes = set_vel_return_nodes(0., velMaskFn)"
   ]
  },
  {
   "cell_type": "code",
   "execution_count": 33,
   "metadata": {
    "collapsed": true
   },
   "outputs": [],
   "source": [
    "#set_vel_return_nodes?"
   ]
  },
  {
   "cell_type": "code",
   "execution_count": 70,
   "metadata": {
    "collapsed": false,
    "deletable": true,
    "editable": true
   },
   "outputs": [],
   "source": [
    "#check\n",
    "#%pylab inline\n",
    "#tWalls = tg.mesh.specialSets['MaxJ_VertexSet']\n",
    "\n",
    "\n",
    "#fig, ax = plt.subplots(figsize=(10, 2))\n",
    "#plt.plot(mesh.data[tWalls.data][:,0], velocityField.data[tWalls.data][:,0])#\n",
    "#plt.scatter(mesh.data[vXnodes ][:,0], np.zeros(len(mesh.data[vXnodes ][:,0])), s = 0.5, c = 'k')\n",
    "#ax.hlines(500, tg.minX, tg.maxX, linestyles='--')"
   ]
  },
  {
   "cell_type": "markdown",
   "metadata": {
    "collapsed": true,
    "deletable": true,
    "editable": true
   },
   "source": [
    "## Boundary conditions"
   ]
  },
  {
   "cell_type": "code",
   "execution_count": 71,
   "metadata": {
    "collapsed": false,
    "deletable": true,
    "editable": true
   },
   "outputs": [],
   "source": [
    "iWalls = mesh.specialSets[\"MinI_VertexSet\"] + mesh.specialSets[\"MaxI_VertexSet\"]\n",
    "jWalls = mesh.specialSets[\"MinJ_VertexSet\"] + mesh.specialSets[\"MaxJ_VertexSet\"]\n",
    "\n",
    "tWalls = mesh.specialSets[\"MaxJ_VertexSet\"]\n",
    "bWalls = mesh.specialSets[\"MinJ_VertexSet\"]\n",
    "\n",
    "\n",
    "#velBC  = uw.conditions.DirichletCondition( variable        = velocityField, \n",
    "#                                           indexSetsPerDof = (iWalls, jWalls) )\n"
   ]
  },
  {
   "cell_type": "code",
   "execution_count": 72,
   "metadata": {
    "collapsed": false,
    "deletable": true,
    "editable": true
   },
   "outputs": [],
   "source": [
    "#vXnodes"
   ]
  },
  {
   "cell_type": "code",
   "execution_count": 73,
   "metadata": {
    "collapsed": true,
    "deletable": true,
    "editable": true
   },
   "outputs": [],
   "source": [
    "def build_velBcs(nodes):\n",
    "    \n",
    "    velnodeset = mesh.specialSets[\"Empty\"]\n",
    "    velnodeset += nodes\n",
    "    \n",
    "    \n",
    "    \n",
    "    velBC  = uw.conditions.DirichletCondition( variable        = velocityField, \n",
    "                                           indexSetsPerDof = (iWalls + velnodeset, jWalls - velnodeset) )\n",
    "    \n",
    "    return velBC"
   ]
  },
  {
   "cell_type": "code",
   "execution_count": 74,
   "metadata": {
    "collapsed": false,
    "deletable": true,
    "editable": true
   },
   "outputs": [],
   "source": [
    "velBC = build_velBcs(vXnodes)"
   ]
  },
  {
   "cell_type": "code",
   "execution_count": 77,
   "metadata": {
    "collapsed": false
   },
   "outputs": [],
   "source": [
    "#vXnodes"
   ]
  },
  {
   "cell_type": "markdown",
   "metadata": {
    "deletable": true,
    "editable": true
   },
   "source": [
    "## Bouyancy"
   ]
  },
  {
   "cell_type": "code",
   "execution_count": 75,
   "metadata": {
    "collapsed": true,
    "deletable": true,
    "editable": true
   },
   "outputs": [],
   "source": [
    "# Now create a buoyancy force vector using the density and the vertical unit vector. \n",
    "thermalDensityFn = ndp.rayleigh*(1. - proxyTempVariable)\n",
    "\n",
    "gravity = ( 0.0, -1.0 )\n",
    "\n",
    "buoyancyMapFn = thermalDensityFn*gravity"
   ]
  },
  {
   "cell_type": "markdown",
   "metadata": {
    "deletable": true,
    "editable": true
   },
   "source": [
    "## Rheology"
   ]
  },
  {
   "cell_type": "code",
   "execution_count": 37,
   "metadata": {
    "collapsed": true,
    "deletable": true,
    "editable": true
   },
   "outputs": [],
   "source": [
    "symStrainrate = fn.tensor.symmetric( \n",
    "                            velocityField.fn_gradient )\n",
    "\n",
    "#Set up any functions required by the rheology\n",
    "strainRate_2ndInvariant = fn.tensor.second_invariant( \n",
    "                            fn.tensor.symmetric( \n",
    "                            velocityField.fn_gradient ))\n",
    "\n",
    "\n",
    "\n",
    "def safe_visc(func, viscmin=ndp.viscosityMin, viscmax=ndp.viscosityMax):\n",
    "    return fn.misc.max(viscmin, fn.misc.min(viscmax, func))"
   ]
  },
  {
   "cell_type": "code",
   "execution_count": 38,
   "metadata": {
    "collapsed": false,
    "deletable": true,
    "editable": true
   },
   "outputs": [],
   "source": [
    "temperatureFn = proxyTempVariable\n",
    "adiabaticCorrectFn = depthFn*ndp.tempGradMantle\n",
    "dynamicPressureProxyDepthFn = pressureField/sf.pressureDepthGrad\n",
    "druckerDepthFn = fn.misc.max(0.0, depthFn + md.druckerAlpha*(dynamicPressureProxyDepthFn))\n",
    "\n",
    "#Diffusion Creep\n",
    "diffusionUM = (1./ndp.diffusionPreExp)*\\\n",
    "            fn.math.exp( ((ndp.diffusionEnergy + (depthFn*ndp.diffusionVolume))/((temperatureFn+ adiabaticCorrectFn + ndp.surfaceTemp))))\n",
    "\n",
    "diffusionUM =     safe_visc(diffusionUM)\n",
    "    \n",
    "diffusionLM = ndp.lowerMantleViscFac*(1./ndp.lowerMantlePreExp)*\\\n",
    "            fn.math.exp( ((ndp.lowerMantleEnergy + (depthFn*ndp.lowerMantleVolume))/((temperatureFn+ adiabaticCorrectFn + ndp.surfaceTemp))))\n",
    "\n",
    "diffusionLM =     safe_visc(diffusionLM)\n",
    "\n",
    "    \n",
    "#combine upper and lower mantle   \n",
    "mantleCreep = fn.branching.conditional( ((depthFn < ndp.lowerMantleDepth, diffusionUM ), \n",
    "                                           (True,                      diffusionLM )  ))\n",
    "\n",
    "#Define the mantle Plasticity\n",
    "ys =  ndp.cohesionMantle + (druckerDepthFn*ndp.frictionMantle)\n",
    "ysf = fn.misc.min(ys, ndp.yieldStressMax)\n",
    "yielding = ysf/(2.*(strainRate_2ndInvariant) + 1e-15) \n",
    "\n",
    "\n",
    "mantleRheologyFn = safe_visc(fn.misc.min(mantleCreep, yielding), viscmin=ndp.viscosityMin, viscmax=ndp.viscosityMax)\n",
    "\n",
    "#Subduction interface viscosity\n",
    "interfaceViscosityFn = fn.misc.constant(0.5)"
   ]
  },
  {
   "cell_type": "code",
   "execution_count": 39,
   "metadata": {
    "collapsed": false,
    "deletable": true,
    "editable": true
   },
   "outputs": [],
   "source": [
    "#viscconds = ((proximityVariable == 0, mantleRheologyFn),\n",
    "#             (True, interfaceViscosityFn ))\n",
    "\n",
    "#viscosityMapFn = fn.branching.conditional(viscconds)\n",
    "#viscosityMapFn = mantleRheologyFn\n",
    "\n",
    "\n",
    "viscosityMapFn = fn.branching.map( fn_key = proximityVariable,\n",
    "                             mapping = {0:mantleRheologyFn,\n",
    "                                        2:interfaceViscosityFn} )"
   ]
  },
  {
   "cell_type": "markdown",
   "metadata": {
    "deletable": true,
    "editable": true
   },
   "source": [
    "## Stokes"
   ]
  },
  {
   "cell_type": "code",
   "execution_count": 40,
   "metadata": {
    "collapsed": false,
    "deletable": true,
    "editable": true
   },
   "outputs": [],
   "source": [
    "surfaceArea = uw.utils.Integral(fn=1.0,mesh=mesh, integrationType='surface', surfaceIndexSet=tWalls)\n",
    "surfacePressureIntegral = uw.utils.Integral(fn=pressureField, mesh=mesh, integrationType='surface', surfaceIndexSet=tWalls)\n",
    "\n",
    "NodePressure = uw.mesh.MeshVariable(mesh, nodeDofCount=1)\n",
    "Cell2Nodes = uw.utils.MeshVariable_Projection(NodePressure, pressureField, type=0)\n",
    "Nodes2Cell = uw.utils.MeshVariable_Projection(pressureField, NodePressure, type=0)\n",
    "\n",
    "def smooth_pressure(mesh):\n",
    "    # Smooths the pressure field.\n",
    "    # Assuming that pressure lies on the submesh, do a cell -> nodes -> cell\n",
    "    # projection.\n",
    "\n",
    "    Cell2Nodes.solve()\n",
    "    Nodes2Cell.solve()\n",
    "\n",
    "# a callback function to calibrate the pressure - will pass to solver later\n",
    "def pressure_calibrate():\n",
    "    (area,) = surfaceArea.evaluate()\n",
    "    (p0,) = surfacePressureIntegral.evaluate()\n",
    "    offset = p0/area\n",
    "    pressureField.data[:] -= offset\n",
    "    smooth_pressure(mesh)"
   ]
  },
  {
   "cell_type": "code",
   "execution_count": 41,
   "metadata": {
    "collapsed": false,
    "deletable": true,
    "editable": true
   },
   "outputs": [],
   "source": [
    "stokes = uw.systems.Stokes( velocityField  = velocityField, \n",
    "                                   pressureField  = pressureField,\n",
    "                                   conditions     = [velBC,],\n",
    "                                   fn_viscosity   = viscosityMapFn, \n",
    "                                   fn_bodyforce   = buoyancyMapFn )\n"
   ]
  },
  {
   "cell_type": "code",
   "execution_count": 42,
   "metadata": {
    "collapsed": false,
    "deletable": true,
    "editable": true
   },
   "outputs": [],
   "source": [
    "solver = uw.systems.Solver(stokes)\n",
    "\n",
    "solver.set_inner_method(\"mumps\")\n",
    "solver.options.scr.ksp_type=\"cg\"\n",
    "solver.set_penalty(1.0e7)\n",
    "solver.options.scr.ksp_rtol = 1.0e-4\n"
   ]
  },
  {
   "cell_type": "code",
   "execution_count": 43,
   "metadata": {
    "collapsed": false,
    "deletable": true,
    "editable": true
   },
   "outputs": [
    {
     "name": "stdout",
     "output_type": "stream",
     "text": [
      "\u001b[1;35m\n",
      " \n",
      "Pressure iterations:   3\n",
      "Velocity iterations:   1 (presolve)      \n",
      "Velocity iterations:  -1 (pressure solve)\n",
      "Velocity iterations:   1 (backsolve)     \n",
      "Velocity iterations:   1 (total solve)   \n",
      " \n",
      "SCR RHS  solve time: 6.5290e-01\n",
      "Pressure solve time: 5.6569e-02\n",
      "Velocity solve time: 6.5653e-01 (backsolve)\n",
      "Total solve time   : 1.4803e+00\n",
      " \n",
      "Velocity solution min/max: 0.0000e+00/0.0000e+00\n",
      "Pressure solution min/max: 0.0000e+00/0.0000e+00\n",
      " \n",
      "\u001b[00m\n"
     ]
    }
   ],
   "source": [
    "solver.solve(nonLinearIterate=True, nonLinearTolerance=md.nltol, callback_post_solve = pressure_calibrate)\n",
    "solver.print_stats()"
   ]
  },
  {
   "cell_type": "markdown",
   "metadata": {
    "deletable": true,
    "editable": true
   },
   "source": [
    "## Swarm Advector"
   ]
  },
  {
   "cell_type": "code",
   "execution_count": 44,
   "metadata": {
    "collapsed": true,
    "deletable": true,
    "editable": true
   },
   "outputs": [],
   "source": [
    "advector = uw.systems.SwarmAdvector( swarm=swarm, velocityField=velocityField, order=2 )\n"
   ]
  },
  {
   "cell_type": "code",
   "execution_count": 45,
   "metadata": {
    "collapsed": true,
    "deletable": true,
    "editable": true
   },
   "outputs": [],
   "source": [
    "population_control = uw.swarm.PopulationControl(swarm, deleteThreshold=0.006, \n",
    "                                                splitThreshold=0.25,maxDeletions=1, maxSplits=3, aggressive=True,\n",
    "                                                aggressiveThreshold=0.9, particlesPerCell=int(md.ppc))"
   ]
  },
  {
   "cell_type": "markdown",
   "metadata": {
    "deletable": true,
    "editable": true
   },
   "source": [
    "## Update functions"
   ]
  },
  {
   "cell_type": "code",
   "execution_count": 46,
   "metadata": {
    "collapsed": true,
    "deletable": true,
    "editable": true
   },
   "outputs": [],
   "source": [
    "# Here we'll handle everything that should be advected - i.e. every timestep\n",
    "def advect_update():\n",
    "    # Retrieve the maximum possible timestep for the advection system.\n",
    "    dt = advector.get_max_dt()\n",
    "    # Advect swarm\n",
    "    advector.integrate(dt)\n",
    "    \n",
    "    #Advect faults\n",
    "    for f in fCollection:\n",
    "        f.advection(dt)\n",
    "    \n",
    "    \n",
    "    return dt, time+dt, step+1"
   ]
  },
  {
   "cell_type": "code",
   "execution_count": 47,
   "metadata": {
    "collapsed": true,
    "deletable": true,
    "editable": true
   },
   "outputs": [],
   "source": [
    "def update_stokes(time):\n",
    "    \n",
    "    #rebuild the velocity mask Fn\n",
    "    \n",
    "    velMask1 = tg.variable_boundary_mask_fn(distMax=20.2, distMin=0.0, relativeWidth = 0.75, \n",
    "                            minPlateLength =50e3/sf.lengthScale,  out = 'bool', boundtypes='ridge')\n",
    "\n",
    "    velMask2= tg.plate_interior_mask_fn(relativeWidth=0.95, \n",
    "                                            minPlateLength=10e3/sf.lengthScale, invert=False)\n",
    "\n",
    "    velMaskFn = operator.and_( velMask1,  velMask2)\n",
    "    \n",
    "    #set velocity back to zero\n",
    "    velocityField.data[:] = 0.\n",
    "    \n",
    "    #set the new surface vel, get the velXNodes\n",
    "    vXnodes = set_vel_return_nodes(time, velMaskFn)\n",
    "    \n",
    "    #creata a BC object\n",
    "    velBC = build_velBcs(vXnodes)\n",
    "    \n",
    "    \n",
    "    \n",
    "    #rebuild stokes\n",
    "    stokes = uw.systems.Stokes( velocityField  = velocityField, \n",
    "                                   pressureField  = pressureField,\n",
    "                                   conditions     = [velBC,],\n",
    "                                   fn_viscosity   = viscosityMapFn, \n",
    "                                   fn_bodyforce   = buoyancyMapFn )\n",
    "    return stokes"
   ]
  },
  {
   "cell_type": "code",
   "execution_count": 48,
   "metadata": {
    "collapsed": true,
    "deletable": true,
    "editable": true
   },
   "outputs": [],
   "source": [
    "def rebuild_solver(stokes):\n",
    "    \n",
    "    solver = uw.systems.Solver(stokes)\n",
    "    solver.set_inner_method(\"mumps\")\n",
    "    solver.options.scr.ksp_type=\"cg\"\n",
    "    solver.set_penalty(1.0e7)\n",
    "    solver.options.scr.ksp_rtol = 1.0e-4\n",
    "    \n",
    "    return solver\n"
   ]
  },
  {
   "cell_type": "code",
   "execution_count": 49,
   "metadata": {
    "collapsed": false,
    "deletable": true,
    "editable": true
   },
   "outputs": [],
   "source": [
    "def update_faults():\n",
    "    \n",
    "    ##the mask fns are static at this stage\n",
    "    #ridgeMaskFn = tg.ridge_mask_fn(ridgedist)\n",
    "    #subMaskFn = tg.subduction_mask_fn(subdist)\n",
    "    #boundMaskFn = tg.combine_mask_fn(ridgeMaskFn , subMaskFn )\n",
    "    \n",
    "    \n",
    "    dummy = remove_faults_from_boundaries(fCollection, ridgeMaskFn)\n",
    "    dummy = remove_fault_drift(fCollection, faultloc, tolFac =ds*2)\n",
    "    dummy = pop_or_perish(tg, fCollection, faultMasterSwarm, boundMaskFn, ds*3)\n",
    "    \n",
    "    for f in fCollection:\n",
    "        \n",
    "        #Remove particles below a specified depth\n",
    "        depthMask = f.swarm.particleCoordinates.data[:,1] < \\\n",
    "        (1. - (ndp.interfaceViscCutoffDepth - ndp.faultThickness))\n",
    "        with f.swarm.deform_swarm():\n",
    "            f.swarm.particleCoordinates.data[depthMask] = (9999999., 9999999.)\n",
    "        \n",
    "        #Here we're grabbing a 'black box' routine , \n",
    "        #which is supposed to maintain particle density and smooth\n",
    "        #quite experimental!!!\n",
    "        repair_markerLines(f, ds, k=8)\n",
    "    "
   ]
  },
  {
   "cell_type": "code",
   "execution_count": 50,
   "metadata": {
    "collapsed": false,
    "deletable": true,
    "editable": true
   },
   "outputs": [],
   "source": [
    "def update_swarm():\n",
    "    \n",
    "    population_control.repopulate()\n",
    "    \n",
    "    for f in fCollection:\n",
    "        f.rebuild()\n",
    "        f.set_proximity_director(swarm, proximityVariable, searchFac = 2., locFac=1.0,\n",
    "                                maxDistanceFn=fn.misc.constant(2.))\n",
    "        \n",
    "    #A simple depth cutoff for proximity\n",
    "    depthMask = swarm.particleCoordinates.data[:,1] < (1. - ndp.interfaceViscCutoffDepth)\n",
    "    proximityVariable.data[depthMask] = 0\n",
    "    \n",
    "    \n",
    "    \n",
    "    \n",
    "    "
   ]
  },
  {
   "cell_type": "code",
   "execution_count": 50,
   "metadata": {
    "collapsed": false
   },
   "outputs": [],
   "source": [
    "outputPath = os.path.join(os.path.abspath(\".\"),\"output/files\")\n",
    "\n",
    "if uw.rank()==0:\n",
    "    if not os.path.exists(outputPath):\n",
    "        os.makedirs(outputPath)\n",
    "uw.barrier()\n",
    "\n",
    "\n",
    "surfacexs = mesh.data[tWalls.data][:,0]\n",
    "surfaceys = mesh.data[tWalls.data][:,1]\n",
    "surfLine = markerLine2D(mesh, velocityField,surfacexs, surfaceys , 0,  99)\n",
    "surfVx = uw.swarm.SwarmVariable(surfLine.swarm, 'double', 1)\n",
    "\n",
    "def save_files(step):\n",
    "    surfVx.data[:] = velocityField[0].evaluate(surfLine.swarm)\n",
    "    \n",
    "    surfVx.save( \"output/files/surfVx_\" + str(step).zfill(3) + \"_.h5\")"
   ]
  },
  {
   "cell_type": "code",
   "execution_count": 51,
   "metadata": {
    "collapsed": true
   },
   "outputs": [],
   "source": [
    "#save_files(0)"
   ]
  },
  {
   "cell_type": "code",
   "execution_count": 51,
   "metadata": {
    "collapsed": false,
    "deletable": true,
    "editable": true
   },
   "outputs": [],
   "source": [
    "#e = (3,3)\n",
    "#time = 1e-5\n",
    "#for e in tg.undirected.edges():\n",
    "#    print(tg.bound_has_vel(e, time))"
   ]
  },
  {
   "cell_type": "code",
   "execution_count": 63,
   "metadata": {
    "collapsed": false,
    "deletable": true,
    "editable": true
   },
   "outputs": [],
   "source": [
    "def set_boundary_vel_update(tectModel, platePair, time, dt):\n",
    "    bv = 0.\n",
    "    try:\n",
    "        bv = tectModel.bound_velocity(platePair, time=time)\n",
    "    except:\n",
    "        pass\n",
    "    \n",
    "    dx = bv*dt\n",
    "    newx = (tectModel.get_bound_loc(platePair) + dx)\n",
    "    \n",
    "    return newx\n",
    "\n",
    "\n",
    "def strain_rate_field_update(tectModel, e, tmUwMap):\n",
    "    dist = 100e3/sf.lengthScale #limit the search radius\n",
    "    maskFn = tectModel.plate_boundary_mask_fn(dist, out='num',bound=e )\n",
    "    srLocMins, srLocMaxs = strain_rate_min_max(tectModel, tmUwMap, maskFn)\n",
    "    if tg.is_subduction_boundary(e):\n",
    "        return srLocMins[0][1]\n",
    "    else:\n",
    "        return srLocMaxs[0][1]\n",
    "    \n",
    "\n",
    "def update_tect_model(tectModel, tmUwMap, time, dt = 0.0 ):\n",
    "    \n",
    "    \"\"\"\n",
    "    An example of how we can update the tect_model\n",
    "    \"\"\"\n",
    "    for e in tectModel.undirected.edges():\n",
    "        \n",
    "        #This is generally the first condition to check\" a specified boundary velocity\n",
    "        if tectModel.bound_has_vel(e, time):\n",
    "            newX = set_boundary_vel_update(tectModel, e, time, dt)\n",
    "            tectModel.set_bound_loc(e, newX)\n",
    "            \n",
    "        #in this model the ficticious boundaries remain fixed at the edge\n",
    "        elif e[0] == e[1]:\n",
    "            pass       \n",
    "        #now we'll apply a strain rate query to update the subduction zone loc\n",
    "        elif tectModel.is_subduction_boundary(e):\n",
    "            e = tectModel.subduction_edge_order(e)\n",
    "            newx = strain_rate_field_update(tectModel, e, tmUwMap)\n",
    "            tectModel.set_bound_loc(e, newx)\n",
    "        else:\n",
    "            pass\n",
    "        \n",
    "        \n",
    "def rebuild_mask_fns():\n",
    "    \n",
    "    \n",
    "    #this one will repopulating (overpopulate) the faults\n",
    "    boundMaskFn = tg.plate_interior_mask_fn(relativeWidth=0.75, \n",
    "                                            minPlateLength=10e3/sf.lengthScale, invert=False)\n",
    "\n",
    "    #this one will truncate the faults\n",
    "    #ridgeMaskFn = tg.variable_boundary_mask_fn(distMax=100., distMin=0.0, relativeWidth = 0.75, \n",
    "    #                                  minPlateLength =50e3/sf.lengthScale,  \n",
    "    #                                           out = 'bool', boundtypes='ridge', bound=(1,2))\n",
    "     \n",
    "    ridgeMaskFn = tg.variable_boundary_mask_fn(distMax=100., distMin=0.0, relativeWidth = 0.75, \n",
    "                                      minPlateLength =50e3/sf.lengthScale,  \n",
    "                                               out = 'bool', boundtypes='ridge', bound=(2,2))\n",
    "       \n",
    "    return ridgeMaskFn, boundMaskFn"
   ]
  },
  {
   "cell_type": "code",
   "execution_count": 64,
   "metadata": {
    "collapsed": true,
    "deletable": true,
    "editable": true
   },
   "outputs": [],
   "source": [
    "#ridgeMaskFn, subMaskFn, boundMaskFn = rebuild_mask_fns()"
   ]
  },
  {
   "cell_type": "code",
   "execution_count": 65,
   "metadata": {
    "collapsed": false,
    "deletable": true,
    "editable": true
   },
   "outputs": [],
   "source": [
    "#st = update_stokes(0)\n",
    "#svt = rebuild_solver(st)"
   ]
  },
  {
   "cell_type": "code",
   "execution_count": 67,
   "metadata": {
    "collapsed": false,
    "deletable": true,
    "editable": true
   },
   "outputs": [],
   "source": [
    "#dttest = advector.get_max_dt()\n",
    "#update_tect_model(tg, tmUwMap,time=0., dt = dttest)"
   ]
  },
  {
   "cell_type": "code",
   "execution_count": 68,
   "metadata": {
    "collapsed": false,
    "deletable": true,
    "editable": true
   },
   "outputs": [],
   "source": [
    "#f.data.shape"
   ]
  },
  {
   "cell_type": "code",
   "execution_count": 69,
   "metadata": {
    "collapsed": false,
    "deletable": true,
    "editable": true
   },
   "outputs": [],
   "source": [
    "#update_faults()\n",
    "#update_swarm()"
   ]
  },
  {
   "cell_type": "markdown",
   "metadata": {
    "deletable": true,
    "editable": true
   },
   "source": [
    "## Track the values of the plate bounaries"
   ]
  },
  {
   "cell_type": "code",
   "execution_count": 70,
   "metadata": {
    "collapsed": false,
    "deletable": true,
    "editable": true
   },
   "outputs": [
    {
     "data": {
      "text/plain": [
       "{'(1, 1)': [],\n",
       " '(1, 2)': [],\n",
       " '(2, 3)': [],\n",
       " '(3, 3)': [],\n",
       " 'stepAtSave': [],\n",
       " 'timeAtSave': []}"
      ]
     },
     "execution_count": 70,
     "metadata": {},
     "output_type": "execute_result"
    }
   ],
   "source": [
    "valuesDict = edict({})\n",
    "valuesDict.timeAtSave = []\n",
    "valuesDict.stepAtSave = []\n",
    "for e in tg.undirected.edges():\n",
    "    valuesDict[str(e)] = []\n",
    "valuesDict    "
   ]
  },
  {
   "cell_type": "code",
   "execution_count": 56,
   "metadata": {
    "collapsed": false,
    "deletable": true,
    "editable": true
   },
   "outputs": [],
   "source": [
    "def valuesUpdateFn():\n",
    "    \n",
    "    \"\"\" \n",
    "    Assumes global variables:\n",
    "    * time\n",
    "    * step \n",
    "    ...\n",
    "    + many functions\n",
    "    \"\"\"\n",
    "    \n",
    "    \n",
    "    #save the time and step\n",
    "    valuesDict.timeAtSave.append(time) \n",
    "    valuesDict.stepAtSave.append(step)\n",
    "    \n",
    "    for e in tg.undirected.edges():\n",
    "        if tg.is_subduction_boundary(e):\n",
    "            ee = tg.subduction_edge_order(e) #hacky workaround for the directed/ undireted. need get_bound_loc\n",
    "        else:\n",
    "            ee = e\n",
    "\n",
    "        valuesDict[str(e)].append(tg.get_bound_loc(ee))\n",
    "        \n",
    "        \n",
    "    #save\n",
    "    if uw.rank()==0:\n",
    "        fullpath = os.path.join(outputPath + \"tect_model_data\")\n",
    "        #the '**' is important\n",
    "        np.savez(fullpath, **valuesDict)\n",
    "    "
   ]
  },
  {
   "cell_type": "code",
   "execution_count": 57,
   "metadata": {
    "collapsed": false,
    "deletable": true,
    "editable": true
   },
   "outputs": [],
   "source": [
    "#valuesUpdateFn()\n",
    "#valuesDict  \n",
    "#!ls output"
   ]
  },
  {
   "cell_type": "markdown",
   "metadata": {
    "deletable": true,
    "editable": true
   },
   "source": [
    "## Viz"
   ]
  },
  {
   "cell_type": "code",
   "execution_count": 92,
   "metadata": {
    "collapsed": true,
    "deletable": true,
    "editable": true
   },
   "outputs": [],
   "source": [
    "outputPath = os.path.join(os.path.abspath(\".\"),\"output/\")\n",
    "\n",
    "if uw.rank()==0:\n",
    "    if not os.path.exists(outputPath):\n",
    "        os.makedirs(outputPath)\n",
    "uw.barrier()"
   ]
  },
  {
   "cell_type": "code",
   "execution_count": 93,
   "metadata": {
    "collapsed": false,
    "deletable": true,
    "editable": true
   },
   "outputs": [],
   "source": [
    "store1 = glucifer.Store('output/subduction1')\n",
    "store2 = glucifer.Store('output/subduction2')\n",
    "#store3 = glucifer.Store('output/subduction3')\n",
    "\n",
    "\n",
    "figProx = glucifer.Figure(store1, figsize=(960,300) )\n",
    "figProx.append( glucifer.objects.Points(swarm , proximityVariable))\n",
    "for f in fCollection:\n",
    "    figProx.append( glucifer.objects.Points(f.swarm, pointSize=5))\n",
    "#figProx.show()\n",
    "\n",
    "figVisc = glucifer.Figure( store2, figsize=(960,300) )\n",
    "figVisc.append( glucifer.objects.Points(swarm, viscosityMapFn, pointSize=2, logScale=True) )\n",
    "\n",
    "\n",
    "\n",
    "#figMask = glucifer.Figure( store3, figsize=(960,300) )\n",
    "#figMask.append( glucifer.objects.Surface(mesh, pIdFn , valueRange=[0,3]) )\n",
    "#figMask.append( glucifer.objects.Surface(mesh,  boundMaskFn) )\n",
    "\n"
   ]
  },
  {
   "cell_type": "code",
   "execution_count": 94,
   "metadata": {
    "collapsed": false,
    "deletable": true,
    "editable": true,
    "scrolled": true
   },
   "outputs": [
    {
     "data": {
      "text/html": [
       "<img src='data:image/png;base64,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'>"
      ],
      "text/plain": [
       "<IPython.core.display.HTML object>"
      ]
     },
     "metadata": {},
     "output_type": "display_data"
    }
   ],
   "source": [
    "#figVisc.show()\n",
    "#figProx.save_database('test.gldb')"
   ]
  },
  {
   "cell_type": "code",
   "execution_count": 44,
   "metadata": {
    "collapsed": false,
    "deletable": true,
    "editable": true
   },
   "outputs": [],
   "source": [
    "#1e-2*2900."
   ]
  },
  {
   "cell_type": "markdown",
   "metadata": {
    "deletable": true,
    "editable": true
   },
   "source": [
    "## Main Loop"
   ]
  },
  {
   "cell_type": "code",
   "execution_count": 132,
   "metadata": {
    "collapsed": false,
    "deletable": true,
    "editable": true
   },
   "outputs": [],
   "source": [
    "time = 0.  # Initial time\n",
    "step = 0 \n",
    "maxSteps = 2000      # Maximum timesteps (201 is recommended)\n",
    "steps_output = 5   # output every 10 timesteps\n",
    "swarm_update = 5   # output every 10 timesteps\n",
    "faults_update = 10\n",
    "dt_model = 0.\n",
    "steps_update_model = 10\n",
    "\n",
    "valuesUpdateFn()"
   ]
  },
  {
   "cell_type": "code",
   "execution_count": 46,
   "metadata": {
    "collapsed": false,
    "deletable": true,
    "editable": true
   },
   "outputs": [],
   "source": []
  },
  {
   "cell_type": "code",
   "execution_count": 47,
   "metadata": {
    "collapsed": false,
    "deletable": true,
    "editable": true
   },
   "outputs": [
    {
     "name": "stdout",
     "output_type": "stream",
     "text": [
      "step =      1; time = 8.138e-06\n",
      "step =      2; time = 1.593e-05\n",
      "step =      3; time = 2.334e-05\n",
      "step =      4; time = 3.055e-05\n",
      "step =      5; time = 3.749e-05\n",
      "step =      6; time = 4.409e-05\n",
      "step =      7; time = 5.039e-05\n",
      "step =      8; time = 5.649e-05\n",
      "step =      9; time = 6.228e-05\n",
      "step =     10; time = 6.781e-05\n",
      "step =     11; time = 7.324e-05\n",
      "step =     12; time = 7.850e-05\n",
      "step =     13; time = 8.339e-05\n",
      "step =     14; time = 8.796e-05\n",
      "step =     15; time = 9.223e-05\n",
      "step =     16; time = 9.622e-05\n",
      "step =     17; time = 1.000e-04\n",
      "step =     18; time = 1.036e-04\n",
      "step =     19; time = 1.070e-04\n",
      "step =     20; time = 1.103e-04\n"
     ]
    }
   ],
   "source": [
    "#while time < tg.times[-1]:\n",
    "while step < maxSteps:\n",
    "    # Solve non linear Stokes system\n",
    "    solver.solve(nonLinearIterate=True)\n",
    "    \n",
    "    #advect swarm and faults\n",
    "    dt, time, step =  advect_update()\n",
    "    dt_model += dt\n",
    "    \n",
    "    \n",
    "    #running fault healing/addition, map back to swarm\n",
    "    if step % faults_update == 0:\n",
    "        update_faults()\n",
    "    if step % swarm_update == 0:\n",
    "        update_swarm()\n",
    "        \n",
    "    #update tectonic model\n",
    "    if step % steps_update_model == 0:\n",
    "        update_tect_model(tg, tmUwMap, time, dt = dt_model)\n",
    "        dt_model = 0.\n",
    "        #ridgeMaskFn, subMaskFn, boundMaskFn, pIdFn= rebuild_mask_fns()\n",
    "        \n",
    "        ridgeMaskFn, boundMaskFn = rebuild_mask_fns()\n",
    "        valuesUpdateFn()\n",
    "        \n",
    "    #rebuild stokes\n",
    "    if step % steps_update_model == 0:\n",
    "        del solver\n",
    "        del stokes\n",
    "        stokes = update_stokes(time)\n",
    "        solver = rebuild_solver(stokes)\n",
    "        \n",
    "    \n",
    "    # output figure to file at intervals = steps_output\n",
    "    if step % steps_output == 0 or step == maxSteps-1:\n",
    "        #Important to set the timestep for the store object here or will overwrite previous step\n",
    "        store1.step = step\n",
    "        store2.step = step\n",
    "        #store3.step = step\n",
    "        figProx.save(    outputPath + \"proximity\"    + str(step).zfill(4))\n",
    "        figVisc.save(    outputPath + \"visc\"    + str(step).zfill(4))\n",
    "        #figMask.save(    outputPath + \"mask\"    + str(step).zfill(4))\n",
    "        \n",
    "        #save out the surface velocity\n",
    "        save_files(step)\n",
    "    \n",
    "    if uw.rank()==0:\n",
    "        print 'step = {0:6d}; time = {1:.3e}'.format(step,time)\n"
   ]
  },
  {
   "cell_type": "code",
   "execution_count": null,
   "metadata": {
    "collapsed": true,
    "deletable": true,
    "editable": true
   },
   "outputs": [],
   "source": []
  },
  {
   "cell_type": "code",
   "execution_count": null,
   "metadata": {
    "collapsed": true,
    "deletable": true,
    "editable": true
   },
   "outputs": [],
   "source": []
  },
  {
   "cell_type": "code",
   "execution_count": null,
   "metadata": {
    "collapsed": true,
    "deletable": true,
    "editable": true
   },
   "outputs": [],
   "source": []
  }
 ],
 "metadata": {
  "kernelspec": {
   "display_name": "Python 2",
   "language": "python",
   "name": "python2"
  },
  "language_info": {
   "codemirror_mode": {
    "name": "ipython",
    "version": 2
   },
   "file_extension": ".py",
   "mimetype": "text/x-python",
   "name": "python",
   "nbconvert_exporter": "python",
   "pygments_lexer": "ipython2",
   "version": "2.7.9"
  }
 },
 "nbformat": 4,
 "nbformat_minor": 2
}
