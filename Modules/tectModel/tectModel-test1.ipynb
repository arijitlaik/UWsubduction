{
 "cells": [
  {
   "cell_type": "markdown",
   "metadata": {
    "deletable": true,
    "editable": true
   },
   "source": [
    "## Intro to TectModel"
   ]
  },
  {
   "cell_type": "code",
   "execution_count": 1,
   "metadata": {
    "collapsed": false,
    "deletable": true,
    "editable": true
   },
   "outputs": [
    {
     "name": "stdout",
     "output_type": "stream",
     "text": [
      "importing Jupyter notebook from tectModelClass.ipynb\n"
     ]
    }
   ],
   "source": [
    "#load in parent stuff\n",
    "\n",
    "import nb_load_stuff\n",
    "from tectModelClass import *"
   ]
  },
  {
   "cell_type": "code",
   "execution_count": 2,
   "metadata": {
    "collapsed": true,
    "deletable": true,
    "editable": true
   },
   "outputs": [],
   "source": [
    "#If run through Docker we'll point at the local 'unsupported dir.'\n",
    "#On hpc, the path should also include a directory holding the unsupported_dan.\n",
    "import os\n",
    "import sys\n",
    "\n",
    "if os.getcwd() == '/workspace/newSlab':\n",
    "    sys.path.append('../unsupported')\n",
    "\n",
    "#this does't actually need to be protected. More a reminder it's an interim measure\n",
    "try:\n",
    "    sys.path.append('../unsupported')\n",
    "except:\n",
    "    pass"
   ]
  },
  {
   "cell_type": "code",
   "execution_count": 3,
   "metadata": {
    "collapsed": false,
    "deletable": true,
    "editable": true
   },
   "outputs": [
    {
     "name": "stderr",
     "output_type": "stream",
     "text": [
      "../unsupported/unsupported_dan/utilities/__init__.py:9: UserWarning: \n",
      "\n",
      "The utilities module is not supported.\n",
      "Questions should be addressed to sandd@student.unimelb.edu.au \n",
      " \n",
      "  Questions should be addressed to sandd@student.unimelb.edu.au \\n \"\"\"\n",
      "../unsupported/unsupported_dan/interfaces/__init__.py:9: UserWarning: \n",
      "\n",
      "The interface module is not supported.\n",
      "Questions should be addressed to louis.moresi@unimelb.edu.au \n",
      " \n",
      "  Questions should be addressed to louis.moresi@unimelb.edu.au \\n \"\"\"\n"
     ]
    }
   ],
   "source": [
    "from unsupported_dan.utilities import *\n",
    "from unsupported_dan.utilities import *\n",
    "from unsupported_dan.interfaces.marker2D import markerLine2D, line_collection\n"
   ]
  },
  {
   "cell_type": "code",
   "execution_count": 4,
   "metadata": {
    "collapsed": true,
    "deletable": true,
    "editable": true
   },
   "outputs": [],
   "source": [
    "import numpy as np\n",
    "import underworld as uw\n",
    "from underworld import function as fn\n",
    "import glucifer\n",
    "from easydict import EasyDict as edict\n",
    "import networkx as nx\n",
    "import operator\n",
    "\n",
    "\n"
   ]
  },
  {
   "cell_type": "markdown",
   "metadata": {
    "deletable": true,
    "editable": true
   },
   "source": [
    "## Toy model"
   ]
  },
  {
   "cell_type": "code",
   "execution_count": 5,
   "metadata": {
    "collapsed": true,
    "deletable": true,
    "editable": true
   },
   "outputs": [],
   "source": [
    "mesh = uw.mesh.FeMesh_Cartesian( elementType = (\"Q1\"), \n",
    "                                 elementRes  = (96, 48), \n",
    "                                 minCoord    = (-1.0, 0.0), \n",
    "                                 maxCoord    = (1.0, 1.0) )\n",
    "\n",
    "\n",
    "temperatureField = uw.mesh.MeshVariable( mesh=mesh, nodeDofCount=1 )\n",
    "velocityField = uw.mesh.MeshVariable( mesh=mesh, nodeDofCount=2 )\n",
    "coordinate = fn.input()\n"
   ]
  },
  {
   "cell_type": "code",
   "execution_count": 6,
   "metadata": {
    "collapsed": false,
    "deletable": true,
    "editable": true
   },
   "outputs": [],
   "source": [
    "#toy model, 3 plates\n",
    "############################\n",
    "#-1        0.0  0.5    1.0\n",
    "######1##### ###2###  ##3##\n",
    "            #\n",
    "             #\n",
    "###########################\n",
    "\n",
    "tg = TectModel(mesh, 0, 20, 1)\n",
    "\n",
    "tg.add_plate(1, velocities = 1)\n",
    "tg.add_plate(2,velocities = -1)\n",
    "tg.add_plate(3, velocities = 0)\n",
    "        \n",
    "tg.add_left_boundary(1)\n",
    "tg.add_subzone(1, 2, 0.25, subInitAge=50.0, upperInitAge=10.0)\n",
    "tg.add_ridge(2, 3, 0.5)\n",
    "tg.add_right_boundary(3, 30.)"
   ]
  },
  {
   "cell_type": "code",
   "execution_count": 7,
   "metadata": {
    "collapsed": false,
    "deletable": true,
    "editable": true
   },
   "outputs": [
    {
     "data": {
      "text/plain": [
       "True"
      ]
     },
     "execution_count": 7,
     "metadata": {},
     "output_type": "execute_result"
    }
   ],
   "source": [
    "\n",
    "tg.is_subduction_boundary((1,2))"
   ]
  },
  {
   "cell_type": "code",
   "execution_count": 8,
   "metadata": {
    "collapsed": false,
    "deletable": true,
    "editable": true
   },
   "outputs": [],
   "source": [
    "#tg.is_subduction_boundary(2,1), tg.is_subduction_boundary(3,2)\n",
    "\n",
    "#tg.subduction_boundary_from_plate(3)\n",
    "#tg.is_subducting_plate(1)\n",
    "#\n",
    "#np.sort(tg.get_boundaries(1)).mean(),  np.sort(tg.get_boundaries(2)).mean()\n",
    "#tg.subduction_direction(1,2)\n",
    "\n",
    "#tg.subduction_boundary_from_plate(tg.subduction_direction(2,1))\n",
    "#tg.subduction_boundary_from_plate(tg.subduction_edge_order(2,1)[0])"
   ]
  },
  {
   "cell_type": "code",
   "execution_count": 9,
   "metadata": {
    "collapsed": false,
    "deletable": true,
    "editable": true
   },
   "outputs": [
    {
     "data": {
      "text/plain": [
       "False"
      ]
     },
     "execution_count": 9,
     "metadata": {},
     "output_type": "execute_result"
    }
   ],
   "source": [
    "plateId =1\n",
    "len(tg[plateId].keys()) == 1 and len(tg.undirected[plateId].keys()) ==2"
   ]
  },
  {
   "cell_type": "code",
   "execution_count": 10,
   "metadata": {
    "collapsed": false,
    "deletable": true,
    "editable": true
   },
   "outputs": [
    {
     "name": "stdout",
     "output_type": "stream",
     "text": [
      "2\n",
      "3\n"
     ]
    }
   ],
   "source": [
    "plateId = 3\n",
    "for b in tg.connected_plates(plateId ):\n",
    "    print(b)\n",
    "    if tg.has_edge(plateId, b) and tg.has_edge(b, plateId):\n",
    "        pass\n",
    "    else:\n",
    "        print(tg.subduction_direction(plateId, b))\n",
    "        break"
   ]
  },
  {
   "cell_type": "code",
   "execution_count": 11,
   "metadata": {
    "collapsed": false,
    "deletable": true,
    "editable": true
   },
   "outputs": [
    {
     "data": {
      "text/plain": [
       "[(2, 3)]"
      ]
     },
     "execution_count": 11,
     "metadata": {},
     "output_type": "execute_result"
    }
   ],
   "source": [
    "plateId = 2\n",
    "[i for i in tg.out_edges(plateId)]\n",
    "#[i for i in tg.in_edges(plateId)]\n"
   ]
  },
  {
   "cell_type": "code",
   "execution_count": 12,
   "metadata": {
    "collapsed": false,
    "deletable": true,
    "editable": true
   },
   "outputs": [
    {
     "data": {
      "text/plain": [
       "((1, 2), (2, 3))"
      ]
     },
     "execution_count": 12,
     "metadata": {},
     "output_type": "execute_result"
    }
   ],
   "source": [
    "tg.in_edges(plateId)[0], tg.out_edges(plateId)[0]"
   ]
  },
  {
   "cell_type": "code",
   "execution_count": 13,
   "metadata": {
    "collapsed": false,
    "deletable": true,
    "editable": true
   },
   "outputs": [],
   "source": [
    "#pAgeDict"
   ]
  },
  {
   "cell_type": "code",
   "execution_count": 14,
   "metadata": {
    "collapsed": false,
    "deletable": true,
    "editable": true
   },
   "outputs": [
    {
     "data": {
      "text/html": [
       "<img src='data:image/png;base64,iVBORw0KGgoAAAANSUhEUgAAAZAAAADICAIAAABJdyC1AAAD8ElEQVR4nO3dO25bRxiA0fkJb8RdvA0vIBtz4Z0Zyg7cJU0Kd+4mRaJEFCSbCihff9I5UDEU7mMogB/uA5eavfcCKDgdPQGASwkWkCFYQIZgARmCBWQIFpAhWECGYAEZggVkCBaQIVhAhmABGYIFZAgWkCFYQIZgARmCBWQIFpAhWECGYAEZggVkCBaQIVhAhmABGYIFZAgWkCFYQIZgARmCBWQIFpAhWECGYAEZb46ewDXNzNFTgJ/O3vvoKVzNywnWzPzy8eboWfAjvH/75dd3f75/++V5d/P16+nTzenTb/P7H8+7o+c0Hz4fPYVrckoIZAgWkCFYQIZgARmCBWQIFpAhWECGYAEZggVkCBaQIVhAhmABGYIFZAgWkCFYQIZgARmCBWQIFpAhWECGYAEZggVkCBaQIVhAhmABGYIFZAgWkCFYQIZgARmCBWQIFpAhWECGYAEZggVkCBaQIVhAhmABGYIFZAgWkCFYQIZgARmCBWQIFpAhWECGYAEZggVkCBaQIVhAhmABGYIFZAgWkCFYQIZgARmCBWQIFpAhWECGYAEZggVkCBaQIVhAhmABGYIFZAgWkCFYQIZgARmCBWQIFpAhWECGYAEZggVkCBaQIVhAhmABGYIFZAgWkCFYQIZgARmCBWQIFpAhWECGYAEZggVkCBaQIVhAhmABGYIFZAgWkCFYQIZgARmCBWQIFpAhWECGYAEZggVkCBaQIVhAhmABGYIFZAgWkCFYQIZgARmCBWQIFpAhWECGYAEZggVkCBaQIVhAhmABGYIFZAgWkCFYQIZgARmCBWQIFpAhWECGYAEZggVkCBaQIVhAhmABGYIFZAgWkCFYQIZgARmCBWQIFpAhWECGYAEZggVkCBaQMXvvo+dwHTNz9BTgZ/RiPuPrJQULePGcEgIZggVkCBaQIVhAxptD9uqOHtQdcr/umGCttd59vJlZM/u01mODWes0a2bN2vcHDyy/TmvfG9xZcZ1mXzC4u9+zwcxFi50en/nMOp0N1sy+YPDffr+/2PcH/0zgwT/Xaa2ZfTZ4fOYPL387mLXW3nd+1lrnL/e+85vbhddee83/XPHOy9tNPWk78/CKez3hvXxjAo9uZ/b5utd4L5dsZ+5v6vIJ7Pnw+ZBuOCUEMgQLyBAsIEOwgAzBAjIEC8gQLCBDsIAMwQIyjvk+LI/mQN3rejTHFwdC11HHHE4JgQzBAjIEC8jwTyiAjGOOsNwlhK6ZeUUX3dUKumZm7733PuSDfECwnIRC17GfXxfdgSf7+zjrx+9XsIAne0WnhEDXsdegD3s0Byj699jqmMeQXQIHKpwSAhmCBWQIFpAhWEDGXziHgZ1C5P4bAAAAAElFTkSuQmCC'>"
      ],
      "text/plain": [
       "<IPython.core.display.HTML object>"
      ]
     },
     "metadata": {},
     "output_type": "display_data"
    }
   ],
   "source": [
    "#for n in tg.nodes():\n",
    "#    print(n)\n",
    "#    bounds  = np.sort(tg.get_boundaries(n))\n",
    "#    print('plate {}'.format(n), bounds)\n",
    "    \n",
    "    \n",
    "pIdFn = tg.plate_id_fn()\n",
    "pAgeDict = tg.plate_age_fn() \n",
    "\n",
    "fnAge_map = fn.branching.map(fn_key = pIdFn , \n",
    "                          mapping = pAgeDict )\n",
    "\n",
    "fig = glucifer.Figure(figsize=(400, 200))\n",
    "fig.append( glucifer.objects.Surface(tg.mesh, pIdFn ))\n",
    "fig.show()"
   ]
  },
  {
   "cell_type": "code",
   "execution_count": 15,
   "metadata": {
    "collapsed": false,
    "deletable": true,
    "editable": true
   },
   "outputs": [],
   "source": [
    "#combMaskFn = operator.or_(RboundMaskFn, SboundMaskFn )"
   ]
  },
  {
   "cell_type": "code",
   "execution_count": 16,
   "metadata": {
    "collapsed": false,
    "deletable": true,
    "editable": true
   },
   "outputs": [
    {
     "data": {
      "text/html": [
       "<img src='data:image/png;base64,iVBORw0KGgoAAAANSUhEUgAAAZAAAADICAIAAABJdyC1AAAEDklEQVR4nO3dTW5TVxiA4XMsKlEQe2hndAXMs4Mspqtg0KVkBWQNHXYGe6iAARKHSQN2lIBdWVze8DzK4Ni6vv4cya9yr38y11oDoGC39QAAxxIsIEOwgAzBAjIEC8gQLCBDsIAMwQIyBAvIECwgQ7CADMECMgQLyBAsIEOwgAzBAjIEC8gQLCBDsIAMwQIyBAvIECwgQ7CADMECMgQLyBAsIEOwgAzBAjIEC8gQLCBDsIAMwQIyHm09wDnNObceAX44a62tRzibhxOsOef687f9a/7dPb369eLqycU/v/y+0VAEPPv49vL99eW76+cfXn99y1ePX1w9uXj1+MX3GexUzz+8vnx3ffn++tnHt5+vnC/fbDfR+TkkBDIEC8gQLCBDsIAMwQIyBAvIECwgQ7CADMECMgQLyBAsIEOwgAzBAjIEC8gQLCBDsIAMwQIyBAvIECwgQ7CADMECMgQLyBAsIEOwgAzBAjIEC8gQLCBDsIAMwQIyBAvIECwgQ7CADMECMgQLyBAsIEOwgAzBAjIEC8gQLCBDsIAMwQIyBAvIECwgQ7CADMECMgQLyBAsIEOwgAzBAjIEC8gQLCBDsIAMwQIyBAvIECwgQ7CADMECMgQLyBAsIEOwgAzBAjIEC8gQLCBDsIAMwQIyBAvIECwgQ7CADMECMgQLyBAsIEOwgAzBAjIEC8gQLCBDsIAMwQIyBAvIECwgQ7CADMECMgQLyBAsIEOwgAzBAjIEC8gQLCBDsIAMwQIyBAvIECwgQ7CADMECMgQLyBAsIEOwgAzBAjIEC8gQLCBDsIAMwQIyBAvIECwgQ7CADMECMgQLyBAsIEOwgAzBAjIEC8gQLCBDsIAMwQIyBAvIECwgQ7CADMECMgQLyBAsIEOwgAzBAjIEC8gQLCBDsIAMwQIyBAvIECwgQ7CADMECMgQLyJhrra1nOI8559YjwI/owTzHx0MKFvDgOSQEMgQLyBAsIEOwgIxHm9yrV/SgbpPX67YJ1hjjj7/+nnPMuXZj3LeYY+zmmHPMsW4v7th+7Ma6tdi74djNdcRi/34PFnMetdnu/snnHLuDxZhzHbH4cr/f3uzbi/8GuPPXtRtjznWwuH/yu7e/Wcwxxlp7P2OMw4tr7V1zs/FYY435P2+4d/FmVyftZ959wzVOeCxfGeDe/cx1eNtzPJZj9jNv7+r4AdZ8+WaTbjgkBDIEC8gQLCBDsIAMwQIyBAvIECwgQ7CADMECMrb5PiwfzYG6n+ujOb44ELq2+pvDISGQIVhAhmABGf4JBZCxwV9Yc06vEkLaz3LSfc651lpraRZEbfjkdQ4LOM2G55EEC8gQLCBDsICM7/3RnM+n272dAjiV92EBGQ4JgQzBAjIEC8gQLCDjE2aChJ0i7eh+AAAAAElFTkSuQmCC'>"
      ],
      "text/plain": [
       "<IPython.core.display.HTML object>"
      ]
     },
     "metadata": {},
     "output_type": "display_data"
    }
   ],
   "source": [
    "boundMaskFn = tg.plate_boundary_mask_fn(0.1)\n",
    "RboundMaskFn = tg.ridge_mask_fn(0.05)\n",
    "SboundMaskFn = tg.subduction_mask_fn(0.1)\n",
    "\n",
    "#We can 'add' these mask functions like so\n",
    "boundMaskFn = tg.combine_mask_fn(RboundMaskFn, SboundMaskFn )\n",
    "\n",
    "fig = glucifer.Figure(figsize=(400, 200))\n",
    "fig.append( glucifer.objects.Surface(tg.mesh, RboundMaskFn ))\n",
    "fig.show()"
   ]
  },
  {
   "cell_type": "code",
   "execution_count": 17,
   "metadata": {
    "collapsed": false,
    "deletable": true,
    "editable": true
   },
   "outputs": [],
   "source": [
    "#boundMaskFn.evaluate(mesh)"
   ]
  },
  {
   "cell_type": "code",
   "execution_count": 18,
   "metadata": {
    "collapsed": false,
    "deletable": true,
    "editable": true
   },
   "outputs": [
    {
     "data": {
      "text/html": [
       "<img src='data:image/png;base64,iVBORw0KGgoAAAANSUhEUgAAAZAAAADICAIAAABJdyC1AAAET0lEQVR4nO3dvY5UVQDA8XMmKwkKJlYaqdQGOwt9AXgA9VF8DgseBX0Be6IFJY3GRqKViRAlajwWSNgluzBrJlz/6++XLc5M7seZzd5/7p2vnWutAVCw23oCAPsSLCBDsIAMwQIyBAvIECwgQ7CADMECMgQLyBAsIEOwgAzBAjIEC8gQLCBDsIAMwQIyBAvIECwgQ7CADMECMgQLyBAsIEOwgAzBAjIEC8gQLCBDsIAMwQIyBAvIECwgQ7CADMECMo62nsAhzTm3ngL856y1tp7CwVycYM05r9+6e/yey0d/fXjt4UfXHrz9+u9bzYr9/fbH7psfrnx9/+r9Xy4dZIPXr/z88ZvffvLWd1ePnvcH8ODPS1/8+O6XP7137+Ebz9/gzUd3Pv31q5uP7hxkegd375V3br964/blGw92rz2987MPNpzSwbkkBDIEC8gQLCBDsIAMwQIyBAvIECwgQ7CADMECMgQLyBAsIEOwgAzBAjIEC8gQLCBDsIAMwQIyBAvIECwgQ7CADMECMgQLyBAsIEOwgAzBAjIEC8gQLCBDsIAMwQIyBAvIECwgQ7CADMECMgQLyBAsIEOwgAzBAjIEC8gQLCBDsIAMwQIyBAvIECwgQ7CADMECMgQLyBAsIEOwgAzBAjIEC8gQLCBDsIAMwQIyBAvIECwgQ7CADMECMgQLyBAsIEOwgAzBAjIEC8gQLCBDsIAMwQIyBAvIECwgQ7CADMECMgQLyBAsIEOwgAzBAjIEC8gQLCBDsIAMwQIyBAvIECwgQ7CADMECMgQLyBAsIEOwgAzBAjIEC8gQLCBDsIAMwQIyBAvIECwgQ7CADMECMgQLyBAsIEOwgAzBAjIEC8gQLCBDsIAMwQIyBAvIECwgQ7CADMECMgQLyBAsIEOwgAzBAjIEC8gQLCBDsIAMwQIyBAvIECwgQ7CADMECMgQLyBAsIEOwgAzBAjIEC8gQLCBDsIAMwQIyBAvIECwgQ7CADMECMgQLyJhrra3ncBhzzq2nAP9FF+YYHxcpWMCF55IQyBAsIEOwgAzBAjKONtmrV/SgbpPX67YJ1hjj/Vt35xxzrt0YZw3mGLs55hxzrGcHpyw/dmM9Mzi24tjNtcfg+H5PDObca7Hd2TOfc+xODMaca4/B0/2+eLEXD/6ZwKm/rt0Yc64Tg7NnfvryTwZzjLHWsZ8xxsmbax2758nCY4015r9c8djNJ5s613bm6SuucY7H8pwJnLmduU6ue4jHss925rOb2n8Ca37+/SbdcEkIZAgWkCFYQIZgARmCBWQIFpAhWECGYAEZggVkbPN9WD6aA3X/r4/m+OJA6NrqnMMlIZAhWECGYAEZ/gkFkLHBGdac06uE0LXhIfyygzXnXGuttTQLirY9hD2HBZzDtk8iCRZwbo/Ps17+fgULODeXhEDAts8+b3Be9/gBezsFRG14CHsfFpDhkhDIECwgQ7CADMECMv4GOcyenVDKz84AAAAASUVORK5CYII='>"
      ],
      "text/plain": [
       "<IPython.core.display.HTML object>"
      ]
     },
     "metadata": {},
     "output_type": "display_data"
    }
   ],
   "source": [
    "#We can also have  masked Plate Function \n",
    "\n",
    "maskedPlateIdFn = tg.plate_id_fn(maskFn=boundMaskFn)\n",
    "fig = glucifer.Figure(figsize=(400, 200))\n",
    "fig.append( glucifer.objects.Surface(tg.mesh, maskedPlateIdFn , valueRange = [0, 3] ))\n",
    "fig.show()"
   ]
  },
  {
   "cell_type": "code",
   "execution_count": 19,
   "metadata": {
    "collapsed": false,
    "deletable": true,
    "editable": true
   },
   "outputs": [],
   "source": [
    "#loc = tg.get_edge_data( *tg.edges()[0])['loc']\n",
    "#velocityField.evaluate_global((loc,1.0))"
   ]
  },
  {
   "cell_type": "code",
   "execution_count": 20,
   "metadata": {
    "collapsed": false,
    "deletable": true,
    "editable": true
   },
   "outputs": [
    {
     "data": {
      "text/plain": [
       "([1, 2, 3], [(1, 1), (1, 2), (2, 3), (3, 2), (3, 3)])"
      ]
     },
     "execution_count": 20,
     "metadata": {},
     "output_type": "execute_result"
    }
   ],
   "source": [
    "tg.nodes(), tg.edges()\n"
   ]
  },
  {
   "cell_type": "code",
   "execution_count": 21,
   "metadata": {
    "collapsed": true,
    "deletable": true,
    "editable": true
   },
   "outputs": [],
   "source": [
    "#uw.systems.SwarmAdvector?"
   ]
  },
  {
   "cell_type": "code",
   "execution_count": 22,
   "metadata": {
    "collapsed": false,
    "deletable": true,
    "editable": true
   },
   "outputs": [
    {
     "name": "stdout",
     "output_type": "stream",
     "text": [
      "(True, False)\n",
      "(True, False)\n",
      "(False, True)\n",
      "(False, True)\n",
      "(True, False)\n",
      "(True, False)\n",
      "(True, False)\n",
      "(True, False)\n"
     ]
    }
   ],
   "source": [
    "\n",
    "#We can traverse the undirect graph and use these functions to query the underlying directed data structue\n",
    "for e in tg.undirected.edges():\n",
    "    print(tg.is_ridge(e), tg.is_subduction_boundary(e))\n",
    "    e = (e[1], e[0])\n",
    "    print(tg.is_ridge(e), tg.is_subduction_boundary(e))"
   ]
  },
  {
   "cell_type": "code",
   "execution_count": 23,
   "metadata": {
    "collapsed": false,
    "deletable": true,
    "editable": true
   },
   "outputs": [
    {
     "data": {
      "text/html": [
       "<img src='data:image/png;base64,iVBORw0KGgoAAAANSUhEUgAAAZAAAADICAIAAABJdyC1AAAD8UlEQVR4nO3dQW4bVRzA4fe3ygIqDsGu7DhDb9CjcI4uepTeoGfosju4AwIWSDw2BJwooU5lMf2l36csnqOZ5+dI/skzYzuz914ABaejFwBwKcECMgQLyBAsIEOwgAzBAjIEC8gQLCBDsIAMwQIyBAvIECwgQ7CADMECMgQLyBAsIEOwgAzBAjIEC8gQLCBDsIAMwQIyBAvIECwgQ7CADMECMgQLyBAsIEOwgAzBAjIEC8gQLCDj2dELuKaZOXoJ8NnZex+9hKt5OsGamRdv3h+9Cj7dt3/++ur3d69+e/fij5+uMuGHr757+83Lt1+//OX0/CoTFn348Yejl3BNDgmBDMECMgQLyBAsIEOwgAzBAjIEC8gQLCBDsIAMwQIyBAvIECwgQ7CADMECMgQLyBAsIEOwgAzBAjIEC8gQLCBDsIAMwQIyBAvIECwgQ7CADMECMgQLyBAsIEOwgAzBAjIEC8gQLCBDsIAMwQIyBAvIECwgQ7CADMECMgQLyBAsIEOwgAzBAjIEC8gQLCBDsIAMwQIyBAvIECwgQ7CADMECMgQLyBAsIEOwgAzBAjIEC8gQLCBDsIAMwQIyBAvIECwgQ7CADMECMgQLyBAsIEOwgAzBAjIEC8gQLCBDsIAMwQIyBAvIECwgQ7CADMECMgQLyBAsIEOwgAzBAjIEC8gQLCBDsIAMwQIyBAvIECwgQ7CADMECMgQLyBAsIEOwgAzBAjIEC8gQLCBDsIAMwQIyBAvIECwgQ7CADMECMgQLyBAsIEOwgAzBAjIEC8gQLCBDsIAMwQIyBAvIECwgQ7CADMECMgQLyBAsIEOwgAzBAjIEC8gQLCBDsIAMwQIyBAvIECwgQ7CADMECMgQLyBAsIEOwgAzBAjIEC8gQLCBDsIAMwQIyZu999BquY2aOXgJ8jp7Mc3w9pWABT55DQiBDsIAMwQIyBAvIeHbIvbqiB3WHXK87Jlhrre/fvJ9ZM/u01kODWes0a2bN2ncH92y/TmvfGZztuE6zLxic3++twcxFm50eXvnMOt0arJl9weDf+/34Zh8f/L2Ae/9cp7Vm9q3Bwyu/f/ubway19j77WWvdvrn32W9uNl577TWfuOPZzZupHjXP3L/jXo94LP+xgAfnmX1732s8lkvmmbtTXb6APa9/PqQbDgmBDMECMgQLyBAsIEOwgAzBAjIEC8gQLCBDsICMY74Py0dzoO7L+miOLw6ErqNeczgkBDIEC8gQLCDDP6EAMg54hTUzrhJC2pdy0n1m9t57b82CqAOfvM5hAY9z4HkkwQIyBAvIECwg4//+aM4/p9u9nQJ4LO/DAjIcEgIZggVkCBaQIVhAxl/Xq3mdfCSgIAAAAABJRU5ErkJggg=='>"
      ],
      "text/plain": [
       "<IPython.core.display.HTML object>"
      ]
     },
     "metadata": {},
     "output_type": "display_data"
    }
   ],
   "source": [
    "#Can also specify a single plate boundary\n",
    "\n",
    "boundMaskFn2 = tg.plate_boundary_mask_fn(0.1, bound=(1,2))\n",
    "\n",
    "\n",
    "fig = glucifer.Figure(figsize=(400, 200))\n",
    "fig.append( glucifer.objects.Surface(tg.mesh, boundMaskFn2 ))\n",
    "fig.show()"
   ]
  },
  {
   "cell_type": "markdown",
   "metadata": {
    "collapsed": false,
    "deletable": true,
    "editable": true
   },
   "source": [
    "## Integration test"
   ]
  },
  {
   "cell_type": "code",
   "execution_count": 24,
   "metadata": {
    "collapsed": false,
    "deletable": true,
    "editable": true
   },
   "outputs": [],
   "source": [
    "velocityField.data[:,0] =   tg.xFn.evaluate(mesh)[:,0] - tg.minX"
   ]
  },
  {
   "cell_type": "code",
   "execution_count": 25,
   "metadata": {
    "collapsed": false,
    "deletable": true,
    "editable": true
   },
   "outputs": [
    {
     "ename": "NameError",
     "evalue": "name 'fn2' is not defined",
     "output_type": "error",
     "traceback": [
      "\u001b[1;31m\u001b[0m",
      "\u001b[1;31mNameError\u001b[0mTraceback (most recent call last)",
      "\u001b[1;32m<ipython-input-25-a3e50977df95>\u001b[0m in \u001b[0;36m<module>\u001b[1;34m()\u001b[0m\n\u001b[0;32m      1\u001b[0m \u001b[0mfig\u001b[0m \u001b[1;33m=\u001b[0m \u001b[0mglucifer\u001b[0m\u001b[1;33m.\u001b[0m\u001b[0mFigure\u001b[0m\u001b[1;33m(\u001b[0m\u001b[0mfigsize\u001b[0m\u001b[1;33m=\u001b[0m\u001b[1;33m(\u001b[0m\u001b[1;36m400\u001b[0m\u001b[1;33m,\u001b[0m \u001b[1;36m200\u001b[0m\u001b[1;33m)\u001b[0m\u001b[1;33m)\u001b[0m\u001b[1;33m\u001b[0m\u001b[0m\n\u001b[1;32m----> 2\u001b[1;33m \u001b[0mfig\u001b[0m\u001b[1;33m.\u001b[0m\u001b[0mappend\u001b[0m\u001b[1;33m(\u001b[0m \u001b[0mglucifer\u001b[0m\u001b[1;33m.\u001b[0m\u001b[0mobjects\u001b[0m\u001b[1;33m.\u001b[0m\u001b[0mSurface\u001b[0m\u001b[1;33m(\u001b[0m\u001b[0mtg\u001b[0m\u001b[1;33m.\u001b[0m\u001b[0mmesh\u001b[0m\u001b[1;33m,\u001b[0m \u001b[0mfn2\u001b[0m \u001b[1;33m)\u001b[0m\u001b[1;33m)\u001b[0m\u001b[1;33m\u001b[0m\u001b[0m\n\u001b[0m\u001b[0;32m      3\u001b[0m \u001b[0mfig\u001b[0m\u001b[1;33m.\u001b[0m\u001b[0mshow\u001b[0m\u001b[1;33m(\u001b[0m\u001b[1;33m)\u001b[0m\u001b[1;33m\u001b[0m\u001b[0m\n",
      "\u001b[1;31mNameError\u001b[0m: name 'fn2' is not defined"
     ]
    }
   ],
   "source": [
    "fig = glucifer.Figure(figsize=(400, 200))\n",
    "fig.append( glucifer.objects.Surface(tg.mesh, fn2 ))\n",
    "fig.show()"
   ]
  },
  {
   "cell_type": "code",
   "execution_count": null,
   "metadata": {
    "collapsed": false,
    "deletable": true,
    "editable": true
   },
   "outputs": [],
   "source": [
    "#_surfLength  = uw.utils.Integral( boundMaskFn2, mesh=mesh, integrationType='Surface', surfaceIndexSet=tWalls)\n",
    "#surfLength = _surfLength.evaluate()"
   ]
  },
  {
   "cell_type": "code",
   "execution_count": null,
   "metadata": {
    "collapsed": true,
    "deletable": true,
    "editable": true
   },
   "outputs": [],
   "source": [
    "#Setup some mask Fns\n",
    "\n",
    "conds1 = [ (         tg.xFn > 0.5,  1.),\n",
    "                   (                                                   True , 0.) ]\n",
    "\n",
    "\n",
    "conds2 = [ (         tg.xFn <= 0,  1.),\n",
    "                   (       True , 0.) ]\n",
    "\n",
    "fn1 = fn.branching.conditional(conds1 )\n",
    "fn2 = fn.branching.conditional(conds2)\n",
    "\n",
    "\n",
    "fnvector = [fn1, fn2]"
   ]
  },
  {
   "cell_type": "code",
   "execution_count": null,
   "metadata": {
    "collapsed": false,
    "deletable": true,
    "editable": true
   },
   "outputs": [],
   "source": [
    "tWalls=mesh.specialSets[\"MaxJ_VertexSet\"]\n",
    "_surfLength  = uw.utils.Integral( fnvector, mesh=mesh, integrationType='Surface', surfaceIndexSet=tWalls)\n",
    "surfLength = _surfLength.evaluate()"
   ]
  },
  {
   "cell_type": "code",
   "execution_count": null,
   "metadata": {
    "collapsed": false,
    "deletable": true,
    "editable": true
   },
   "outputs": [],
   "source": [
    "surfLength"
   ]
  },
  {
   "cell_type": "code",
   "execution_count": null,
   "metadata": {
    "collapsed": false,
    "deletable": true,
    "editable": true
   },
   "outputs": [],
   "source": [
    "#_mmVxSurf = fn.view.min_max(fn1, fn_auxiliary=tg.xFn )\n",
    "#dummyFn = _mmVxSurf.evaluate(tWalls)"
   ]
  },
  {
   "cell_type": "code",
   "execution_count": null,
   "metadata": {
    "collapsed": false,
    "deletable": true,
    "editable": true
   },
   "outputs": [],
   "source": [
    "#_mmVxSurf.max_global(), _mmVxSurf.max_global_auxiliary()"
   ]
  },
  {
   "cell_type": "code",
   "execution_count": null,
   "metadata": {
    "collapsed": true,
    "deletable": true,
    "editable": true
   },
   "outputs": [],
   "source": [
    "testFn = tg.xFn <= 0"
   ]
  },
  {
   "cell_type": "code",
   "execution_count": null,
   "metadata": {
    "collapsed": false,
    "deletable": true,
    "editable": true
   },
   "outputs": [],
   "source": [
    "test2 = operator.and_(testFn, testFn )"
   ]
  },
  {
   "cell_type": "code",
   "execution_count": null,
   "metadata": {
    "collapsed": true,
    "deletable": true,
    "editable": true
   },
   "outputs": [],
   "source": [
    "operator."
   ]
  },
  {
   "cell_type": "markdown",
   "metadata": {},
   "source": [
    "## Scratch"
   ]
  },
  {
   "cell_type": "code",
   "execution_count": 17,
   "metadata": {
    "collapsed": false
   },
   "outputs": [
    {
     "data": {
      "text/plain": [
       "(-1.0, True)"
      ]
     },
     "execution_count": 17,
     "metadata": {},
     "output_type": "execute_result"
    }
   ],
   "source": [
    "tg.get_bound_loc((1,1)), tg.is_ridge((1,\n",
    "                                      1))"
   ]
  },
  {
   "cell_type": "code",
   "execution_count": 18,
   "metadata": {
    "collapsed": false
   },
   "outputs": [
    {
     "data": {
      "text/plain": [
       "array([ 0,  1,  2,  3,  4,  5,  6,  7,  8,  9, 10, 11, 12, 13, 14, 15, 16,\n",
       "       17, 18, 19, 20, 21, 22, 23, 24, 25, 26, 27, 28, 29, 30, 31, 32, 33,\n",
       "       34, 35, 36, 37, 38, 39, 40, 41, 42, 43, 44, 45, 46, 47, 48, 49], dtype=int32)"
      ]
     },
     "execution_count": 18,
     "metadata": {},
     "output_type": "execute_result"
    }
   ],
   "source": [
    "# initialise a swarm\n",
    "swarmCustom = uw.swarm.Swarm( mesh=mesh )\n",
    "\n",
    "swarmYs = np.linspace(0, 1, 50) \n",
    "swarmXs = np.ones(50)*0.25\n",
    "swarmCoords = np.column_stack((swarmXs, swarmYs))\n",
    "swarmCustom.add_particles_with_coordinates(swarmCoords)"
   ]
  },
  {
   "cell_type": "code",
   "execution_count": 19,
   "metadata": {
    "collapsed": false
   },
   "outputs": [
    {
     "data": {
      "text/plain": [
       "[0.25, 0.5]"
      ]
     },
     "execution_count": 19,
     "metadata": {},
     "output_type": "execute_result"
    }
   ],
   "source": [
    "tg.get_boundaries(2)"
   ]
  },
  {
   "cell_type": "code",
   "execution_count": 22,
   "metadata": {
    "collapsed": false
   },
   "outputs": [
    {
     "name": "stdout",
     "output_type": "stream",
     "text": [
      "(0.125, 0.125)\n",
      "(0.05, 0.05)\n",
      "(0.05, 0.05)\n"
     ]
    }
   ],
   "source": [
    "testFn = tg.variable_boundary_mask_fn(distMax=0.3, distMin=0.05, boundaryFactor = 0.1, \n",
    "                                  minPlateLength = 0.2,  out = 'bool', boundtypes='ridge')"
   ]
  },
  {
   "cell_type": "code",
   "execution_count": 23,
   "metadata": {
    "collapsed": false
   },
   "outputs": [
    {
     "data": {
      "text/html": [
       "<img src='data:image/png;base64,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'>"
      ],
      "text/plain": [
       "<IPython.core.display.HTML object>"
      ]
     },
     "metadata": {},
     "output_type": "display_data"
    }
   ],
   "source": [
    "fig = glucifer.Figure(figsize=(400, 200))\n",
    "fig.append( glucifer.objects.Surface(tg.mesh, testFn ))\n",
    "fig.append( glucifer.objects.Points(swarmCustom, pointSize = 3 ))\n",
    "\n",
    "fig.show()"
   ]
  },
  {
   "cell_type": "code",
   "execution_count": 24,
   "metadata": {
    "collapsed": true
   },
   "outputs": [],
   "source": [
    "testFn2 = tg.plate_interior_mask_fn(boundaryFactor=0.8, minPlateLength=0.01)"
   ]
  },
  {
   "cell_type": "code",
   "execution_count": 25,
   "metadata": {
    "collapsed": false
   },
   "outputs": [
    {
     "data": {
      "text/html": [
       "<img src='data:image/png;base64,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'>"
      ],
      "text/plain": [
       "<IPython.core.display.HTML object>"
      ]
     },
     "metadata": {},
     "output_type": "display_data"
    }
   ],
   "source": [
    "fig = glucifer.Figure(figsize=(400, 200))\n",
    "fig.append( glucifer.objects.Surface(tg.mesh, testFn2 ))\n",
    "fig.append( glucifer.objects.Points(swarmCustom, pointSize = 3 ))\n",
    "\n",
    "fig.show()"
   ]
  },
  {
   "cell_type": "code",
   "execution_count": null,
   "metadata": {
    "collapsed": true
   },
   "outputs": [],
   "source": []
  }
 ],
 "metadata": {
  "kernelspec": {
   "display_name": "Python 2",
   "language": "python",
   "name": "python2"
  },
  "language_info": {
   "codemirror_mode": {
    "name": "ipython",
    "version": 2
   },
   "file_extension": ".py",
   "mimetype": "text/x-python",
   "name": "python",
   "nbconvert_exporter": "python",
   "pygments_lexer": "ipython2",
   "version": "2.7.9"
  }
 },
 "nbformat": 4,
 "nbformat_minor": 2
}
