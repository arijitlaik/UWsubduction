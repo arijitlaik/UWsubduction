{
 "cells": [
  {
   "cell_type": "code",
   "execution_count": 27,
   "metadata": {
    "collapsed": false,
    "deletable": true,
    "editable": true
   },
   "outputs": [],
   "source": [
    "#load in parent stuff\n",
    "\n",
    "import nb_load_stuff\n",
    "from tectModelClass import *"
   ]
  },
  {
   "cell_type": "code",
   "execution_count": 28,
   "metadata": {
    "collapsed": true,
    "deletable": true,
    "editable": true
   },
   "outputs": [],
   "source": [
    "#If run through Docker we'll point at the local 'unsupported dir.'\n",
    "#On hpc, the path should also include a directory holding the unsupported_dan.\n",
    "import os\n",
    "import sys\n",
    "\n",
    "if os.getcwd() == '/workspace/newSlab':\n",
    "    sys.path.append('../unsupported')\n",
    "\n",
    "#this does't actually need to be protected. More a reminder it's an interim measure\n",
    "try:\n",
    "    sys.path.append('../unsupported')\n",
    "except:\n",
    "    pass"
   ]
  },
  {
   "cell_type": "code",
   "execution_count": 29,
   "metadata": {
    "collapsed": false,
    "deletable": true,
    "editable": true
   },
   "outputs": [],
   "source": [
    "from unsupported_dan.UWsubduction.base_params import *\n",
    "from unsupported_dan.UWsubduction.subduction_utils import *\n",
    "from unsupported_dan.interfaces.marker2D import markerLine2D, line_collection\n",
    "from unsupported_dan.interfaces.smoothing2D import *"
   ]
  },
  {
   "cell_type": "code",
   "execution_count": 30,
   "metadata": {
    "collapsed": true,
    "deletable": true,
    "editable": true
   },
   "outputs": [],
   "source": [
    "import numpy as np\n",
    "import underworld as uw\n",
    "from underworld import function as fn\n",
    "import glucifer\n",
    "from easydict import EasyDict as edict\n",
    "import networkx as nx\n",
    "import operator\n",
    "\n",
    "\n"
   ]
  },
  {
   "cell_type": "markdown",
   "metadata": {},
   "source": [
    "## Changes to base params"
   ]
  },
  {
   "cell_type": "code",
   "execution_count": 31,
   "metadata": {
    "collapsed": false
   },
   "outputs": [],
   "source": [
    "ndp.depth *= 0.8 #800 km\n",
    "ndp.faultThickness *= 1.5 #15 km\n",
    "ndp.interfaceViscCutoffDepth *= 1.5 #150 km\n"
   ]
  },
  {
   "cell_type": "markdown",
   "metadata": {
    "collapsed": true,
    "deletable": true,
    "editable": true
   },
   "source": [
    "## Build mesh, Stokes Variables"
   ]
  },
  {
   "cell_type": "code",
   "execution_count": 32,
   "metadata": {
    "collapsed": false,
    "deletable": true,
    "editable": true
   },
   "outputs": [],
   "source": [
    "#(ndp.rightLim - ndp.leftLim)/ndp.depth\n",
    "#md.res = 64"
   ]
  },
  {
   "cell_type": "code",
   "execution_count": 33,
   "metadata": {
    "collapsed": false,
    "deletable": true,
    "editable": true
   },
   "outputs": [],
   "source": [
    "yres = int(md.res)\n",
    "xres = int(md.res*12) \n",
    "\n",
    "mesh = uw.mesh.FeMesh_Cartesian( elementType = (md.elementType),\n",
    "                                 elementRes  = (xres, yres), \n",
    "                                 minCoord    = (ndp.leftLim, 1. - ndp.depth), \n",
    "                                 maxCoord    = (ndp.rightLim, 1.)) \n",
    "\n",
    "velocityField = uw.mesh.MeshVariable( mesh=mesh,         nodeDofCount=2)\n",
    "pressureField   = uw.mesh.MeshVariable( mesh=mesh.subMesh, nodeDofCount=1 )\n",
    "\n",
    "\n",
    "velocityField.data[:] = 0.\n",
    "pressureField.data[:] = 0."
   ]
  },
  {
   "cell_type": "markdown",
   "metadata": {
    "deletable": true,
    "editable": true
   },
   "source": [
    "## Build plate model"
   ]
  },
  {
   "cell_type": "code",
   "execution_count": 34,
   "metadata": {
    "collapsed": false,
    "deletable": true,
    "editable": true
   },
   "outputs": [],
   "source": [
    "#Set up some velocityies\n",
    "cm2ms = (1/100.)*(1./(3600*24*365)) \n",
    "\n",
    "v1= 2.*cm2ms #m/s\n",
    "v1 /= sf.velocity\n",
    "\n",
    "v2= -2.*cm2ms #\n",
    "v2 /= sf.velocity\n",
    "\n",
    "\n",
    "\n",
    "ma2s = 1e6*(3600*24*365)\n",
    "endTime = 20*ma2s/sf.time\n",
    "dt = 0.1*ma2s/sf.time\n",
    "testTime = 5*ma2s/sf.time\n"
   ]
  },
  {
   "cell_type": "code",
   "execution_count": 35,
   "metadata": {
    "collapsed": false,
    "deletable": true,
    "editable": true
   },
   "outputs": [],
   "source": [
    "#20 Ma moddel, timestep of 200 Ka \n",
    "tg = TectModel(mesh, 0, endTime, dt)\n",
    "\n",
    "tg.add_plate(1)\n",
    "tg.add_plate(2)\n",
    "tg.add_plate(3)"
   ]
  },
  {
   "cell_type": "code",
   "execution_count": 36,
   "metadata": {
    "collapsed": false,
    "deletable": true,
    "editable": true
   },
   "outputs": [],
   "source": [
    "tg.add_left_boundary(1)\n",
    "tg.add_subzone(1, 2, ndp.subZoneLoc, subInitAge=ndp.slabMaxAge, upperInitAge=ndp.opMaxAge)\n",
    "tg.add_subzone(3, 2., 0.4, subInitAge=ndp.slabMaxAge, upperInitAge=ndp.opMaxAge)\n",
    "\n",
    "tg.add_right_boundary(3, 0.)"
   ]
  },
  {
   "cell_type": "markdown",
   "metadata": {
    "deletable": true,
    "editable": true
   },
   "source": [
    "## Build plate age"
   ]
  },
  {
   "cell_type": "code",
   "execution_count": 37,
   "metadata": {
    "collapsed": false,
    "deletable": true,
    "editable": true
   },
   "outputs": [],
   "source": [
    "pIdFn = tg.plate_id_fn()\n",
    "pAgeDict = tg.plate_age_fn() \n",
    "\n",
    "fnAge_map = fn.branching.map(fn_key = pIdFn , \n",
    "                          mapping = pAgeDict )\n",
    "\n",
    "#fig = glucifer.Figure(figsize=(600, 300))\n",
    "#fig.append( glucifer.objects.Surface(tg.mesh, fnAge_map ))\n",
    "#fig.show()"
   ]
  },
  {
   "cell_type": "code",
   "execution_count": 38,
   "metadata": {
    "collapsed": true,
    "deletable": true,
    "editable": true
   },
   "outputs": [],
   "source": [
    "coordinate = fn.input()\n",
    "depthFn = mesh.maxCoord[1] - coordinate[1]\n",
    "plateTempProxFn = ndp.potentialTemp*fn.math.erf((depthFn)/(2.*fn.math.sqrt(1.*fnAge_map)))"
   ]
  },
  {
   "cell_type": "code",
   "execution_count": 39,
   "metadata": {
    "collapsed": false,
    "deletable": true,
    "editable": true
   },
   "outputs": [],
   "source": [
    "#fig = glucifer.Figure(figsize=(600, 300))\n",
    "#fig.append( glucifer.objects.Surface(tg.mesh, plateTempProxFn))\n",
    "#fig.show()"
   ]
  },
  {
   "cell_type": "markdown",
   "metadata": {
    "deletable": true,
    "editable": true
   },
   "source": [
    "## Make swarm and Slabs"
   ]
  },
  {
   "cell_type": "code",
   "execution_count": 40,
   "metadata": {
    "collapsed": true
   },
   "outputs": [],
   "source": [
    "def circGradientFn(S):\n",
    "    if S == 0.:\n",
    "        return 0.\n",
    "    elif S < ndp.radiusOfCurv:\n",
    "        return max(-S/np.sqrt((ndp.radiusOfCurv**2 - S**2)), -1e3)\n",
    "    else:\n",
    "        return -1e5"
   ]
  },
  {
   "cell_type": "code",
   "execution_count": 41,
   "metadata": {
    "collapsed": false,
    "deletable": true,
    "editable": true
   },
   "outputs": [],
   "source": [
    "swarm = uw.swarm.Swarm(mesh=mesh, particleEscape=True)\n",
    "layout = uw.swarm.layouts.PerCellRandomLayout(swarm=swarm, particlesPerCell=int(20))\n",
    "swarm.populate_using_layout( layout=layout ) # Now use it to populate.\n",
    "proxyTempVariable = swarm.add_variable( dataType=\"double\", count=1 )\n",
    "proximityVariable      = swarm.add_variable( dataType=\"int\", count=1 )\n",
    "signedDistanceVariable = swarm.add_variable( dataType=\"double\", count=1 )\n",
    "\n",
    "#\n",
    "proxyTempVariable.data[:] = 1.0\n",
    "proximityVariable.data[:] = 0.0\n",
    "signedDistanceVariable.data[:] = 0.0\n"
   ]
  },
  {
   "cell_type": "code",
   "execution_count": 42,
   "metadata": {
    "collapsed": false,
    "deletable": true,
    "editable": true
   },
   "outputs": [],
   "source": [
    "#All of these wil be needed by the slab / fault setup functions\n",
    "#We have two main options, bind them to the TectModel class. \n",
    "#or provide them to the functions\n",
    "#collection them in a dictionary may be a useful way too proviede them to the fucntiosn \n",
    "#wthout blowing out the function arguments\n",
    "\n",
    "tmUwMap = tm_uw_map([], velocityField, swarm, \n",
    "                    signedDistanceVariable, proxyTempVariable, proximityVariable)\n",
    "\n",
    "\n"
   ]
  },
  {
   "cell_type": "code",
   "execution_count": 43,
   "metadata": {
    "collapsed": false,
    "deletable": true,
    "editable": true
   },
   "outputs": [],
   "source": [
    "#define fault particle spacing, here ~2 particles per element\n",
    "ds = (tg.maxX - tg.minX)/(2.*tg.mesh.elementRes[0])\n",
    "\n",
    "fCollection = line_collection([])\n",
    "\n",
    "\n",
    "\n",
    "\n",
    "for e in tg.undirected.edges():\n",
    "    if tg.is_subduction_boundary(e):\n",
    "        build_slab_distance(tg, e, circGradientFn, ndp.maxDepth, tmUwMap)        \n",
    "        fb = build_fault(tg, e, circGradientFn,ndp.faultThickness , ndp.maxDepth, ds, ndp.faultThickness, tmUwMap)\n",
    "        fCollection.append(fb)\n",
    "\n",
    "#\n",
    "build_slab_temp(tmUwMap, ndp.potentialTemp, ndp.slabMaxAge)\n",
    "fnJointTemp = fn.misc.min(proxyTempVariable,plateTempProxFn)\n",
    "\n",
    "#And now reevaluate this guy on the swarm\n",
    "proxyTempVariable.data[:] = fnJointTemp.evaluate(swarm)"
   ]
  },
  {
   "cell_type": "code",
   "execution_count": 46,
   "metadata": {
    "collapsed": false,
    "deletable": true,
    "editable": true
   },
   "outputs": [
    {
     "data": {
      "text/html": [
       "<img src='data:image/png;base64,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'>"
      ],
      "text/plain": [
       "<IPython.core.display.HTML object>"
      ]
     },
     "metadata": {},
     "output_type": "display_data"
    }
   ],
   "source": [
    "#fig = glucifer.Figure(figsize=(600, 300))\n",
    "#fig.append( glucifer.objects.Points(swarm, proxyTempVariable))\n",
    "    \n",
    "\n",
    "#fig.show()\n",
    "#fig.save_database('test.gldb')"
   ]
  },
  {
   "cell_type": "markdown",
   "metadata": {
    "deletable": true,
    "editable": true
   },
   "source": [
    "##  Fault rebuild"
   ]
  },
  {
   "cell_type": "code",
   "execution_count": 47,
   "metadata": {
    "collapsed": true,
    "deletable": true,
    "editable": true
   },
   "outputs": [],
   "source": [
    "# Setup a swarm to define the replacment positions\n",
    "\n",
    "fThick= fCollection[0].thickness\n",
    "\n",
    "faultloc = 1. - ndp.faultThickness*md.faultLocFac\n",
    "\n",
    "allxs = np.arange(mesh.minCoord[0], mesh.maxCoord[0], ds )[:-1]\n",
    "allys = (mesh.maxCoord[1] - fThick)*np.ones(allxs.shape)\n",
    "\n",
    "faultMasterSwarm = uw.swarm.Swarm( mesh=mesh )\n",
    "dummy =  faultMasterSwarm.add_particles_with_coordinates(np.column_stack((allxs, allys)))\n",
    "del allxs\n",
    "del allys"
   ]
  },
  {
   "cell_type": "code",
   "execution_count": 48,
   "metadata": {
    "collapsed": true,
    "deletable": true,
    "editable": true
   },
   "outputs": [],
   "source": [
    "ridgedist = 400e3/sf.lengthScale\n",
    "subdist = 150e3/sf.lengthScale\n",
    "\n",
    "\n",
    "ridgeMaskFn = tg.ridge_mask_fn(ridgedist)\n",
    "subMaskFn = tg.subduction_mask_fn(subdist)\n",
    "boundMaskFn = tg.combine_mask_fn(ridgeMaskFn , subMaskFn )\n"
   ]
  },
  {
   "cell_type": "code",
   "execution_count": 49,
   "metadata": {
    "collapsed": false,
    "deletable": true,
    "editable": true
   },
   "outputs": [],
   "source": [
    "dummy = remove_faults_from_boundaries(fCollection, ridgeMaskFn)\n",
    "dummy = remove_fault_drift(fCollection, faultloc)\n",
    "dummy = pop_or_perish(tg, fCollection, faultMasterSwarm, boundMaskFn, ds)"
   ]
  },
  {
   "cell_type": "code",
   "execution_count": 50,
   "metadata": {
    "collapsed": false
   },
   "outputs": [],
   "source": [
    "#A = fCollection[0].neighbourMatrix(k =4, jitter=1e-8)\n",
    "#out = shadowMask(fCollection[0])\n",
    "#out"
   ]
  },
  {
   "cell_type": "code",
   "execution_count": 51,
   "metadata": {
    "collapsed": false
   },
   "outputs": [],
   "source": [
    "#test = fCollection[1]\n",
    "#np.unique(test.swarm.particleCoordinates.data[:,0]).shape, (test.swarm.particleCoordinates.data[:,0]).shape"
   ]
  },
  {
   "cell_type": "markdown",
   "metadata": {
    "collapsed": false,
    "deletable": true,
    "editable": true
   },
   "source": [
    "## Proximity\n",
    "\n"
   ]
  },
  {
   "cell_type": "code",
   "execution_count": 52,
   "metadata": {
    "collapsed": false,
    "deletable": true,
    "editable": true
   },
   "outputs": [],
   "source": [
    "proximityVariable.data[:] = 0"
   ]
  },
  {
   "cell_type": "code",
   "execution_count": 53,
   "metadata": {
    "collapsed": false,
    "deletable": true,
    "editable": true
   },
   "outputs": [],
   "source": [
    "for f in fCollection:\n",
    "    f.rebuild()\n",
    "    f.set_proximity_director(swarm, proximityVariable, searchFac = 2., locFac=1.0)"
   ]
  },
  {
   "cell_type": "markdown",
   "metadata": {
    "collapsed": true,
    "deletable": true,
    "editable": true
   },
   "source": [
    "## Boundary conditions"
   ]
  },
  {
   "cell_type": "code",
   "execution_count": 54,
   "metadata": {
    "collapsed": false,
    "deletable": true,
    "editable": true
   },
   "outputs": [],
   "source": [
    "iWalls = mesh.specialSets[\"MinI_VertexSet\"] + mesh.specialSets[\"MaxI_VertexSet\"]\n",
    "jWalls = mesh.specialSets[\"MinJ_VertexSet\"] + mesh.specialSets[\"MaxJ_VertexSet\"]\n",
    "\n",
    "tWalls = mesh.specialSets[\"MaxJ_VertexSet\"]\n",
    "bWalls = mesh.specialSets[\"MinJ_VertexSet\"]\n",
    "\n",
    "\n",
    "velBC  = uw.conditions.DirichletCondition( variable        = velocityField, \n",
    "                                           indexSetsPerDof = (iWalls, jWalls) )\n"
   ]
  },
  {
   "cell_type": "markdown",
   "metadata": {
    "deletable": true,
    "editable": true
   },
   "source": [
    "## Bouyancy"
   ]
  },
  {
   "cell_type": "code",
   "execution_count": 55,
   "metadata": {
    "collapsed": true,
    "deletable": true,
    "editable": true
   },
   "outputs": [],
   "source": [
    "# Now create a buoyancy force vector using the density and the vertical unit vector. \n",
    "thermalDensityFn = ndp.rayleigh*(1. - proxyTempVariable)\n",
    "\n",
    "gravity = ( 0.0, -1.0 )\n",
    "\n",
    "buoyancyMapFn = thermalDensityFn*gravity"
   ]
  },
  {
   "cell_type": "markdown",
   "metadata": {
    "deletable": true,
    "editable": true
   },
   "source": [
    "## Rheology"
   ]
  },
  {
   "cell_type": "code",
   "execution_count": 25,
   "metadata": {
    "collapsed": true,
    "deletable": true,
    "editable": true
   },
   "outputs": [],
   "source": [
    "symStrainrate = fn.tensor.symmetric( \n",
    "                            velocityField.fn_gradient )\n",
    "\n",
    "#Set up any functions required by the rheology\n",
    "strainRate_2ndInvariant = fn.tensor.second_invariant( \n",
    "                            fn.tensor.symmetric( \n",
    "                            velocityField.fn_gradient ))\n",
    "\n",
    "\n",
    "\n",
    "def safe_visc(func, viscmin=ndp.viscosityMin, viscmax=ndp.viscosityMax):\n",
    "    return fn.misc.max(viscmin, fn.misc.min(viscmax, func))"
   ]
  },
  {
   "cell_type": "code",
   "execution_count": 26,
   "metadata": {
    "collapsed": false,
    "deletable": true,
    "editable": true
   },
   "outputs": [],
   "source": [
    "temperatureFn = proxyTempVariable\n",
    "adiabaticCorrectFn = depthFn*ndp.tempGradMantle\n",
    "dynamicPressureProxyDepthFn = pressureField/sf.pressureDepthGrad\n",
    "druckerDepthFn = fn.misc.max(0.0, depthFn + md.druckerAlpha*(dynamicPressureProxyDepthFn))\n",
    "\n",
    "#Diffusion Creep\n",
    "diffusionUM = (1./ndp.diffusionPreExp)*\\\n",
    "            fn.math.exp( ((ndp.diffusionEnergy + (depthFn*ndp.diffusionVolume))/((temperatureFn+ adiabaticCorrectFn + ndp.surfaceTemp))))\n",
    "\n",
    "diffusionUM =     safe_visc(diffusionUM)\n",
    "    \n",
    "diffusionLM = ndp.lowerMantleViscFac*(1./ndp.lowerMantlePreExp)*\\\n",
    "            fn.math.exp( ((ndp.lowerMantleEnergy + (depthFn*ndp.lowerMantleVolume))/((temperatureFn+ adiabaticCorrectFn + ndp.surfaceTemp))))\n",
    "\n",
    "diffusionLM =     safe_visc(diffusionLM)\n",
    "\n",
    "    \n",
    "#combine upper and lower mantle   \n",
    "mantleCreep = fn.branching.conditional( ((depthFn < ndp.lowerMantleDepth, diffusionUM ), \n",
    "                                           (True,                      diffusionLM )  ))\n",
    "\n",
    "#Define the mantle Plasticity\n",
    "ys =  ndp.cohesionMantle + (druckerDepthFn*ndp.frictionMantle)\n",
    "ysf = fn.misc.min(ys, ndp.yieldStressMax)\n",
    "yielding = ysf/(2.*(strainRate_2ndInvariant) + 1e-15) \n",
    "\n",
    "\n",
    "mantleRheologyFn = safe_visc(fn.misc.min(mantleCreep, yielding), viscmin=ndp.viscosityMin, viscmax=ndp.viscosityMax)\n",
    "\n",
    "#Subduction interface viscosity\n",
    "interfaceViscosityFn = fn.misc.constant(0.5)"
   ]
  },
  {
   "cell_type": "code",
   "execution_count": 28,
   "metadata": {
    "collapsed": false,
    "deletable": true,
    "editable": true
   },
   "outputs": [],
   "source": [
    "#viscconds = ((proximityVariable == 0, mantleRheologyFn),\n",
    "#             (True, interfaceViscosityFn ))\n",
    "\n",
    "#viscosityMapFn = fn.branching.conditional(viscconds)\n",
    "#viscosityMapFn = mantleRheologyFn\n",
    "\n",
    "\n",
    "viscosityMapFn = fn.branching.map( fn_key = proximityVariable,\n",
    "                             mapping = {0:mantleRheologyFn,\n",
    "                                        1:interfaceViscosityFn,\n",
    "                                       3:interfaceViscosityFn} )"
   ]
  },
  {
   "cell_type": "markdown",
   "metadata": {
    "deletable": true,
    "editable": true
   },
   "source": [
    "## Stokes"
   ]
  },
  {
   "cell_type": "code",
   "execution_count": 29,
   "metadata": {
    "collapsed": false,
    "deletable": true,
    "editable": true
   },
   "outputs": [],
   "source": [
    "surfaceArea = uw.utils.Integral(fn=1.0,mesh=mesh, integrationType='surface', surfaceIndexSet=tWalls)\n",
    "surfacePressureIntegral = uw.utils.Integral(fn=pressureField, mesh=mesh, integrationType='surface', surfaceIndexSet=tWalls)\n",
    "\n",
    "NodePressure = uw.mesh.MeshVariable(mesh, nodeDofCount=1)\n",
    "Cell2Nodes = uw.utils.MeshVariable_Projection(NodePressure, pressureField, type=0)\n",
    "Nodes2Cell = uw.utils.MeshVariable_Projection(pressureField, NodePressure, type=0)\n",
    "\n",
    "def smooth_pressure(mesh):\n",
    "    # Smooths the pressure field.\n",
    "    # Assuming that pressure lies on the submesh, do a cell -> nodes -> cell\n",
    "    # projection.\n",
    "\n",
    "    Cell2Nodes.solve()\n",
    "    Nodes2Cell.solve()\n",
    "\n",
    "# a callback function to calibrate the pressure - will pass to solver later\n",
    "def pressure_calibrate():\n",
    "    (area,) = surfaceArea.evaluate()\n",
    "    (p0,) = surfacePressureIntegral.evaluate()\n",
    "    offset = p0/area\n",
    "    pressureField.data[:] -= offset\n",
    "    smooth_pressure(mesh)"
   ]
  },
  {
   "cell_type": "code",
   "execution_count": 30,
   "metadata": {
    "collapsed": false,
    "deletable": true,
    "editable": true
   },
   "outputs": [],
   "source": [
    "stokes = uw.systems.Stokes( velocityField  = velocityField, \n",
    "                                   pressureField  = pressureField,\n",
    "                                   conditions     = [velBC,],\n",
    "                                   fn_viscosity   = viscosityMapFn, \n",
    "                                   fn_bodyforce   = buoyancyMapFn )\n"
   ]
  },
  {
   "cell_type": "code",
   "execution_count": 31,
   "metadata": {
    "collapsed": true,
    "deletable": true,
    "editable": true
   },
   "outputs": [],
   "source": [
    "solver = uw.systems.Solver(stokes)\n",
    "\n",
    "solver.set_inner_method(\"mumps\")\n",
    "solver.options.scr.ksp_type=\"cg\"\n",
    "solver.set_penalty(1.0e7)\n",
    "solver.options.scr.ksp_rtol = 1.0e-4"
   ]
  },
  {
   "cell_type": "code",
   "execution_count": 32,
   "metadata": {
    "collapsed": false,
    "deletable": true,
    "editable": true
   },
   "outputs": [
    {
     "name": "stdout",
     "output_type": "stream",
     "text": [
      "\u001b[1;35m\n",
      " \n",
      "Pressure iterations:   3\n",
      "Velocity iterations:   1 (presolve)      \n",
      "Velocity iterations:  -1 (pressure solve)\n",
      "Velocity iterations:   1 (backsolve)     \n",
      "Velocity iterations:   1 (total solve)   \n",
      " \n",
      "SCR RHS  solve time: 5.5847e-01\n",
      "Pressure solve time: 5.4921e-02\n",
      "Velocity solve time: 5.7282e-01 (backsolve)\n",
      "Total solve time   : 1.2944e+00\n",
      " \n",
      "Velocity solution min/max: 0.0000e+00/0.0000e+00\n",
      "Pressure solution min/max: 0.0000e+00/0.0000e+00\n",
      " \n",
      "\u001b[00m\n"
     ]
    }
   ],
   "source": [
    "solver.solve(nonLinearIterate=True, nonLinearTolerance=md.nltol, callback_post_solve = pressure_calibrate)\n",
    "solver.print_stats()"
   ]
  },
  {
   "cell_type": "markdown",
   "metadata": {
    "deletable": true,
    "editable": true
   },
   "source": [
    "## Swarm Advector"
   ]
  },
  {
   "cell_type": "code",
   "execution_count": 33,
   "metadata": {
    "collapsed": true,
    "deletable": true,
    "editable": true
   },
   "outputs": [],
   "source": [
    "advector = uw.systems.SwarmAdvector( swarm=swarm, velocityField=velocityField, order=2 )\n"
   ]
  },
  {
   "cell_type": "markdown",
   "metadata": {
    "deletable": true,
    "editable": true
   },
   "source": [
    "## Update functions"
   ]
  },
  {
   "cell_type": "code",
   "execution_count": 34,
   "metadata": {
    "collapsed": true,
    "deletable": true,
    "editable": true
   },
   "outputs": [],
   "source": [
    "# Here we'll handle everything that should be advected - i.e. every timestep\n",
    "def advect_update():\n",
    "    # Retrieve the maximum possible timestep for the advection system.\n",
    "    dt = advector.get_max_dt()\n",
    "    # Advect swarm\n",
    "    advector.integrate(dt)\n",
    "    \n",
    "    #Advect faults\n",
    "    for f in fCollection:\n",
    "        f.advection(dt)\n",
    "    \n",
    "    \n",
    "    return time+dt, step+1"
   ]
  },
  {
   "cell_type": "code",
   "execution_count": 45,
   "metadata": {
    "collapsed": true,
    "deletable": true,
    "editable": true
   },
   "outputs": [],
   "source": []
  },
  {
   "cell_type": "code",
   "execution_count": null,
   "metadata": {
    "collapsed": true,
    "deletable": true,
    "editable": true
   },
   "outputs": [],
   "source": []
  },
  {
   "cell_type": "code",
   "execution_count": 46,
   "metadata": {
    "collapsed": true,
    "deletable": true,
    "editable": true
   },
   "outputs": [],
   "source": [
    "def update_faults():\n",
    "    \n",
    "    ##the mask fns are static at this stage\n",
    "    #ridgeMaskFn = tg.ridge_mask_fn(ridgedist)\n",
    "    #subMaskFn = tg.subduction_mask_fn(subdist)\n",
    "    #boundMaskFn = tg.combine_mask_fn(ridgeMaskFn , subMaskFn )\n",
    "    \n",
    "    dummy = remove_faults_from_boundaries(fCollection, ridgeMaskFn)\n",
    "    dummy = remove_fault_drift(fCollection, faultloc, tolFac =ds*2)\n",
    "    dummy = pop_or_perish(tg, fCollection, faultMasterSwarm, boundMaskFn, ds*3)\n",
    "    \n",
    "    for f in fCollection:\n",
    "        \n",
    "        #Here we're grabbing a 'black box' routine , \n",
    "        #which is supposed to maintain particle density and smooth\n",
    "        #quite experimental!!!\n",
    "        repair_markerLines(f, ds)\n",
    "    "
   ]
  },
  {
   "cell_type": "code",
   "execution_count": 47,
   "metadata": {
    "collapsed": false,
    "deletable": true,
    "editable": true
   },
   "outputs": [],
   "source": [
    "def update_swarm():\n",
    "    \n",
    "    for f in fCollection:\n",
    "        f.rebuild()\n",
    "        f.set_proximity_director(swarm, proximityVariable, searchFac = 2., locFac=1.0)\n",
    "        \n",
    "    #A simple depth cutoff for proximity\n",
    "    depthMask = swarm.particleCoordinates.data[:,1] < (1. - ndp.interfaceViscCutoffDepth)\n",
    "    proximityVariable.data[depthMask] = 0\n",
    "    "
   ]
  },
  {
   "cell_type": "code",
   "execution_count": 48,
   "metadata": {
    "collapsed": false,
    "deletable": true,
    "editable": true
   },
   "outputs": [],
   "source": [
    "#update_faults()\n",
    "#update_swarm()"
   ]
  },
  {
   "cell_type": "markdown",
   "metadata": {
    "deletable": true,
    "editable": true
   },
   "source": [
    "## Viz"
   ]
  },
  {
   "cell_type": "code",
   "execution_count": 49,
   "metadata": {
    "collapsed": true,
    "deletable": true,
    "editable": true
   },
   "outputs": [],
   "source": [
    "outputPath = os.path.join(os.path.abspath(\".\"),\"output/\")\n",
    "\n",
    "if uw.rank()==0:\n",
    "    if not os.path.exists(outputPath):\n",
    "        os.makedirs(outputPath)\n",
    "uw.barrier()"
   ]
  },
  {
   "cell_type": "code",
   "execution_count": 50,
   "metadata": {
    "collapsed": false,
    "deletable": true,
    "editable": true
   },
   "outputs": [],
   "source": [
    "store1 = glucifer.Store('output/subduction1')\n",
    "store2 = glucifer.Store('output/subduction2')\n",
    "\n",
    "figProx = glucifer.Figure(store1, figsize=(960,300) )\n",
    "figProx.append( glucifer.objects.Points(swarm , proximityVariable))\n",
    "for f in fCollection:\n",
    "    figProx.append( glucifer.objects.Points(f.swarm, pointSize=5))\n",
    "#figProx.show()\n",
    "\n",
    "#Plot of particles stress invariant\n",
    "figVisc = glucifer.Figure( store2, figsize=(960,300) )\n",
    "figVisc.append( glucifer.objects.Points(swarm, viscosityMapFn, pointSize=2, logScale=True) )"
   ]
  },
  {
   "cell_type": "code",
   "execution_count": 51,
   "metadata": {
    "collapsed": false,
    "deletable": true,
    "editable": true
   },
   "outputs": [],
   "source": [
    "#figProx.show()"
   ]
  },
  {
   "cell_type": "code",
   "execution_count": 52,
   "metadata": {
    "collapsed": false,
    "deletable": true,
    "editable": true
   },
   "outputs": [],
   "source": [
    "#1e-2*2900."
   ]
  },
  {
   "cell_type": "markdown",
   "metadata": {
    "deletable": true,
    "editable": true
   },
   "source": [
    "## Main Loop"
   ]
  },
  {
   "cell_type": "code",
   "execution_count": null,
   "metadata": {
    "collapsed": false,
    "deletable": true,
    "editable": true
   },
   "outputs": [],
   "source": [
    "time = 0.  # Initial time\n",
    "step = 0 \n",
    "maxSteps = 20      # Maximum timesteps (201 is recommended)\n",
    "steps_output = 5   # output every 10 timesteps\n",
    "faults_update = 2"
   ]
  },
  {
   "cell_type": "code",
   "execution_count": null,
   "metadata": {
    "collapsed": true,
    "deletable": true,
    "editable": true
   },
   "outputs": [],
   "source": []
  },
  {
   "cell_type": "code",
   "execution_count": null,
   "metadata": {
    "collapsed": false,
    "deletable": true,
    "editable": true
   },
   "outputs": [
    {
     "name": "stdout",
     "output_type": "stream",
     "text": [
      "step =      1; time = 5.084e-06\n",
      "step =      2; time = 9.962e-06\n",
      "step =      3; time = 1.468e-05\n",
      "step =      4; time = 1.920e-05\n"
     ]
    }
   ],
   "source": [
    "#while time < tg.times[-1]:\n",
    "while step < maxSteps:\n",
    "    # Solve non linear Stokes system\n",
    "    solver.solve(nonLinearIterate=True)\n",
    "    \n",
    "    #advect swarm and faults\n",
    "    time,step =  advect_update()\n",
    "    \n",
    "    #running fault healing/addition, map back to swarm\n",
    "    if step % faults_update == 0:\n",
    "        update_faults()      \n",
    "#        update_swarm()\n",
    "    \n",
    "    \n",
    "    # output figure to file at intervals = steps_output\n",
    "    if step % steps_output == 0 or step == maxSteps-1:\n",
    "        #Important to set the timestep for the store object here or will overwrite previous step\n",
    "        store1.step = step\n",
    "        store2.step = step\n",
    "        figProx.save(    outputPath + \"proximity\"    + str(step).zfill(4))\n",
    "        figVisc.save(    outputPath + \"visc\"    + str(step).zfill(4))\n",
    "    \n",
    "    if uw.rank()==0:\n",
    "        print 'step = {0:6d}; time = {1:.3e}'.format(step,time)\n"
   ]
  },
  {
   "cell_type": "code",
   "execution_count": null,
   "metadata": {
    "collapsed": true,
    "deletable": true,
    "editable": true
   },
   "outputs": [],
   "source": []
  },
  {
   "cell_type": "code",
   "execution_count": null,
   "metadata": {
    "collapsed": true,
    "deletable": true,
    "editable": true
   },
   "outputs": [],
   "source": []
  },
  {
   "cell_type": "code",
   "execution_count": null,
   "metadata": {
    "collapsed": true,
    "deletable": true,
    "editable": true
   },
   "outputs": [],
   "source": []
  },
  {
   "cell_type": "code",
   "execution_count": null,
   "metadata": {
    "collapsed": true,
    "deletable": true,
    "editable": true
   },
   "outputs": [],
   "source": []
  }
 ],
 "metadata": {
  "kernelspec": {
   "display_name": "Python 2",
   "language": "python",
   "name": "python2"
  },
  "language_info": {
   "codemirror_mode": {
    "name": "ipython",
    "version": 2
   },
   "file_extension": ".py",
   "mimetype": "text/x-python",
   "name": "python",
   "nbconvert_exporter": "python",
   "pygments_lexer": "ipython2",
   "version": "2.7.9"
  }
 },
 "nbformat": 4,
 "nbformat_minor": 2
}
