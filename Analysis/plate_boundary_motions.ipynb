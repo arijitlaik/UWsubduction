{
 "cells": [
  {
   "cell_type": "code",
   "execution_count": 27,
   "metadata": {
    "collapsed": false,
    "deletable": true,
    "editable": true
   },
   "outputs": [
    {
     "name": "stdout",
     "output_type": "stream",
     "text": [
      "Populating the interactive namespace from numpy and matplotlib\n"
     ]
    }
   ],
   "source": [
    "%pylab inline\n",
    "import numpy as np\n",
    "\n",
    "import seaborn as sns\n",
    "import glob2\n",
    "import pandas as pd\n",
    "import h5py\n",
    "from scipy.ndimage.filters import gaussian_filter"
   ]
  },
  {
   "cell_type": "code",
   "execution_count": null,
   "metadata": {
    "collapsed": true,
    "deletable": true,
    "editable": true
   },
   "outputs": [],
   "source": []
  },
  {
   "cell_type": "code",
   "execution_count": 28,
   "metadata": {
    "collapsed": true,
    "deletable": true,
    "editable": true
   },
   "outputs": [],
   "source": [
    "def get_dataframe():\n",
    "    file_ = 'tect_model_data.npz'\n",
    "    out = np.load(file_)\n",
    "    d = dict(out)\n",
    "    df = pd.DataFrame.from_dict(d)\n",
    "    return df "
   ]
  },
  {
   "cell_type": "code",
   "execution_count": 29,
   "metadata": {
    "collapsed": false,
    "deletable": true,
    "editable": true
   },
   "outputs": [],
   "source": [
    "df = get_dataframe( )\n"
   ]
  },
  {
   "cell_type": "code",
   "execution_count": 30,
   "metadata": {
    "collapsed": false,
    "deletable": true,
    "editable": true
   },
   "outputs": [
    {
     "data": {
      "text/html": [
       "<div>\n",
       "<style>\n",
       "    .dataframe thead tr:only-child th {\n",
       "        text-align: right;\n",
       "    }\n",
       "\n",
       "    .dataframe thead th {\n",
       "        text-align: left;\n",
       "    }\n",
       "\n",
       "    .dataframe tbody tr th {\n",
       "        vertical-align: top;\n",
       "    }\n",
       "</style>\n",
       "<table border=\"1\" class=\"dataframe\">\n",
       "  <thead>\n",
       "    <tr style=\"text-align: right;\">\n",
       "      <th></th>\n",
       "      <th>(1, 1)</th>\n",
       "      <th>(1, 2)</th>\n",
       "      <th>(2, 3)</th>\n",
       "      <th>(3, 3)</th>\n",
       "      <th>stepAtSave</th>\n",
       "      <th>timeAtSave</th>\n",
       "    </tr>\n",
       "  </thead>\n",
       "  <tbody>\n",
       "    <tr>\n",
       "      <th>0</th>\n",
       "      <td>-0.862069</td>\n",
       "      <td>-0.034483</td>\n",
       "      <td>0.400000</td>\n",
       "      <td>0.862069</td>\n",
       "      <td>0</td>\n",
       "      <td>0.000000</td>\n",
       "    </tr>\n",
       "    <tr>\n",
       "      <th>1</th>\n",
       "      <td>-0.857570</td>\n",
       "      <td>-0.022450</td>\n",
       "      <td>0.386135</td>\n",
       "      <td>0.855913</td>\n",
       "      <td>10</td>\n",
       "      <td>0.000004</td>\n",
       "    </tr>\n",
       "    <tr>\n",
       "      <th>2</th>\n",
       "      <td>-0.852721</td>\n",
       "      <td>-0.024695</td>\n",
       "      <td>0.388380</td>\n",
       "      <td>0.848228</td>\n",
       "      <td>20</td>\n",
       "      <td>0.000007</td>\n",
       "    </tr>\n",
       "    <tr>\n",
       "      <th>3</th>\n",
       "      <td>-0.846965</td>\n",
       "      <td>-0.026940</td>\n",
       "      <td>0.388380</td>\n",
       "      <td>0.840360</td>\n",
       "      <td>30</td>\n",
       "      <td>0.000009</td>\n",
       "    </tr>\n",
       "    <tr>\n",
       "      <th>4</th>\n",
       "      <td>-0.840997</td>\n",
       "      <td>-0.026940</td>\n",
       "      <td>0.388380</td>\n",
       "      <td>0.831896</td>\n",
       "      <td>40</td>\n",
       "      <td>0.000011</td>\n",
       "    </tr>\n",
       "    <tr>\n",
       "      <th>5</th>\n",
       "      <td>-0.835124</td>\n",
       "      <td>-0.026940</td>\n",
       "      <td>0.390625</td>\n",
       "      <td>0.823756</td>\n",
       "      <td>50</td>\n",
       "      <td>0.000013</td>\n",
       "    </tr>\n",
       "    <tr>\n",
       "      <th>6</th>\n",
       "      <td>-0.828669</td>\n",
       "      <td>-0.029185</td>\n",
       "      <td>0.392870</td>\n",
       "      <td>0.815148</td>\n",
       "      <td>60</td>\n",
       "      <td>0.000014</td>\n",
       "    </tr>\n",
       "    <tr>\n",
       "      <th>7</th>\n",
       "      <td>-0.822277</td>\n",
       "      <td>-0.026940</td>\n",
       "      <td>0.392870</td>\n",
       "      <td>0.806419</td>\n",
       "      <td>70</td>\n",
       "      <td>0.000015</td>\n",
       "    </tr>\n",
       "    <tr>\n",
       "      <th>8</th>\n",
       "      <td>-0.815819</td>\n",
       "      <td>-0.029185</td>\n",
       "      <td>0.395115</td>\n",
       "      <td>0.797531</td>\n",
       "      <td>80</td>\n",
       "      <td>0.000016</td>\n",
       "    </tr>\n",
       "    <tr>\n",
       "      <th>9</th>\n",
       "      <td>-0.809500</td>\n",
       "      <td>-0.029185</td>\n",
       "      <td>0.395115</td>\n",
       "      <td>0.788562</td>\n",
       "      <td>90</td>\n",
       "      <td>0.000018</td>\n",
       "    </tr>\n",
       "    <tr>\n",
       "      <th>10</th>\n",
       "      <td>-0.803329</td>\n",
       "      <td>-0.031430</td>\n",
       "      <td>0.395115</td>\n",
       "      <td>0.779523</td>\n",
       "      <td>100</td>\n",
       "      <td>0.000019</td>\n",
       "    </tr>\n",
       "    <tr>\n",
       "      <th>11</th>\n",
       "      <td>-0.797448</td>\n",
       "      <td>-0.031430</td>\n",
       "      <td>0.397360</td>\n",
       "      <td>0.770687</td>\n",
       "      <td>110</td>\n",
       "      <td>0.000019</td>\n",
       "    </tr>\n",
       "    <tr>\n",
       "      <th>12</th>\n",
       "      <td>-0.791566</td>\n",
       "      <td>-0.031430</td>\n",
       "      <td>0.397360</td>\n",
       "      <td>0.761767</td>\n",
       "      <td>120</td>\n",
       "      <td>0.000020</td>\n",
       "    </tr>\n",
       "    <tr>\n",
       "      <th>13</th>\n",
       "      <td>-0.785543</td>\n",
       "      <td>-0.033675</td>\n",
       "      <td>0.399605</td>\n",
       "      <td>0.752923</td>\n",
       "      <td>130</td>\n",
       "      <td>0.000021</td>\n",
       "    </tr>\n",
       "  </tbody>\n",
       "</table>\n",
       "</div>"
      ],
      "text/plain": [
       "      (1, 1)    (1, 2)    (2, 3)    (3, 3)  stepAtSave  timeAtSave\n",
       "0  -0.862069 -0.034483  0.400000  0.862069           0    0.000000\n",
       "1  -0.857570 -0.022450  0.386135  0.855913          10    0.000004\n",
       "2  -0.852721 -0.024695  0.388380  0.848228          20    0.000007\n",
       "3  -0.846965 -0.026940  0.388380  0.840360          30    0.000009\n",
       "4  -0.840997 -0.026940  0.388380  0.831896          40    0.000011\n",
       "5  -0.835124 -0.026940  0.390625  0.823756          50    0.000013\n",
       "6  -0.828669 -0.029185  0.392870  0.815148          60    0.000014\n",
       "7  -0.822277 -0.026940  0.392870  0.806419          70    0.000015\n",
       "8  -0.815819 -0.029185  0.395115  0.797531          80    0.000016\n",
       "9  -0.809500 -0.029185  0.395115  0.788562          90    0.000018\n",
       "10 -0.803329 -0.031430  0.395115  0.779523         100    0.000019\n",
       "11 -0.797448 -0.031430  0.397360  0.770687         110    0.000019\n",
       "12 -0.791566 -0.031430  0.397360  0.761767         120    0.000020\n",
       "13 -0.785543 -0.033675  0.399605  0.752923         130    0.000021"
      ]
     },
     "execution_count": 30,
     "metadata": {},
     "output_type": "execute_result"
    }
   ],
   "source": [
    "df"
   ]
  },
  {
   "cell_type": "code",
   "execution_count": 31,
   "metadata": {
    "collapsed": true,
    "deletable": true,
    "editable": true
   },
   "outputs": [],
   "source": [
    "velScale = 3.4482758620689656e-13*(3600*24*365)*100.  #cm/y\n",
    "timeScale = 8.41e+18/(1e6*3600*24*365)    "
   ]
  },
  {
   "cell_type": "code",
   "execution_count": 32,
   "metadata": {
    "collapsed": false,
    "deletable": true,
    "editable": true
   },
   "outputs": [
    {
     "data": {
      "text/plain": [
       "Index([u'(1, 1)', u'(1, 2)', u'(2, 3)', u'(3, 3)', u'stepAtSave',\n",
       "       u'timeAtSave'],\n",
       "      dtype='object')"
      ]
     },
     "execution_count": 32,
     "metadata": {},
     "output_type": "execute_result"
    }
   ],
   "source": [
    "df.columns"
   ]
  },
  {
   "cell_type": "code",
   "execution_count": 33,
   "metadata": {
    "collapsed": false,
    "deletable": true,
    "editable": true
   },
   "outputs": [
    {
     "data": {
      "text/plain": [
       "[<matplotlib.lines.Line2D at 0x7fa0e9789b10>]"
      ]
     },
     "execution_count": 33,
     "metadata": {},
     "output_type": "execute_result"
    },
    {
     "data": {
      "image/png": "[encoded data removed]",
      "text/plain": [
       "<matplotlib.figure.Figure at 0x7fa0e98d6350>"
      ]
     },
     "metadata": {},
     "output_type": "display_data"
    }
   ],
   "source": [
    "fig = plt.figure(figsize=(8,8))\n",
    "\n",
    "ax = fig.add_subplot(211)\n",
    "\n",
    "\n",
    "ax.plot(df['timeAtSave']*timeScale, df['(1, 1)']*2900 - df['(1, 1)'][0]*2900, \n",
    "        marker='.',label  = '', ls = '-')\n",
    "\n",
    "\n",
    "ax.plot(df['timeAtSave']*timeScale, df['(3, 3)']*2900 - df['(3, 3)'][0]*2900, \n",
    "        marker='.',label  = '', ls = '-')\n",
    "\n",
    "ax.plot(df['timeAtSave']*timeScale, df['(1, 2)']*2900 - df['(1, 2)'][0]*2900, \n",
    "        marker='.',label  = '', ls = '--')\n",
    "\n",
    "ax.plot(df['timeAtSave']*timeScale, df['(2, 3)']*2900 - df['(2, 3)'][0]*2900, \n",
    "        marker='.',label  = '', ls = '--')"
   ]
  },
  {
   "cell_type": "code",
   "execution_count": null,
   "metadata": {
    "collapsed": true,
    "deletable": true,
    "editable": true
   },
   "outputs": [],
   "source": []
  }
 ],
 "metadata": {
  "kernelspec": {
   "display_name": "Python 2",
   "language": "python",
   "name": "python2"
  },
  "language_info": {
   "codemirror_mode": {
    "name": "ipython",
    "version": 2
   },
   "file_extension": ".py",
   "mimetype": "text/x-python",
   "name": "python",
   "nbconvert_exporter": "python",
   "pygments_lexer": "ipython2",
   "version": "2.7.9"
  }
 },
 "nbformat": 4,
 "nbformat_minor": 2
}
