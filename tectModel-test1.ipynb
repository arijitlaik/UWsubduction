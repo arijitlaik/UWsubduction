{
 "cells": [
  {
   "cell_type": "markdown",
   "metadata": {
    "deletable": true,
    "editable": true
   },
   "source": [
    "## Intro to TectModel"
   ]
  },
  {
   "cell_type": "code",
   "execution_count": 38,
   "metadata": {
    "collapsed": false,
    "deletable": true,
    "editable": true
   },
   "outputs": [],
   "source": [
    "#load in parent stuff\n",
    "\n",
    "import nb_load_stuff\n",
    "from tectModelClass import *"
   ]
  },
  {
   "cell_type": "code",
   "execution_count": 39,
   "metadata": {
    "collapsed": true,
    "deletable": true,
    "editable": true
   },
   "outputs": [],
   "source": [
    "#If run through Docker we'll point at the local 'unsupported dir.'\n",
    "#On hpc, the path should also include a directory holding the unsupported_dan.\n",
    "import os\n",
    "import sys\n",
    "\n",
    "if os.getcwd() == '/workspace/newSlab':\n",
    "    sys.path.append('../unsupported')\n",
    "\n",
    "#this does't actually need to be protected. More a reminder it's an interim measure\n",
    "try:\n",
    "    sys.path.append('../unsupported')\n",
    "except:\n",
    "    pass"
   ]
  },
  {
   "cell_type": "code",
   "execution_count": 40,
   "metadata": {
    "collapsed": false,
    "deletable": true,
    "editable": true
   },
   "outputs": [],
   "source": [
    "from unsupported_dan.utilities import *\n",
    "from unsupported_dan.utilities import *\n",
    "from unsupported_dan.interfaces.marker2D import markerLine2D, line_collection\n"
   ]
  },
  {
   "cell_type": "code",
   "execution_count": 41,
   "metadata": {
    "collapsed": true,
    "deletable": true,
    "editable": true
   },
   "outputs": [],
   "source": [
    "import numpy as np\n",
    "import underworld as uw\n",
    "from underworld import function as fn\n",
    "import glucifer\n",
    "from easydict import EasyDict as edict\n",
    "import networkx as nx\n",
    "import operator\n",
    "\n",
    "\n"
   ]
  },
  {
   "cell_type": "markdown",
   "metadata": {
    "deletable": true,
    "editable": true
   },
   "source": [
    "## Toy model"
   ]
  },
  {
   "cell_type": "code",
   "execution_count": 42,
   "metadata": {
    "collapsed": true,
    "deletable": true,
    "editable": true
   },
   "outputs": [],
   "source": [
    "mesh = uw.mesh.FeMesh_Cartesian( elementType = (\"Q1\"), \n",
    "                                 elementRes  = (96, 48), \n",
    "                                 minCoord    = (-1.0, 0.0), \n",
    "                                 maxCoord    = (1.0, 1.0) )\n",
    "\n",
    "\n",
    "temperatureField = uw.mesh.MeshVariable( mesh=mesh, nodeDofCount=1 )\n",
    "velocityField = uw.mesh.MeshVariable( mesh=mesh, nodeDofCount=2 )\n",
    "coordinate = fn.input()\n"
   ]
  },
  {
   "cell_type": "code",
   "execution_count": 43,
   "metadata": {
    "collapsed": false,
    "deletable": true,
    "editable": true
   },
   "outputs": [],
   "source": [
    "#toy model, 3 plates\n",
    "############################\n",
    "#-1        0.0  0.5    1.0\n",
    "######1##### ###2###  ##3##\n",
    "            #\n",
    "             #\n",
    "###########################\n",
    "\n",
    "tg = TectModel(mesh, 0, 20, 1)\n",
    "\n",
    "tg.add_plate(1, velocities = 1)\n",
    "tg.add_plate(2,velocities = -1)\n",
    "tg.add_plate(3, velocities = 0)\n",
    "        \n",
    "tg.add_left_boundary(1)\n",
    "tg.add_subzone(1, 2, 0.0, subInitAge=50.0, upperInitAge=10.0)\n",
    "tg.add_ridge(2, 3, 0.5)\n",
    "tg.add_right_boundary(3, 30.)"
   ]
  },
  {
   "cell_type": "code",
   "execution_count": 44,
   "metadata": {
    "collapsed": false,
    "deletable": true,
    "editable": true
   },
   "outputs": [
    {
     "data": {
      "text/plain": [
       "True"
      ]
     },
     "execution_count": 44,
     "metadata": {},
     "output_type": "execute_result"
    }
   ],
   "source": [
    "\n",
    "tg.is_subduction_boundary((1,2))"
   ]
  },
  {
   "cell_type": "code",
   "execution_count": 45,
   "metadata": {
    "collapsed": false,
    "deletable": true,
    "editable": true
   },
   "outputs": [],
   "source": [
    "#tg.is_subduction_boundary(2,1), tg.is_subduction_boundary(3,2)\n",
    "\n",
    "#tg.subduction_boundary_from_plate(3)\n",
    "#tg.is_subducting_plate(1)\n",
    "#\n",
    "#np.sort(tg.get_boundaries(1)).mean(),  np.sort(tg.get_boundaries(2)).mean()\n",
    "#tg.subduction_direction(1,2)\n",
    "\n",
    "#tg.subduction_boundary_from_plate(tg.subduction_direction(2,1))\n",
    "#tg.subduction_boundary_from_plate(tg.subduction_edge_order(2,1)[0])"
   ]
  },
  {
   "cell_type": "code",
   "execution_count": 46,
   "metadata": {
    "collapsed": false,
    "deletable": true,
    "editable": true
   },
   "outputs": [
    {
     "data": {
      "text/plain": [
       "False"
      ]
     },
     "execution_count": 46,
     "metadata": {},
     "output_type": "execute_result"
    }
   ],
   "source": [
    "plateId =1\n",
    "len(tg[plateId].keys()) == 1 and len(tg.undirected[plateId].keys()) ==2"
   ]
  },
  {
   "cell_type": "code",
   "execution_count": 47,
   "metadata": {
    "collapsed": false,
    "deletable": true,
    "editable": true
   },
   "outputs": [
    {
     "name": "stdout",
     "output_type": "stream",
     "text": [
      "2\n",
      "3\n"
     ]
    }
   ],
   "source": [
    "plateId = 3\n",
    "for b in tg.connected_plates(plateId ):\n",
    "    print(b)\n",
    "    if tg.has_edge(plateId, b) and tg.has_edge(b, plateId):\n",
    "        pass\n",
    "    else:\n",
    "        print(tg.subduction_direction(plateId, b))\n",
    "        break"
   ]
  },
  {
   "cell_type": "code",
   "execution_count": 48,
   "metadata": {
    "collapsed": false,
    "deletable": true,
    "editable": true
   },
   "outputs": [
    {
     "data": {
      "text/plain": [
       "[(2, 3)]"
      ]
     },
     "execution_count": 48,
     "metadata": {},
     "output_type": "execute_result"
    }
   ],
   "source": [
    "plateId = 2\n",
    "[i for i in tg.out_edges(plateId)]\n",
    "#[i for i in tg.in_edges(plateId)]\n"
   ]
  },
  {
   "cell_type": "code",
   "execution_count": 49,
   "metadata": {
    "collapsed": false,
    "deletable": true,
    "editable": true
   },
   "outputs": [
    {
     "data": {
      "text/plain": [
       "((1, 2), (2, 3))"
      ]
     },
     "execution_count": 49,
     "metadata": {},
     "output_type": "execute_result"
    }
   ],
   "source": [
    "tg.in_edges(plateId)[0], tg.out_edges(plateId)[0]"
   ]
  },
  {
   "cell_type": "code",
   "execution_count": 56,
   "metadata": {
    "collapsed": false
   },
   "outputs": [
    {
     "data": {
      "text/plain": [
       "{0: <underworld.function.misc.constant at 0x7fc9a75cc810>,\n",
       " 1: <underworld.function._function.add at 0x7fc9a9621f90>,\n",
       " 2: <underworld.function._function.add at 0x7fc9a9626690>,\n",
       " 3: <underworld.function._function.add at 0x7fc9a9626d50>}"
      ]
     },
     "execution_count": 56,
     "metadata": {},
     "output_type": "execute_result"
    }
   ],
   "source": [
    "#pAgeDict"
   ]
  },
  {
   "cell_type": "code",
   "execution_count": 50,
   "metadata": {
    "collapsed": false,
    "deletable": true,
    "editable": true
   },
   "outputs": [
    {
     "data": {
      "text/html": [
       "<img src='data:image/png;base64,iVBORw0KGgoAAAANSUhEUgAAAZAAAADICAIAAABJdyC1AAAD8UlEQVR4nO3dS05cRxiA0fpb3ohn8Ta8gGzMA+/MIjvwLJlk4JlnlUFCAghicFDKH5wjBtXoPqqR+tN96Daz914ABZfTEwB4LMECMgQLyBAsIEOwgAzBAjIEC8gQLCBDsIAMwQIyBAvIECwgQ7CADMECMgQLyBAsIEOwgAzBAjIEC8gQLCBDsIAMwQIyBAvIECwgQ7CADMECMgQLyBAsIEOwgAzBAjIEC8gQLCDjzekJPKeZOT0F+OHsvU9P4dm8nGDNzE8fr07PgrXWev/2y8/vfn//9svpifw3X79ePl1dPv0yv/52eirfbz58Pj2F5+SUEMgQLCBDsIAMwQIyBAvIECwgQ7CADMECMgQLyBAsIEOwgAzBAjIEC8gQLCBDsIAMwQIyBAvIECwgQ7CADMECMgQLyBAsIEOwgAzBAjIEC8gQLCBDsIAMwQIyBAvIECwgQ7CADMECMgQLyBAsIEOwgAzBAjIEC8gQLCBDsIAMwQIyBAvIECwgQ7CADMECMgQLyBAsIEOwgAzBAjIEC8gQLCBDsIAMwQIyBAvIECwgQ7CADMECMgQLyBAsIEOwgAzBAjIEC8gQLCBDsIAMwQIyBAvIECwgQ7CADMECMgQLyBAsIEOwgAzBAjIEC8gQLCBDsIAMwQIyBAvIECwgQ7CADMECMgQLyBAsIEOwgAzBAjIEC8gQLCBDsIAMwQIyBAvIECwgQ7CADMECMgQLyBAsIEOwgAzBAjIEC8gQLCBDsIAMwQIyBAvIECwgQ7CADMECMgQLyBAsIEOwgAzBAjIEC8gQLCBDsIAMwQIyBAvIECwgQ7CADMECMgQLyBAsIEOwgAzBAjIEC8gQLCBDsIAMwQIyBAvIECwgQ7CADMECMgQLyBAsIGP23qfn8Dxm5vQU4Ef0Yj7j6yUFC3jxnBICGYIFZAgWkCFYQMabI3t1Rw/qjtyvOxOstda7j1cza2Zf1npoMGtdZs2sWfvu4J7l12XtO4MbK67L7EcMbu731mDmUYtdHp75zLrcGqyZ/YjBP/v99mLfHvw1gXv/XJe1ZvatwcMzv3/568Gstfa+8bPWuv1y7xu/uV547bXXfOeKN15eb+pJ25n7V9zrCe/lXybw4HZm3173Od7LY7Yzdzf1+Ans+fD5SDecEgIZggVkCBaQIVhAhmABGYIFZAgWkCFYQIZgARlnvg/LozlQ97oezfHFgdB16pjDKSGQIVhAhmABGf4JBZBx5gjLXULomplXdNFdraBrZvbee+8jH+QDwXISCl1nP78uugNP9udx1v+/X8ECnuwVnRICXWevQR97NAco+vvY6sxjyC6BAxVOCYEMwQIyBAvIECwg4w+9FoGdSnKRGwAAAABJRU5ErkJggg=='>"
      ],
      "text/plain": [
       "<IPython.core.display.HTML object>"
      ]
     },
     "metadata": {},
     "output_type": "display_data"
    }
   ],
   "source": [
    "#for n in tg.nodes():\n",
    "#    print(n)\n",
    "#    bounds  = np.sort(tg.get_boundaries(n))\n",
    "#    print('plate {}'.format(n), bounds)\n",
    "    \n",
    "    \n",
    "pIdFn = tg.plate_id_fn()\n",
    "pAgeDict = tg.plate_age_fn() \n",
    "\n",
    "fnAge_map = fn.branching.map(fn_key = pIdFn , \n",
    "                          mapping = pAgeDict )\n",
    "\n",
    "fig = glucifer.Figure(figsize=(400, 200))\n",
    "fig.append( glucifer.objects.Surface(tg.mesh, pIdFn ))\n",
    "fig.show()"
   ]
  },
  {
   "cell_type": "code",
   "execution_count": 51,
   "metadata": {
    "collapsed": false,
    "deletable": true,
    "editable": true
   },
   "outputs": [],
   "source": [
    "#combMaskFn = operator.or_(RboundMaskFn, SboundMaskFn )"
   ]
  },
  {
   "cell_type": "code",
   "execution_count": 52,
   "metadata": {
    "collapsed": false,
    "deletable": true,
    "editable": true
   },
   "outputs": [
    {
     "data": {
      "text/html": [
       "<img src='data:image/png;base64,iVBORw0KGgoAAAANSUhEUgAAAZAAAADICAIAAABJdyC1AAAEIUlEQVR4nO3dTW4TSQCA0SoLJAjiDsOOOQH73CCHmVOw4Cg5ATnDLNnBHRCwQKLYTMCJksFBFs0X3lMWZau7XI7kT+7231xrDYCC3dYLADiUYAEZggVkCBaQIVhAhmABGYIFZAgWkCFYQIZgARmCBWQIFpAhWECGYAEZggVkCBaQIVhAhmABGYIFZAgWkCFYQIZgARmCBWQIFpAhWECGYAEZggVkCBaQIVhAhmABGYIFZAgWkPFg6wUc05xz6yXAb2ettfUSjub+BGvOuf75a/+a97sn549Pz09O3zx8ttGi7pWnXz6cfbo4+3jx/PPbo0z45uGz85PT88en73dPjjLhzzn8fr1+9OL85PT1oxe/ZmF39fzz27OPF2efLp5++fDtyvny3XYrOj6HhECGYAEZggVkCBaQIVhAhmABGYIFZAgWkCFYQIZgARmCBWQIFpAhWECGYAEZggVkCBaQIVhAhmABGYIFZAgWkCFYQIZgARmCBWQIFpAhWECGYAEZggVkCBaQIVhAhmABGYIFZAgWkCFYQIZgARmCBWQIFpAhWECGYAEZggVkCBaQIVhAhmABGYIFZAgWkCFYQIZgARmCBWQIFpAhWECGYAEZggVkCBaQIVhAhmABGYIFZAgWkCFYQIZgARmCBWQIFpAhWECGYAEZggVkCBaQIVhAhmABGYIFZAgWkCFYQIZgARmCBWQIFpAhWECGYAEZggVkCBaQIVhAhmABGYIFZAgWkCFYQIZgARmCBWQIFpAhWECGYAEZggVkCBaQIVhAhmABGYIFZAgWkCFYQIZgARmCBWQIFpAhWECGYAEZggVkCBaQIVhAhmABGYIFZAgWkCFYQIZgARmCBWQIFpAhWECGYAEZggVkCBaQIVhAhmABGYIFZAgWkCFYQIZgARmCBWQIFpAhWECGYAEZggVkCBaQIVhAhmABGYIFZAgWkCFYQIZgARlzrbX1Go5jzrn1EuB3dG8e4+M+BQu49xwSAhmCBWQIFpAhWEDGg01u1St6ULfJ63XbBGuM8ferf+ccc67dGLcN5hi7OeYcc6zrgxu2H7uxrg32dhy7uQ4Y7N/ulcGcB222u33lc47dlcGYcx0w+H67P97sx4P/FnDjv2s3xpzryuD2ld+8/eVgjjHW2vsbY1y9uNbeNZcbjzXWmD+5497Fy6nuNM+8ecc17nBf/mcBt84z19V9j3FfDplnXp/q8AWs+fLdJt1wSAhkCBaQIVhAhmABGYIFZAgWkCFYQIZgARmCBWRs831YPpoDdX/WR3N8cSB0bfWcwyEhkCFYQIZgARl+hALI2OAZ1pzTq4SQ9qecdJ9zrrXWWpoFURs+eJ3DAu5mw/NIggVkCBaQIVhAxq/+aM630+3eTgHclfdhARkOCYEMwQIyBAvIECwg4ys+qJCd8ik1YgAAAABJRU5ErkJggg=='>"
      ],
      "text/plain": [
       "<IPython.core.display.HTML object>"
      ]
     },
     "metadata": {},
     "output_type": "display_data"
    }
   ],
   "source": [
    "boundMaskFn = tg.plate_boundary_mask_fn(0.1)\n",
    "RboundMaskFn = tg.ridge_mask_fn(0.05)\n",
    "SboundMaskFn = tg.subduction_mask_fn(0.1)\n",
    "\n",
    "#We can 'add' these mask functions like so\n",
    "boundMaskFn = tg.combine_mask_fn(RboundMaskFn, SboundMaskFn )\n",
    "\n",
    "fig = glucifer.Figure(figsize=(400, 200))\n",
    "fig.append( glucifer.objects.Surface(tg.mesh, boundMaskFn ))\n",
    "fig.show()"
   ]
  },
  {
   "cell_type": "code",
   "execution_count": 55,
   "metadata": {
    "collapsed": false
   },
   "outputs": [],
   "source": [
    "#boundMaskFn.evaluate(mesh)"
   ]
  },
  {
   "cell_type": "code",
   "execution_count": 37,
   "metadata": {
    "collapsed": false,
    "deletable": true,
    "editable": true
   },
   "outputs": [
    {
     "data": {
      "text/html": [
       "<img src='data:image/png;base64,iVBORw0KGgoAAAANSUhEUgAAAZAAAADICAIAAABJdyC1AAAET0lEQVR4nO3dO25dRQCA4ZkrEymQIFGBSAU0oaOADSQLAJbCOiiylMAG6CMoUqYB0RBBhUQiiAAxFIkV27ITG1k++c33ycXcq/OYa+v8Oue+PNdaA6Bgt/UEAE5LsIAMwQIyBAvIECwgQ7CADMECMgQLyBAsIEOwgAzBAjIEC8gQLCBDsIAMwQIyBAvIECwgQ7CADMECMgQLyBAsIEOwgAzBAjIEC8gQLCBDsIAMwQIyBAvIECwgQ7CADMECMgQLyNjbegLnac659RTglbPW2noK5+byBGvOefPO/YP3XN375+Mbjz+58ejdN//calaXyR9/7b57eO3bn64//O3KuWzw5rVfP337+8/e+eH63pZ/oEd/X/nq5/e//uWDB4/fevGSt5/c+/z3b24/uXcxEzurB6+9d/f1W3ev3nq0e+P5nV98tOGUzp1LQiBDsIAMwQIyBAvIECwgQ7CADMECMgQLyBAsIEOwgAzBAjIEC8gQLCBDsIAMwQIyBAvIECwgQ7CADMECMgQLyBAsIEOwgAzBAjIEC8gQLCBDsIAMwQIyBAvIECwgQ7CADMECMgQLyBAsIEOwgAzBAjIEC8gQLCBDsIAMwQIyBAvIECwgQ7CADMECMgQLyBAsIEOwgAzBAjIEC8gQLCBDsIAMwQIyBAvIECwgQ7CADMECMgQLyBAsIEOwgAzBAjIEC8gQLCBDsIAMwQIyBAvIECwgQ7CADMECMgQLyBAsIEOwgAzBAjIEC8gQLCBDsIAMwQIyBAvIECwgQ7CADMECMgQLyBAsIEOwgAzBAjIEC8gQLCBDsIAMwQIyBAvIECwgQ7CADMECMgQLyBAsIEOwgAzBAjIEC8gQLCBDsIAMwQIyBAvIECwgQ7CADMECMgQLyBAsIEOwgAzBAjIEC8gQLCBDsIAMwQIyBAvIECwgQ7CADMECMgQLyBAsIEOwgAzBAjIEC8gQLCBDsIAMwQIyBAvIECwgQ7CADMECMgQLyBAsIEOwgIy51tp6Dudjzrn1FOBVdGmO8XGZggVcei4JgQzBAjIEC8gQLCBjb5O9ekUP6jZ5vW6bYI0xPrxzf84x59qNcdJgjrGbY84xxzo6OGb5sRvryODAimM31ykGB/d7aDDnqRbbnTzzOcfu0GDMuU4xeL7fly/28sGzCRz769qNMec6NDh55scvvz+YY4y1DvyMMQ7fXOvAPfsLjzXWmP9xxQM39zd1pu3M41dc4wyP5QUTOHE7cx1e9zwey2m2M49u6vQTWPPLHzfphktCIEOwgAzBAjIEC8gQLCBDsIAMwQIyBAvIECwgY5vvw/LRHKj7f300xxcHQtdW5xwuCYEMwQIyBAvI8E8ogIwNzrDmnF4lhK4ND+GLDtacc6211tIsKNr2EPYcFnAG2z6JJFjAmT09z7r4/QoWcGYuCYGAbZ993uC87ukD9nYKiNrwEPY+LCDDJSGQIVhAhmABGYIFZPwLu4uenT146KgAAAAASUVORK5CYII='>"
      ],
      "text/plain": [
       "<IPython.core.display.HTML object>"
      ]
     },
     "metadata": {},
     "output_type": "display_data"
    }
   ],
   "source": [
    "#We can also have  masked Plate Function \n",
    "\n",
    "maskedPlateIdFn = tg.plate_id_fn(maskFn=boundMaskFn)\n",
    "fig = glucifer.Figure(figsize=(400, 200))\n",
    "fig.append( glucifer.objects.Surface(tg.mesh, maskedPlateIdFn , valueRange = [0, 3] ))\n",
    "fig.show()"
   ]
  },
  {
   "cell_type": "code",
   "execution_count": 17,
   "metadata": {
    "collapsed": false,
    "deletable": true,
    "editable": true
   },
   "outputs": [],
   "source": [
    "#loc = tg.get_edge_data( *tg.edges()[0])['loc']\n",
    "#velocityField.evaluate_global((loc,1.0))"
   ]
  },
  {
   "cell_type": "code",
   "execution_count": 18,
   "metadata": {
    "collapsed": false,
    "deletable": true,
    "editable": true
   },
   "outputs": [
    {
     "data": {
      "text/plain": [
       "([1, 2, 3], [(1, 1), (1, 2), (2, 3), (3, 2), (3, 3)])"
      ]
     },
     "execution_count": 18,
     "metadata": {},
     "output_type": "execute_result"
    }
   ],
   "source": [
    "tg.nodes(), tg.edges()\n"
   ]
  },
  {
   "cell_type": "code",
   "execution_count": 19,
   "metadata": {
    "collapsed": true,
    "deletable": true,
    "editable": true
   },
   "outputs": [],
   "source": [
    "#uw.systems.SwarmAdvector?"
   ]
  },
  {
   "cell_type": "code",
   "execution_count": 20,
   "metadata": {
    "collapsed": false,
    "deletable": true,
    "editable": true
   },
   "outputs": [
    {
     "name": "stdout",
     "output_type": "stream",
     "text": [
      "(True, False)\n",
      "(True, False)\n",
      "(False, True)\n",
      "(False, True)\n",
      "(True, False)\n",
      "(True, False)\n",
      "(True, False)\n",
      "(True, False)\n"
     ]
    }
   ],
   "source": [
    "\n",
    "#We can traverse the undirect graph and use these functions to query the underlying directed data structue\n",
    "for e in tg.undirected.edges():\n",
    "    print(tg.is_ridge(e), tg.is_subduction_boundary(e))\n",
    "    e = (e[1], e[0])\n",
    "    print(tg.is_ridge(e), tg.is_subduction_boundary(e))"
   ]
  },
  {
   "cell_type": "code",
   "execution_count": 24,
   "metadata": {
    "collapsed": false
   },
   "outputs": [
    {
     "data": {
      "text/html": [
       "<img src='data:image/png;base64,iVBORw0KGgoAAAANSUhEUgAAAZAAAADICAIAAABJdyC1AAAD8klEQVR4nO3dQW4bVRzA4fe3ygIqDsGu7DhDb9CjcI4uepTeoGfosju4AwIWSDw2BOKQUAdZTH/p9ymL52jm+TmSf/LM2M7svRdAwenoBQBcSrCADMECMgQLyBAsIEOwgAzBAjIEC8gQLCBDsIAMwQIyBAvIECwgQ7CADMECMgQLyBAsIEOwgAzBAjIEC8gQLCBDsIAMwQIyBAvIECwgQ7CADMECMgQLyBAsIEOwgAzBAjIEC8h4dvQCrmlmjl4CfHL23kcv4WqeTrBm5sWb90ev4in7+vefX/367tUv71789sNVJvzwxTdvv3r59suXP52eX2VC/unD998dvYRrckgIZAgWkCFYQIZgARmCBWQIFpAhWECGYAEZggVkCBaQIVhAhmABGYIFZAgWkCFYQIZgARmCBWQIFpAhWECGYAEZggVkCBaQIVhAhmABGYIFZAgWkCFYQIZgARmCBWQIFpAhWECGYAEZggVkCBaQIVhAhmABGYIFZAgWkCFYQIZgARmCBWQIFpAhWECGYAEZggVkCBaQIVhAhmABGYIFZAgWkCFYQIZgARmCBWQIFpAhWECGYAEZggVkCBaQIVhAhmABGYIFZAgWkCFYQIZgARmCBWQIFpAhWECGYAEZggVkCBaQIVhAhmABGYIFZAgWkCFYQIZgARmCBWQIFpAhWECGYAEZggVkCBaQIVhAhmABGYIFZAgWkCFYQIZgARmCBWQIFpAhWECGYAEZggVkCBaQIVhAhmABGYIFZAgWkCFYQIZgARmCBWQIFpAhWECGYAEZggVkCBaQIVhAhmABGYIFZAgWkCFYQIZgARmCBWQIFpAhWECGYAEZggVkCBaQIVhAhmABGYIFZAgWkCFYQIZgARmCBWQIFpAhWECGYAEZggVkCBaQMXvvo9dwHTNz9BLgU/RknuPrKQULePIcEgIZggVkCBaQIVhAxrND7tUVPag75HrdMcFaa3375v3MmtmntR4azFqnWTNr1r47uGf7dVr7zuDWjus0+4LB7fs9G8xctNnp4ZXPrNPZYM3sCwZ/3+/HN/v44M8F3PvnOq01s88GD6/8/u1vBrPW2vvWz1rr/Obet35zs/Haa6/5jzveunkz1aPmmft33OsRj+VfFvDgPLPP973GY7lknrk71eUL2PP6x0O64ZAQyBAsIEOwgAzBAjIEC8gQLCBDsIAMwQIyBAvIOOb7sHw0B+o+r4/m+OJA6DrqNYdDQiBDsIAMwQIy/BMKIOOAV1gz4yohpH0uJ91nZu+999YsiDrwyescFvA4B55HEiwgQ7CADMECMv7vj+b8dbrd2ymAx/I+LCDDISGQIVhAhmABGYIFZPwBV/Z5nfwzJeQAAAAASUVORK5CYII='>"
      ],
      "text/plain": [
       "<IPython.core.display.HTML object>"
      ]
     },
     "metadata": {},
     "output_type": "display_data"
    }
   ],
   "source": [
    "#Can also specify a single plate boundary\n",
    "\n",
    "boundMaskFn2 = tg.plate_boundary_mask_fn(0.1, bound=(1,2))\n",
    "\n",
    "\n",
    "fig = glucifer.Figure(figsize=(400, 200))\n",
    "fig.append( glucifer.objects.Surface(tg.mesh, boundMaskFn2 ))\n",
    "fig.show()"
   ]
  },
  {
   "cell_type": "markdown",
   "metadata": {
    "collapsed": false,
    "deletable": true,
    "editable": true
   },
   "source": [
    "## Integration test"
   ]
  },
  {
   "cell_type": "code",
   "execution_count": 26,
   "metadata": {
    "collapsed": false,
    "deletable": true,
    "editable": true
   },
   "outputs": [],
   "source": [
    "velocityField.data[:,0] =   tg.xFn.evaluate(mesh)[:,0] - tg.minX"
   ]
  },
  {
   "cell_type": "code",
   "execution_count": 29,
   "metadata": {
    "collapsed": false,
    "deletable": true,
    "editable": true
   },
   "outputs": [
    {
     "data": {
      "text/html": [
       "<img src='data:image/png;base64,iVBORw0KGgoAAAANSUhEUgAAAZAAAADICAIAAABJdyC1AAAD1klEQVR4nO3dPW5jVRiA4fNZU4xYBS0d3fTsiIJVULAUVjB7mJKSnRwaAk6UMA6y5sybeR6lOI6urz9H8ivf65/M3nsBFFxODwBwK8ECMgQLyBAsIEOwgAzBAjIEC8gQLCBDsIAMwQIyBAvIECwgQ7CADMECMgQLyBAsIEOwgAzBAjIEC8gQLCBDsIAMwQIyBAvIECwgQ7CADMECMgQLyBAsIEOwgAzBAjIEC8gQLCDj3ekB7mlmTo8AX5299+kR7ubtBGtm9i/fn56Ctdb6+P7D79/99PH9h9ODsP74+cfTI9yTQ0IgQ7CADMECMgQLyBAsIEOwgAzBAjIEC8gQLCBDsIAMwQIyBAvIECwgQ7CADMECMgQLyBAsIEOwgAzBAjIEC8gQLCBDsIAMwQIyBAvIECwgQ7CADMECMgQLyBAsIEOwgAzBAjIEC8gQLCBDsIAMwQIyBAvIECwgQ7CADMECMgQLyBAsIEOwgAzBAjIEC8gQLCBDsIAMwQIyBAvIECwgQ7CADMECMgQLyBAsIEOwgAzBAjIEC8gQLCBDsIAMwQIyBAvIECwgQ7CADMECMgQLyBAsIEOwgAzBAjIEC8gQLCBDsIAMwQIyBAvIECwgQ7CADMECMgQLyBAsIEOwgAzBAjIEC8gQLCBDsIAMwQIyBAvIECwgQ7CADMECMgQLyBAsIEOwgAzBAjIEC8gQLCBDsIAMwQIyBAvIECwgQ7CADMECMgQLyBAsIEOwgAzBAjIEC8gQLCBDsIAMwQIyBAvIECwgQ7CADMECMgQLyBAsIEOwgAzBAjIEC8gQLCBDsIAMwQIyBAvIECwgQ7CADMECMgQLyBAsIEOwgAzBAjIEC8gQLCBDsICM2XufnuE+Zub0CPA1ejOP8fWWggW8eQ4JgQzBAjIEC8gQLCDj3ZFb9Yoe1B15ve5MsNZaP/z2aWbN7MtaLy1mrcusmTVrP108s/26rP1kcXXFdZl9w+L6dh8tZm7a7PLy5DPr8mixZvYNi39v9/ObfX7x9wDP/rkua83sR4uXJ39++4fFrLX2vvpZaz2+uPfVbx42XnvtNf/zilcXH3b1qv3M81fc6xX35T8GeHE/sx9f9x735Zb9zNNd3T7Anl//PNINh4RAhmABGYIFZAgWkCFYQIZgARmCBWQIFpAhWEDGme/D8tEcqPu2PprjiwOh69RzDoeEQIZgARmCBWT4JxRAxoFnWDPjVUJI+1ZOus/M3nvvrVkQdfDB6xwW8DoHzyMJFpAhWECGYAEZX/qjOf+cbvd2CuC1vA8LyHBICGQIFpAhWECGYAEZfwFjcnCdXYxL+AAAAABJRU5ErkJggg=='>"
      ],
      "text/plain": [
       "<IPython.core.display.HTML object>"
      ]
     },
     "metadata": {},
     "output_type": "display_data"
    }
   ],
   "source": [
    "fig = glucifer.Figure(figsize=(400, 200))\n",
    "fig.append( glucifer.objects.Surface(tg.mesh, fn2 ))\n",
    "fig.show()"
   ]
  },
  {
   "cell_type": "code",
   "execution_count": 35,
   "metadata": {
    "collapsed": false,
    "deletable": true,
    "editable": true
   },
   "outputs": [],
   "source": [
    "#_surfLength  = uw.utils.Integral( boundMaskFn2, mesh=mesh, integrationType='Surface', surfaceIndexSet=tWalls)\n",
    "#surfLength = _surfLength.evaluate()"
   ]
  },
  {
   "cell_type": "code",
   "execution_count": 30,
   "metadata": {
    "collapsed": true,
    "deletable": true,
    "editable": true
   },
   "outputs": [],
   "source": [
    "#Setup some mask Fns\n",
    "\n",
    "conds1 = [ (         tg.xFn > 0.5,  1.),\n",
    "                   (                                                   True , 0.) ]\n",
    "\n",
    "\n",
    "conds2 = [ (         tg.xFn <= 0,  1.),\n",
    "                   (       True , 0.) ]\n",
    "\n",
    "fn1 = fn.branching.conditional(conds1 )\n",
    "fn2 = fn.branching.conditional(conds2)\n",
    "\n",
    "\n",
    "fnvector = [fn1, fn2]"
   ]
  },
  {
   "cell_type": "code",
   "execution_count": 31,
   "metadata": {
    "collapsed": false,
    "deletable": true,
    "editable": true
   },
   "outputs": [],
   "source": [
    "tWalls=mesh.specialSets[\"MaxJ_VertexSet\"]\n",
    "_surfLength  = uw.utils.Integral( fnvector, mesh=mesh, integrationType='Surface', surfaceIndexSet=tWalls)\n",
    "surfLength = _surfLength.evaluate()"
   ]
  },
  {
   "cell_type": "code",
   "execution_count": 32,
   "metadata": {
    "collapsed": false,
    "deletable": true,
    "editable": true
   },
   "outputs": [
    {
     "data": {
      "text/plain": [
       "[0.5000000000000003, 1.000000000000001]"
      ]
     },
     "execution_count": 32,
     "metadata": {},
     "output_type": "execute_result"
    }
   ],
   "source": [
    "surfLength"
   ]
  },
  {
   "cell_type": "code",
   "execution_count": 33,
   "metadata": {
    "collapsed": false,
    "deletable": true,
    "editable": true
   },
   "outputs": [],
   "source": [
    "#_mmVxSurf = fn.view.min_max(fn1, fn_auxiliary=tg.xFn )\n",
    "#dummyFn = _mmVxSurf.evaluate(tWalls)"
   ]
  },
  {
   "cell_type": "code",
   "execution_count": 38,
   "metadata": {
    "collapsed": false,
    "deletable": true,
    "editable": true
   },
   "outputs": [],
   "source": [
    "#_mmVxSurf.max_global(), _mmVxSurf.max_global_auxiliary()"
   ]
  },
  {
   "cell_type": "code",
   "execution_count": 28,
   "metadata": {
    "collapsed": true,
    "deletable": true,
    "editable": true
   },
   "outputs": [],
   "source": [
    "testFn = tg.xFn <= 0"
   ]
  },
  {
   "cell_type": "code",
   "execution_count": 32,
   "metadata": {
    "collapsed": false
   },
   "outputs": [],
   "source": [
    "test2 = operator.and_(testFn, testFn )"
   ]
  },
  {
   "cell_type": "code",
   "execution_count": null,
   "metadata": {
    "collapsed": true
   },
   "outputs": [],
   "source": [
    "operator."
   ]
  }
 ],
 "metadata": {
  "kernelspec": {
   "display_name": "Python 2",
   "language": "python",
   "name": "python2"
  },
  "language_info": {
   "codemirror_mode": {
    "name": "ipython",
    "version": 2
   },
   "file_extension": ".py",
   "mimetype": "text/x-python",
   "name": "python",
   "nbconvert_exporter": "python",
   "pygments_lexer": "ipython2",
   "version": "2.7.9"
  }
 },
 "nbformat": 4,
 "nbformat_minor": 2
}
